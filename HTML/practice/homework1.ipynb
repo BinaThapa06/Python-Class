{
 "cells": [
  {
   "cell_type": "markdown",
   "id": "1b760b1d",
   "metadata": {},
   "source": [
    "## Create a simple User Management System where users can:\n",
    "## Register by providing a name, email, address and password.\n",
    "```\n",
    "using email and password.\n",
    "once logged in.\n",
    "All user data should be in the following format:\n",
    "name, email, address, password\n",
    "````"
   ]
  },
  {
   "cell_type": "code",
   "execution_count": 1,
   "id": "1e8274e2",
   "metadata": {},
   "outputs": [
    {
     "name": "stdout",
     "output_type": "stream",
     "text": [
      "User registered successfully!\n",
      "Welcome, Bina Thapa!\n"
     ]
    }
   ],
   "source": [
    "class Users:\n",
    "    def __init__(self, name, email, address, password):\n",
    "        self.__name = name\n",
    "        self.__email = email\n",
    "        self.__address = address\n",
    "        self.__password = password\n",
    "\n",
    "        \n",
    "    def get_data(self):\n",
    "        return{\"name\":self.__name, \"email\":self.__email, \"address\":self.__address}\n",
    "\n",
    "class UserManagementSystem:\n",
    "    def __init__(self):\n",
    "        self.users = {}\n",
    "\n",
    "    def register_user(self, name, email, address, password):\n",
    "        if email in self.users:\n",
    "            return \"Email already registered. Please use a different email.\"\n",
    "        self.users[email] = Users(name, email, address, password)\n",
    "        return \"User registered successfully!\"\n",
    "\n",
    "    def login_user(self, email, password):\n",
    "        user = self.users.get(email)\n",
    "        if user and user._Users__password == password:  # Accessing private attribute\n",
    "            return f\"Welcome, {user.get_data()['name']}!\"\n",
    "        return \"Invalid email or password.\"\n",
    "\n",
    "# Example Usage\n",
    "u = UserManagementSystem()\n",
    "print(u.register_user(\"Bina Thapa\", \"bina.thapa@gmail.com\", \"New Thimi\", \"123@\"))\n",
    "print(u.login_user(\"bina.thapa@gmail.com\", \"123@\"))\n",
    "\n",
    "\n",
    "        "
   ]
  },
  {
   "cell_type": "code",
   "execution_count": null,
   "id": "4aa3d3d7",
   "metadata": {},
   "outputs": [],
   "source": []
  }
 ],
 "metadata": {
  "kernelspec": {
   "display_name": "Python 3",
   "language": "python",
   "name": "python3"
  },
  "language_info": {
   "codemirror_mode": {
    "name": "ipython",
    "version": 3
   },
   "file_extension": ".py",
   "mimetype": "text/x-python",
   "name": "python",
   "nbconvert_exporter": "python",
   "pygments_lexer": "ipython3",
   "version": "3.10.11"
  }
 },
 "nbformat": 4,
 "nbformat_minor": 5
}
