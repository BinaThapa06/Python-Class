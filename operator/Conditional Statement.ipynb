{
 "cells": [
  {
   "cell_type": "markdown",
   "id": "ac65b319-37e4-4924-a564-d2ace154cc4d",
   "metadata": {},
   "source": [
    "#  Conditional Statements\n",
    "```\n",
    "if\n",
    "elif\n",
    "else\n",
    "```"
   ]
  },
  {
   "cell_type": "code",
   "execution_count": 1,
   "id": "d70d37c0-ba41-4ce0-aba2-319a70b8919c",
   "metadata": {},
   "outputs": [],
   "source": [
    "n = 5\n",
    "if n > 5:\n",
    "    print(f\"{n} is greater than 5.\")\n",
    "    "
   ]
  },
  {
   "cell_type": "code",
   "execution_count": 2,
   "id": "dd64fb6d-3987-459e-8909-322b999da27b",
   "metadata": {},
   "outputs": [
    {
     "name": "stdout",
     "output_type": "stream",
     "text": [
      "5 is greater than 5.\n"
     ]
    }
   ],
   "source": [
    "n = 5\n",
    "if n >= 5:\n",
    "    print(f\"{n} is greater than 5.\")"
   ]
  },
  {
   "cell_type": "code",
   "execution_count": 3,
   "id": "fb7be002-0ee8-4f2a-a143-bbe296c89354",
   "metadata": {},
   "outputs": [
    {
     "name": "stdout",
     "output_type": "stream",
     "text": [
      "6 is greater than 5.\n"
     ]
    }
   ],
   "source": [
    "n = 6\n",
    "if n >= 5:\n",
    "    print(f\"{n} is greater than 5.\")"
   ]
  },
  {
   "cell_type": "code",
   "execution_count": 5,
   "id": "4e000802-6c75-402a-bd86-4ba8fb861015",
   "metadata": {},
   "outputs": [
    {
     "name": "stdout",
     "output_type": "stream",
     "text": [
      "6 is greater than 5.\n",
      "outside of stmt\n"
     ]
    }
   ],
   "source": [
    "n = 6\n",
    "if n >= 5:\n",
    "    print(f\"{n} is greater than 5.\")\n",
    "print(\"outside of stmt\")"
   ]
  },
  {
   "cell_type": "code",
   "execution_count": 6,
   "id": "e0a9a758-26eb-4306-a3c4-b002fe2a99ce",
   "metadata": {},
   "outputs": [
    {
     "name": "stdout",
     "output_type": "stream",
     "text": [
      "5 is greater than 5.\n",
      "outside of stmt\n"
     ]
    }
   ],
   "source": [
    "n = 5\n",
    "if n >= 5:\n",
    "    print(f\"{n} is greater than 5.\")\n",
    "print(\"outside of stmt\")"
   ]
  },
  {
   "cell_type": "code",
   "execution_count": 20,
   "id": "b947cd80-c8cb-4816-832f-6914a521173f",
   "metadata": {},
   "outputs": [
    {
     "name": "stdout",
     "output_type": "stream",
     "text": [
      "You are above 18.\n"
     ]
    }
   ],
   "source": [
    "age = 19\n",
    "if age < 18:\n",
    "    print(\"You are below 18.\")\n",
    "else:\n",
    "    print(\"You are above 18.\")\n"
   ]
  },
  {
   "cell_type": "code",
   "execution_count": 21,
   "id": "67953ed3-2fc2-49e2-84c2-b7fd1ba9e640",
   "metadata": {},
   "outputs": [
    {
     "data": {
      "text/plain": [
       "'You are above 18'"
      ]
     },
     "execution_count": 21,
     "metadata": {},
     "output_type": "execute_result"
    }
   ],
   "source": [
    "# 2nd method\n",
    "\"You are above 18\" if age > 18 else \"You are below 18\""
   ]
  },
  {
   "cell_type": "code",
   "execution_count": 22,
   "id": "ad3cfc41-e219-421d-af9d-20c8b1057f6f",
   "metadata": {},
   "outputs": [
    {
     "name": "stdout",
     "output_type": "stream",
     "text": [
      "You are 18.\n"
     ]
    }
   ],
   "source": [
    "age = 18\n",
    "if age < 18:\n",
    "    print(\"You are below 18.\")\n",
    "elif age > 18:\n",
    "    print(\"You are above 18.\")\n",
    "else:\n",
    "    print(\"You are 18.\")\n"
   ]
  },
  {
   "cell_type": "code",
   "execution_count": 23,
   "id": "9d60ed84-1024-445b-a430-963085ff0fa5",
   "metadata": {},
   "outputs": [
    {
     "name": "stdout",
     "output_type": "stream",
     "text": [
      "You are 18.\n"
     ]
    }
   ],
   "source": [
    "age = 18\n",
    "if age < 18:\n",
    "    print(\"You are below 18.\")\n",
    "else:\n",
    "    if age > 18:\n",
    "        print(\"You are above 18.\")\n",
    "    else:\n",
    "        print(\"You are 18.\")\n"
   ]
  },
  {
   "cell_type": "code",
   "execution_count": 19,
   "id": "b7e070f0-422d-4600-8f21-b6dfd83432b4",
   "metadata": {},
   "outputs": [
    {
     "data": {
      "text/plain": [
       "'You are 18'"
      ]
     },
     "execution_count": 19,
     "metadata": {},
     "output_type": "execute_result"
    }
   ],
   "source": [
    "# 2nd method\n",
    "\"You are above 18\" if age > 18 else \"You are below 18\" if age < 18 else \"You are 18\""
   ]
  },
  {
   "cell_type": "code",
   "execution_count": 24,
   "id": "45c6da3c-b6e9-4e54-9f97-891e6be56725",
   "metadata": {},
   "outputs": [
    {
     "name": "stdout",
     "output_type": "stream",
     "text": [
      "2 and 1, both are positive\n"
     ]
    }
   ],
   "source": [
    "p = 2\n",
    "q = 1\n",
    "\n",
    "if  p > 0 and q > 0:\n",
    "    print(f\"{p} and {q}, both are positive\")\n"
   ]
  },
  {
   "cell_type": "code",
   "execution_count": 26,
   "id": "c2fed91d-973f-4bfa-8607-6d8a3da5035c",
   "metadata": {},
   "outputs": [
    {
     "name": "stdout",
     "output_type": "stream",
     "text": [
      "At least one is negative\n"
     ]
    }
   ],
   "source": [
    "p = 2\n",
    "q = -1\n",
    "\n",
    "if  p > 0 and q > 0:\n",
    "    print(f\"{p} and {q}, both are positive\")\n",
    "elif p < 0 or q < 0:\n",
    "    print (\"At least one is negative\")"
   ]
  },
  {
   "cell_type": "code",
   "execution_count": 42,
   "id": "b8c02788-9037-4202-b2b3-c258e94e1e1d",
   "metadata": {},
   "outputs": [
    {
     "name": "stdout",
     "output_type": "stream",
     "text": [
      "46 is greater than 4 and 40\n"
     ]
    }
   ],
   "source": [
    "# compare 3 numbers and find out larger\n",
    "p = 4\n",
    "q = 40\n",
    "r = 46\n",
    "if p > q and p > r: \n",
    "    print(f\"{p} is greater than {q} and {r}\")\n",
    "elif q > p and q > r:\n",
    "    print (f\"{q} is greater than {p} and {r}\")\n",
    "elif r > p and r > q:\n",
    "    print (f\"{r} is greater than {p} and {q}\")\n",
    "else:\n",
    "    print(\"some of them are equal\")\n"
   ]
  },
  {
   "cell_type": "code",
   "execution_count": 43,
   "id": "844f2b32-5add-412d-b99d-9d1954096fc3",
   "metadata": {},
   "outputs": [
    {
     "name": "stdout",
     "output_type": "stream",
     "text": [
      "some of them are equal\n"
     ]
    }
   ],
   "source": [
    "# compare 3 numbers and find out larger\n",
    "p = 4\n",
    "q = 40\n",
    "r = 40\n",
    "if p > q and p > r: \n",
    "    print(f\"{p} is greater than {q} and {r}\")\n",
    "elif q > p and q > r:\n",
    "    print (f\"{q} is greater than {p} and {r}\")\n",
    "elif r > p and r > q:\n",
    "    print (f\"{r} is greater than {p} and {q}\")\n",
    "else:\n",
    "    print(\"some of them are equal\")\n"
   ]
  },
  {
   "cell_type": "code",
   "execution_count": 49,
   "id": "5bc94306-073c-4a26-845e-9c06d66e6f85",
   "metadata": {},
   "outputs": [
    {
     "name": "stdout",
     "output_type": "stream",
     "text": [
      "45 is greater\n"
     ]
    }
   ],
   "source": [
    "# compare 3 numbers and find out larger\n",
    "p = 4\n",
    "q = 40\n",
    "r = 45\n",
    "largest = max (p, q, r)\n",
    "if  p == q or q == r: \n",
    "    print(\"some of them are equal\")\n",
    "else:\n",
    "    print(f\"{largest} is greater\")\n"
   ]
  },
  {
   "cell_type": "code",
   "execution_count": 51,
   "id": "6af08042-1023-4831-988b-99aa8f9e9bc9",
   "metadata": {},
   "outputs": [
    {
     "name": "stdout",
     "output_type": "stream",
     "text": [
      "some of them are equal\n"
     ]
    }
   ],
   "source": [
    "# compare 3 numbers and find out larger\n",
    "p = 45\n",
    "q = 40\n",
    "r = 45\n",
    "largest = max (p, q, r)\n",
    "if  p == q or q == r or p == r:\n",
    "    print(\"some of them are equal\")\n",
    "else:\n",
    "    print(f\"{largest} is greater\")\n"
   ]
  },
  {
   "cell_type": "markdown",
   "id": "03d07a55-0669-4997-96ee-fff2b3bb7e6a",
   "metadata": {},
   "source": [
    "# Date Time"
   ]
  },
  {
   "cell_type": "code",
   "execution_count": 59,
   "id": "074777b3-1599-4cd9-ab21-a6a46504d6e6",
   "metadata": {},
   "outputs": [],
   "source": [
    "import datetime"
   ]
  },
  {
   "cell_type": "code",
   "execution_count": 60,
   "id": "0278b812-765c-48b1-b81f-8f1024f4b58b",
   "metadata": {},
   "outputs": [
    {
     "data": {
      "text/plain": [
       "datetime.datetime(2025, 5, 12, 8, 35, 41, 445967)"
      ]
     },
     "execution_count": 60,
     "metadata": {},
     "output_type": "execute_result"
    }
   ],
   "source": [
    "datetime.datetime.now()"
   ]
  },
  {
   "cell_type": "code",
   "execution_count": 64,
   "id": "a9683c20-b397-484d-b66a-fbcd7e183c72",
   "metadata": {},
   "outputs": [
    {
     "name": "stdout",
     "output_type": "stream",
     "text": [
      "2025-05-12 08:45:25.262636\n"
     ]
    }
   ],
   "source": [
    "now = datetime.datetime.now()\n",
    "print(now)"
   ]
  },
  {
   "cell_type": "code",
   "execution_count": 61,
   "id": "8bf3365e-55c9-4c5f-ae8c-64eeba823e40",
   "metadata": {},
   "outputs": [
    {
     "data": {
      "text/plain": [
       "datetime.date(2025, 5, 12)"
      ]
     },
     "execution_count": 61,
     "metadata": {},
     "output_type": "execute_result"
    }
   ],
   "source": [
    "datetime.date.today()"
   ]
  },
  {
   "cell_type": "code",
   "execution_count": 62,
   "id": "79db8189-740a-484c-81d5-ac50e1b4e982",
   "metadata": {},
   "outputs": [
    {
     "name": "stdout",
     "output_type": "stream",
     "text": [
      "2025-05-12\n"
     ]
    }
   ],
   "source": [
    "today = datetime.date.today()\n",
    "print(today)"
   ]
  },
  {
   "cell_type": "code",
   "execution_count": 65,
   "id": "e274dca8-7335-4449-bd69-135a60d96b5a",
   "metadata": {},
   "outputs": [
    {
     "name": "stdout",
     "output_type": "stream",
     "text": [
      "2025-05-11\n"
     ]
    }
   ],
   "source": [
    "yesterday = today - datetime.timedelta(days=1)\n",
    "print (yesterday)"
   ]
  },
  {
   "cell_type": "code",
   "execution_count": null,
   "id": "868ee735-e260-4953-bf5f-f592946fb769",
   "metadata": {},
   "outputs": [],
   "source": [
    "12\n"
   ]
  },
  {
   "cell_type": "code",
   "execution_count": null,
   "id": "53ff00f1",
   "metadata": {},
   "outputs": [],
   "source": []
  }
 ],
 "metadata": {
  "kernelspec": {
   "display_name": "Python 3 (ipykernel)",
   "language": "python",
   "name": "python3"
  },
  "language_info": {
   "codemirror_mode": {
    "name": "ipython",
    "version": 3
   },
   "file_extension": ".py",
   "mimetype": "text/x-python",
   "name": "python",
   "nbconvert_exporter": "python",
   "pygments_lexer": "ipython3",
   "version": "3.10.11"
  }
 },
 "nbformat": 4,
 "nbformat_minor": 5
}
