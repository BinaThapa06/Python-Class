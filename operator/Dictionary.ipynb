{
 "cells": [
  {
   "cell_type": "markdown",
   "id": "d4880efb-b4fd-40a1-abbb-664062350590",
   "metadata": {},
   "source": [
    "# Disctionary\n",
    "```\n",
    "key:value\n",
    "```"
   ]
  },
  {
   "cell_type": "code",
   "execution_count": 1,
   "id": "6cd44afb-8d9c-43aa-bc45-4c1f216e9324",
   "metadata": {},
   "outputs": [
    {
     "data": {
      "text/plain": [
       "{}"
      ]
     },
     "execution_count": 1,
     "metadata": {},
     "output_type": "execute_result"
    }
   ],
   "source": [
    "d = {}\n",
    "d"
   ]
  },
  {
   "cell_type": "code",
   "execution_count": 2,
   "id": "880b9e66-bc6b-4209-b408-d3fc357c2ced",
   "metadata": {},
   "outputs": [
    {
     "data": {
      "text/plain": [
       "{}"
      ]
     },
     "execution_count": 2,
     "metadata": {},
     "output_type": "execute_result"
    }
   ],
   "source": [
    "d = dict()\n",
    "d"
   ]
  },
  {
   "cell_type": "code",
   "execution_count": 3,
   "id": "af8c33c9-aa1e-4737-9cea-6415d5672584",
   "metadata": {},
   "outputs": [
    {
     "data": {
      "text/plain": [
       "{'key': 'value'}"
      ]
     },
     "execution_count": 3,
     "metadata": {},
     "output_type": "execute_result"
    }
   ],
   "source": [
    "d = {'key': 'value'}\n",
    "d"
   ]
  },
  {
   "cell_type": "code",
   "execution_count": 7,
   "id": "61886ac8-df58-43be-b443-95751d5b3af8",
   "metadata": {},
   "outputs": [
    {
     "data": {
      "text/plain": [
       "{'key': 'val'}"
      ]
     },
     "execution_count": 7,
     "metadata": {},
     "output_type": "execute_result"
    }
   ],
   "source": [
    "dis = {k:v for k, v in [('key','val')]}\n",
    "dis"
   ]
  },
  {
   "cell_type": "code",
   "execution_count": 16,
   "id": "9defc8db-bb82-4764-b02d-818861452d4b",
   "metadata": {},
   "outputs": [
    {
     "data": {
      "text/plain": [
       "{'name': 'Ram', 'address': 'kathmandu', 'age': 21}"
      ]
     },
     "execution_count": 16,
     "metadata": {},
     "output_type": "execute_result"
    }
   ],
   "source": [
    "info = {\n",
    "    \"name\": \"Ram\",\n",
    "    \"address\": \"kathmandu\",\n",
    "    \"age\":21\n",
    "}\n",
    "info"
   ]
  },
  {
   "cell_type": "code",
   "execution_count": 9,
   "id": "d289c212-2666-47c1-a510-32f2d6485225",
   "metadata": {},
   "outputs": [
    {
     "data": {
      "text/plain": [
       "21"
      ]
     },
     "execution_count": 9,
     "metadata": {},
     "output_type": "execute_result"
    }
   ],
   "source": [
    "info ['age']"
   ]
  },
  {
   "cell_type": "code",
   "execution_count": 32,
   "id": "cb6e1f6b-325f-4718-b384-39aa448c8b9d",
   "metadata": {},
   "outputs": [
    {
     "name": "stdout",
     "output_type": "stream",
     "text": [
      "name\n",
      "address\n",
      "age\n"
     ]
    }
   ],
   "source": [
    "for i in info:\n",
    "    print(i)"
   ]
  },
  {
   "cell_type": "code",
   "execution_count": 35,
   "id": "ea29d0ca-f490-4da1-b215-0edbaadb4ea0",
   "metadata": {},
   "outputs": [
    {
     "name": "stdout",
     "output_type": "stream",
     "text": [
      "name = Ram\n",
      "address = kathmandu\n",
      "age = 21\n"
     ]
    }
   ],
   "source": [
    "for i in info:\n",
    "    print(i, \"=\" , info[i])"
   ]
  },
  {
   "cell_type": "code",
   "execution_count": 36,
   "id": "956ac31f-8a66-4933-bb35-7cb5dd634b7d",
   "metadata": {},
   "outputs": [],
   "source": [
    "info[\"Working\"] = \"Not yet\""
   ]
  },
  {
   "cell_type": "code",
   "execution_count": 37,
   "id": "a2bfacf3-3bc8-44a1-834e-fda3260b7211",
   "metadata": {},
   "outputs": [
    {
     "data": {
      "text/plain": [
       "{'name': 'Ram', 'address': 'kathmandu', 'age': 21, 'Working': 'Not yet'}"
      ]
     },
     "execution_count": 37,
     "metadata": {},
     "output_type": "execute_result"
    }
   ],
   "source": [
    "info"
   ]
  },
  {
   "cell_type": "code",
   "execution_count": 39,
   "id": "4d49dc0d-cca6-4cb5-bf6e-3dd65e4565dc",
   "metadata": {},
   "outputs": [
    {
     "name": "stdout",
     "output_type": "stream",
     "text": [
      "name = Ram\n",
      "address = kathmandu\n",
      "age = 21\n",
      "Working = Not yet\n"
     ]
    }
   ],
   "source": [
    "for k, v in info.items():\n",
    "    print(k, \"=\", v)"
   ]
  },
  {
   "cell_type": "code",
   "execution_count": 41,
   "id": "83af8fd3-ac7e-483c-8327-869662958c2e",
   "metadata": {},
   "outputs": [
    {
     "data": {
      "text/plain": [
       "{'a': [1, 2, 3], 'b': ['one', 'two', 'three']}"
      ]
     },
     "execution_count": 41,
     "metadata": {},
     "output_type": "execute_result"
    }
   ],
   "source": [
    "dis = {\n",
    "    \"a\":[1, 2, 3],\n",
    "    \"b\":[\"one\", \"two\", \"three\"]\n",
    "}\n",
    "\n",
    "dis"
   ]
  },
  {
   "cell_type": "code",
   "execution_count": 42,
   "id": "4905331e-3919-4d30-923f-2a7359537a0a",
   "metadata": {},
   "outputs": [
    {
     "data": {
      "text/plain": [
       "{'name': 'Ram',\n",
       " 'address': 'kathmandu',\n",
       " 'age': 21,\n",
       " 'Working': 'Not yet',\n",
       " 'a': [1, 2, 3],\n",
       " 'b': ['one', 'two', 'three']}"
      ]
     },
     "execution_count": 42,
     "metadata": {},
     "output_type": "execute_result"
    }
   ],
   "source": [
    "new_dis = {**info, **dis}\n",
    "new_dis"
   ]
  },
  {
   "cell_type": "code",
   "execution_count": 43,
   "id": "b97f43f2-a5ad-4a09-a9ba-78cdcf8f2319",
   "metadata": {},
   "outputs": [
    {
     "name": "stdout",
     "output_type": "stream",
     "text": [
      "name:Ram\n",
      "address:kathmandu\n",
      "age:21\n",
      "Working:Not yet\n",
      "a:[1, 2, 3]\n",
      "b:['one', 'two', 'three']\n"
     ]
    }
   ],
   "source": [
    "for k, v in new_dis.items() :\n",
    "    print (f\"{k}:{v}\")"
   ]
  },
  {
   "cell_type": "markdown",
   "id": "a5c9eaa2-9660-4def-991b-4f5bda853069",
   "metadata": {},
   "source": [
    "# other data structures"
   ]
  },
  {
   "cell_type": "code",
   "execution_count": 44,
   "id": "2074ac5e-b86b-459c-8d6a-7469180aa744",
   "metadata": {},
   "outputs": [],
   "source": [
    "# tuple"
   ]
  },
  {
   "cell_type": "code",
   "execution_count": 45,
   "id": "881fde90-6c98-4669-a112-e5d774ee8bcc",
   "metadata": {},
   "outputs": [
    {
     "data": {
      "text/plain": [
       "()"
      ]
     },
     "execution_count": 45,
     "metadata": {},
     "output_type": "execute_result"
    }
   ],
   "source": [
    "tpl = tuple()\n",
    "tpl"
   ]
  },
  {
   "cell_type": "code",
   "execution_count": 46,
   "id": "c5201be9-c2fd-4465-bf6a-40d8444794b4",
   "metadata": {},
   "outputs": [
    {
     "data": {
      "text/plain": [
       "()"
      ]
     },
     "execution_count": 46,
     "metadata": {},
     "output_type": "execute_result"
    }
   ],
   "source": [
    "tpl = ()\n",
    "tpl"
   ]
  },
  {
   "cell_type": "code",
   "execution_count": 47,
   "id": "2f345eb8-35c7-416d-8d6c-ee76fbb6df5d",
   "metadata": {},
   "outputs": [
    {
     "data": {
      "text/plain": [
       "(1, 3)"
      ]
     },
     "execution_count": 47,
     "metadata": {},
     "output_type": "execute_result"
    }
   ],
   "source": [
    "tpl = (1, 3)\n",
    "tpl"
   ]
  },
  {
   "cell_type": "code",
   "execution_count": 48,
   "id": "bdbb02ab-e5ca-46a9-a4d2-3c08fe6699df",
   "metadata": {},
   "outputs": [
    {
     "ename": "AttributeError",
     "evalue": "'tuple' object has no attribute 'append'",
     "output_type": "error",
     "traceback": [
      "\u001b[1;31m---------------------------------------------------------------------------\u001b[0m",
      "\u001b[1;31mAttributeError\u001b[0m                            Traceback (most recent call last)",
      "Cell \u001b[1;32mIn[48], line 1\u001b[0m\n\u001b[1;32m----> 1\u001b[0m \u001b[43mtpl\u001b[49m\u001b[38;5;241;43m.\u001b[39;49m\u001b[43mappend\u001b[49m(\u001b[38;5;241m4\u001b[39m)\n",
      "\u001b[1;31mAttributeError\u001b[0m: 'tuple' object has no attribute 'append'"
     ]
    }
   ],
   "source": [
    "tpl.append(4)"
   ]
  },
  {
   "cell_type": "code",
   "execution_count": 49,
   "id": "102069ff-0a0d-402d-856c-72fdd57b3c2d",
   "metadata": {},
   "outputs": [
    {
     "ename": "SyntaxError",
     "evalue": "invalid syntax (2855044571.py, line 1)",
     "output_type": "error",
     "traceback": [
      "\u001b[1;36m  Cell \u001b[1;32mIn[49], line 1\u001b[1;36m\u001b[0m\n\u001b[1;33m    tpl.del(1)\u001b[0m\n\u001b[1;37m        ^\u001b[0m\n\u001b[1;31mSyntaxError\u001b[0m\u001b[1;31m:\u001b[0m invalid syntax\n"
     ]
    }
   ],
   "source": [
    "tpl.del(1)"
   ]
  },
  {
   "cell_type": "code",
   "execution_count": 50,
   "id": "40e895f5-c237-47ef-8cb6-83b78a8e80f1",
   "metadata": {},
   "outputs": [
    {
     "ename": "AttributeError",
     "evalue": "'tuple' object has no attribute 'remove'",
     "output_type": "error",
     "traceback": [
      "\u001b[1;31m---------------------------------------------------------------------------\u001b[0m",
      "\u001b[1;31mAttributeError\u001b[0m                            Traceback (most recent call last)",
      "Cell \u001b[1;32mIn[50], line 1\u001b[0m\n\u001b[1;32m----> 1\u001b[0m \u001b[43mtpl\u001b[49m\u001b[38;5;241;43m.\u001b[39;49m\u001b[43mremove\u001b[49m(\u001b[38;5;241m1\u001b[39m)\n",
      "\u001b[1;31mAttributeError\u001b[0m: 'tuple' object has no attribute 'remove'"
     ]
    }
   ],
   "source": [
    "tpl.remove(1)\n"
   ]
  },
  {
   "cell_type": "code",
   "execution_count": 52,
   "id": "7b0bb748-93e1-4fff-a935-0d91263dec89",
   "metadata": {},
   "outputs": [
    {
     "data": {
      "text/plain": [
       "['__add__',\n",
       " '__class__',\n",
       " '__class_getitem__',\n",
       " '__contains__',\n",
       " '__delattr__',\n",
       " '__dir__',\n",
       " '__doc__',\n",
       " '__eq__',\n",
       " '__format__',\n",
       " '__ge__',\n",
       " '__getattribute__',\n",
       " '__getitem__',\n",
       " '__getnewargs__',\n",
       " '__gt__',\n",
       " '__hash__',\n",
       " '__init__',\n",
       " '__init_subclass__',\n",
       " '__iter__',\n",
       " '__le__',\n",
       " '__len__',\n",
       " '__lt__',\n",
       " '__mul__',\n",
       " '__ne__',\n",
       " '__new__',\n",
       " '__reduce__',\n",
       " '__reduce_ex__',\n",
       " '__repr__',\n",
       " '__rmul__',\n",
       " '__setattr__',\n",
       " '__sizeof__',\n",
       " '__str__',\n",
       " '__subclasshook__',\n",
       " 'count',\n",
       " 'index']"
      ]
     },
     "execution_count": 52,
     "metadata": {},
     "output_type": "execute_result"
    }
   ],
   "source": [
    "dir(tuple)"
   ]
  },
  {
   "cell_type": "code",
   "execution_count": 63,
   "id": "8cf2dcd2-4a85-44ff-8e53-c2b28c5d3583",
   "metadata": {},
   "outputs": [],
   "source": [
    "# Set   no duplicate in set\n"
   ]
  },
  {
   "cell_type": "code",
   "execution_count": 54,
   "id": "85c02242-bbad-4a39-b2cb-7fe0ceeab631",
   "metadata": {},
   "outputs": [
    {
     "data": {
      "text/plain": [
       "set()"
      ]
     },
     "execution_count": 54,
     "metadata": {},
     "output_type": "execute_result"
    }
   ],
   "source": [
    "s = set ()\n",
    "s"
   ]
  },
  {
   "cell_type": "code",
   "execution_count": 55,
   "id": "8938d78b-158c-400b-8d43-b4ad4c631a04",
   "metadata": {},
   "outputs": [
    {
     "data": {
      "text/plain": [
       "{}"
      ]
     },
     "execution_count": 55,
     "metadata": {},
     "output_type": "execute_result"
    }
   ],
   "source": [
    "s = {}\n",
    "s"
   ]
  },
  {
   "cell_type": "code",
   "execution_count": 57,
   "id": "1fa0891a-610b-4245-bbf9-0399314617b0",
   "metadata": {},
   "outputs": [
    {
     "data": {
      "text/plain": [
       "dict"
      ]
     },
     "execution_count": 57,
     "metadata": {},
     "output_type": "execute_result"
    }
   ],
   "source": [
    "type(s)"
   ]
  },
  {
   "cell_type": "code",
   "execution_count": 58,
   "id": "f14a17b4-f231-4c9f-9048-18d93d7a7d9d",
   "metadata": {},
   "outputs": [],
   "source": [
    "s = {2, 4, 5}"
   ]
  },
  {
   "cell_type": "code",
   "execution_count": 59,
   "id": "351a5dc2-d0f2-433d-9932-8c5480ce7dab",
   "metadata": {},
   "outputs": [
    {
     "data": {
      "text/plain": [
       "set"
      ]
     },
     "execution_count": 59,
     "metadata": {},
     "output_type": "execute_result"
    }
   ],
   "source": [
    "type(s)"
   ]
  },
  {
   "cell_type": "code",
   "execution_count": 60,
   "id": "b3c07c19-f3fc-4126-b8be-73ab6fdc9d4d",
   "metadata": {},
   "outputs": [],
   "source": [
    "st = {2, 3, 4, 5, 1, 3, 2, 6}"
   ]
  },
  {
   "cell_type": "code",
   "execution_count": 62,
   "id": "40dfa829-ff6b-4d55-928e-76914037b7f0",
   "metadata": {},
   "outputs": [
    {
     "data": {
      "text/plain": [
       "{1, 2, 3, 4, 5, 6}"
      ]
     },
     "execution_count": 62,
     "metadata": {},
     "output_type": "execute_result"
    }
   ],
   "source": [
    "st"
   ]
  },
  {
   "cell_type": "code",
   "execution_count": null,
   "id": "2e5582ce-c494-4c25-a9de-06c510010a5b",
   "metadata": {},
   "outputs": [],
   "source": []
  }
 ],
 "metadata": {
  "kernelspec": {
   "display_name": "Python 3 (ipykernel)",
   "language": "python",
   "name": "python3"
  },
  "language_info": {
   "codemirror_mode": {
    "name": "ipython",
    "version": 3
   },
   "file_extension": ".py",
   "mimetype": "text/x-python",
   "name": "python",
   "nbconvert_exporter": "python",
   "pygments_lexer": "ipython3",
   "version": "3.10.11"
  }
 },
 "nbformat": 4,
 "nbformat_minor": 5
}
