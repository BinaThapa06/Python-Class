{
 "cells": [
  {
   "cell_type": "markdown",
   "id": "9f92bf8b",
   "metadata": {},
   "source": [
    "## Inheritance\n",
    "\n",
    "1. Parent Class\n",
    "2. Child Class\n",
    "```\n",
    "Class parentClass:\n",
    "    pass\n",
    "\n",
    "Class ChildClass(ParentClass):\n",
    "    pass\n",
    "``` \n",
    "\n",
    "**Parent Class**\n",
    "- Base Class, from which other class can inherit\n",
    "\n",
    "**Child Class**\n",
    "- Derived class that inherits from the parent class\n"
   ]
  },
  {
   "cell_type": "code",
   "execution_count": null,
   "id": "98cddf20",
   "metadata": {
    "vscode": {
     "languageId": "markdown"
    }
   },
   "outputs": [],
   "source": [
    "## Types of Inheritance\n",
    "1. Single\n",
    "```\n",
    "Parent Class <------ Child Class\n",
    "```\n",
    "\n",
    "2. Multiple\n",
    "```\n",
    "Parent class 1, Parent class 2  <----- Child class\n",
    "```\n",
    "\n",
    "3. Multilevel\n",
    "```\n",
    "Parent Class <----- Child class <--------grand Chid Class\n",
    "```\n",
    "\n",
    "4. Hierarichal\n",
    "```\n",
    "Parent Class<---------Child Class 1,Child Class 2\n",
    "```\n",
    "\n",
    "5. Hybrid\n",
    "- Any two or more combination"
   ]
  },
  {
   "cell_type": "code",
   "execution_count": 9,
   "id": "9a6139ba",
   "metadata": {},
   "outputs": [
    {
     "name": "stdout",
     "output_type": "stream",
     "text": [
      "Animal has 2 eyes.\n",
      "Bhau Bhau\n"
     ]
    }
   ],
   "source": [
    "class Animal:\n",
    "    def get_eyes(self):\n",
    "        return\"Animal has 2 eyes.\"\n",
    "\n",
    "class Dog(Animal):\n",
    "    def speak(self):\n",
    "        return \"Bhau Bhau\"\n",
    "\n",
    "dog = Dog()\n",
    "print(dog.get_eyes())\n",
    "print(dog.speak())\n",
    "\n"
   ]
  },
  {
   "cell_type": "code",
   "execution_count": 33,
   "id": "443c98e5",
   "metadata": {},
   "outputs": [],
   "source": [
    "class Person:\n",
    "    def __init__(self, name):\n",
    "        self.name = name\n",
    "\n",
    "    def info(self):\n",
    "        print(\"Name\", self.name)\n",
    "\n",
    "class Employee(Person):\n",
    "    def __init__(self, name, company):\n",
    "        self.company = company  \n",
    "        super().__init__(name)\n",
    "\n",
    "    def info(self):\n",
    "        print(\"Name:\",self.name)\n",
    "        print(\"company:\", self.company)\n",
    "\n",
    "\n",
    "\n"
   ]
  },
  {
   "cell_type": "code",
   "execution_count": 34,
   "id": "c7dd324c",
   "metadata": {},
   "outputs": [
    {
     "name": "stdout",
     "output_type": "stream",
     "text": [
      "Name Ram\n"
     ]
    }
   ],
   "source": [
    "p = Person(\"Ram\")\n",
    "p.info()"
   ]
  },
  {
   "cell_type": "code",
   "execution_count": 30,
   "id": "6906e282",
   "metadata": {},
   "outputs": [
    {
     "name": "stdout",
     "output_type": "stream",
     "text": [
      "Name: hari\n",
      "company: STN\n"
     ]
    }
   ],
   "source": [
    "e = Employee(\"hari\", \"STN\")\n",
    "e.info()\n"
   ]
  },
  {
   "cell_type": "code",
   "execution_count": 36,
   "id": "a5a5a93e",
   "metadata": {},
   "outputs": [
    {
     "name": "stdout",
     "output_type": "stream",
     "text": [
      "Name: Gopal\n",
      "company: STN\n",
      "Python Django\n"
     ]
    }
   ],
   "source": [
    "class Programmer(Employee):\n",
    "    def __init__(self, name, company,skill):\n",
    "        super().__init__(name,company)\n",
    "        self.skill = skill\n",
    "\n",
    "programmer = Programmer(\"Gopal\", \"STN\", \"Python Django\")\n",
    "programmer.info()\n",
    "print(programmer.skill)\n"
   ]
  },
  {
   "cell_type": "code",
   "execution_count": 37,
   "id": "18338543",
   "metadata": {},
   "outputs": [
    {
     "name": "stdout",
     "output_type": "stream",
     "text": [
      "['Wood Cutting', 'Carpentry', 'Cooking', 'Knitting', 'Coding']\n"
     ]
    }
   ],
   "source": [
    "class Father:\n",
    "    def skills(self):\n",
    "        return[\"Wood Cutting\", \"Carpentry\"]\n",
    "\n",
    "class Mother:\n",
    "    def skills(self):\n",
    "        return[\"Cooking\", \"Knitting\"]\n",
    "\n",
    "class child(Father, Mother):\n",
    "    def skills(self):\n",
    "        return Father.skills(self) + Mother.skills(self) + [\"Coding\"]\n",
    "\n",
    "\n",
    "print(child().skills())"
   ]
  },
  {
   "cell_type": "code",
   "execution_count": 40,
   "id": "351ce661",
   "metadata": {},
   "outputs": [
    {
     "name": "stdout",
     "output_type": "stream",
     "text": [
      "Flying in the sky using fuel\n",
      "Flying in the sky\n"
     ]
    }
   ],
   "source": [
    "# Polymorphism\n",
    "\n",
    "class Bird:\n",
    "    def fly(self):\n",
    "        return \"Flying in the sky\"\n",
    "\n",
    "class Airplane:\n",
    "    def fly(self):\n",
    "        return \"Flying in the sky using fuel\"\n",
    "\n",
    "def flying(obj):\n",
    "    print(obj.fly())\n",
    "\n",
    "b = Bird()\n",
    "a = Airplane()\n",
    "\n",
    "\n",
    "flying(a)\n",
    "flying(b)"
   ]
  },
  {
   "cell_type": "code",
   "execution_count": 61,
   "id": "d2e4d3db",
   "metadata": {},
   "outputs": [],
   "source": [
    "# Abstraction\n",
    "\n",
    "# Cann't create object of Abstract Class, must need to override abstract methods\n",
    "\n",
    "from abc import abstractmethod, ABC\n",
    "\n",
    "class Shape(ABC):\n",
    "    @abstractmethod\n",
    "    def area(self):\n",
    "        pass\n",
    "\n",
    "class Circle(Shape):\n",
    "    def __init__(self, radius):\n",
    "        self.radius = radius\n",
    "\n",
    "    def area(self):\n",
    "        return 3.14 * self.radius * self.radius\n",
    "\n",
    "class Square(Shape):\n",
    "    def __init__(self, length):\n",
    "        self.length = length\n",
    "\n",
    "    def area(self):\n",
    "        return self.length * self.length\n"
   ]
  },
  {
   "cell_type": "code",
   "execution_count": 62,
   "id": "02afa922",
   "metadata": {},
   "outputs": [
    {
     "name": "stdout",
     "output_type": "stream",
     "text": [
      "78.5\n"
     ]
    }
   ],
   "source": [
    "c = Circle(5)\n",
    "print(c.area())"
   ]
  },
  {
   "cell_type": "code",
   "execution_count": 63,
   "id": "7b93d1b8",
   "metadata": {},
   "outputs": [
    {
     "name": "stdout",
     "output_type": "stream",
     "text": [
      "25\n"
     ]
    }
   ],
   "source": [
    "print(Square(5).area())\n"
   ]
  },
  {
   "cell_type": "code",
   "execution_count": 68,
   "id": "49acf85b",
   "metadata": {},
   "outputs": [
    {
     "ename": "TypeError",
     "evalue": "Can't instantiate abstract class Shape with abstract method area",
     "output_type": "error",
     "traceback": [
      "\u001b[1;31m---------------------------------------------------------------------------\u001b[0m",
      "\u001b[1;31mTypeError\u001b[0m                                 Traceback (most recent call last)",
      "Cell \u001b[1;32mIn[68], line 1\u001b[0m\n\u001b[1;32m----> 1\u001b[0m \u001b[43mShape\u001b[49m\u001b[43m(\u001b[49m\u001b[43m)\u001b[49m\u001b[38;5;241m.\u001b[39marea()\n",
      "\u001b[1;31mTypeError\u001b[0m: Can't instantiate abstract class Shape with abstract method area"
     ]
    }
   ],
   "source": [
    "Shape().area()"
   ]
  },
  {
   "cell_type": "code",
   "execution_count": 69,
   "id": "70d3ef9f",
   "metadata": {},
   "outputs": [
    {
     "name": "stdout",
     "output_type": "stream",
     "text": [
      "9\n",
      "20\n"
     ]
    }
   ],
   "source": [
    "# Static Methods\n",
    "\n",
    "class Math:\n",
    "    @staticmethod\n",
    "    def add(a, b):\n",
    "        return a + b\n",
    "\n",
    "    @staticmethod\n",
    "    def multiply(a, b):\n",
    "        return a * b\n",
    "\n",
    "\n",
    "m = Math()\n",
    "print(m.add(5, 4))\n",
    "print(m.multiply(5, 4))\n"
   ]
  },
  {
   "cell_type": "code",
   "execution_count": null,
   "id": "6ae7a1a8",
   "metadata": {},
   "outputs": [],
   "source": []
  }
 ],
 "metadata": {
  "kernelspec": {
   "display_name": "Python 3",
   "language": "python",
   "name": "python3"
  },
  "language_info": {
   "codemirror_mode": {
    "name": "ipython",
    "version": 3
   },
   "file_extension": ".py",
   "mimetype": "text/x-python",
   "name": "python",
   "nbconvert_exporter": "python",
   "pygments_lexer": "ipython3",
   "version": "3.10.11"
  }
 },
 "nbformat": 4,
 "nbformat_minor": 5
}
