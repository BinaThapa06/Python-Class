{
 "cells": [
  {
   "cell_type": "markdown",
   "id": "1e45223d-f594-426d-99b7-21cce93e704a",
   "metadata": {},
   "source": [
    "# Working with NumPY"
   ]
  },
  {
   "cell_type": "code",
   "execution_count": 10,
   "id": "ed1a562b-a42c-4bd2-9ff9-4afe9689b2e0",
   "metadata": {},
   "outputs": [],
   "source": [
    "import numpy as np"
   ]
  },
  {
   "cell_type": "code",
   "execution_count": 11,
   "id": "dd83e35f-31e8-4b59-8dac-3e352f1b9fca",
   "metadata": {},
   "outputs": [
    {
     "data": {
      "text/plain": [
       "array([1, 3, 4, 5, 6])"
      ]
     },
     "execution_count": 11,
     "metadata": {},
     "output_type": "execute_result"
    }
   ],
   "source": [
    "arr = np.array([1, 3, 4, 5, 6])\n",
    "arr"
   ]
  },
  {
   "cell_type": "code",
   "execution_count": 12,
   "id": "bdc2d88f-9611-4f05-a2bf-174b2baf475c",
   "metadata": {},
   "outputs": [
    {
     "name": "stdout",
     "output_type": "stream",
     "text": [
      "[1 3 4 5 6]\n"
     ]
    }
   ],
   "source": [
    "print(arr)"
   ]
  },
  {
   "cell_type": "code",
   "execution_count": 28,
   "id": "7b783cad-0fe8-4d68-93f0-0ebd99e31db6",
   "metadata": {},
   "outputs": [
    {
     "data": {
      "text/plain": [
       "array([[1, 2, 3],\n",
       "       [4, 5, 6]])"
      ]
     },
     "execution_count": 28,
     "metadata": {},
     "output_type": "execute_result"
    }
   ],
   "source": [
    "arr_2d = np.array([[1, 2, 3], [4, 5, 6]])\n",
    "arr_2d"
   ]
  },
  {
   "cell_type": "code",
   "execution_count": 15,
   "id": "ae2cea21-5d31-4983-b655-58d2119c98fb",
   "metadata": {},
   "outputs": [
    {
     "name": "stdout",
     "output_type": "stream",
     "text": [
      "[[1 2 3]\n",
      " [4 5 6]]\n"
     ]
    }
   ],
   "source": [
    "print(arr_2d)"
   ]
  },
  {
   "cell_type": "code",
   "execution_count": 16,
   "id": "04846710-4ff0-4553-8fb1-b0e36d072576",
   "metadata": {},
   "outputs": [
    {
     "name": "stdout",
     "output_type": "stream",
     "text": [
      "[[[1 2]\n",
      "  [4 5]]\n",
      "\n",
      " [[4 5]\n",
      "  [5 6]]]\n"
     ]
    }
   ],
   "source": [
    "arr_3d = np.array([[[1, 2], [4, 5]], [[4, 5], [5, 6]]])\n",
    "print(arr_3d)"
   ]
  },
  {
   "cell_type": "code",
   "execution_count": 17,
   "id": "6871840b-3cda-43c6-9947-fe81b9edbbe8",
   "metadata": {
    "scrolled": true
   },
   "outputs": [
    {
     "data": {
      "text/plain": [
       "(2, 3)"
      ]
     },
     "execution_count": 17,
     "metadata": {},
     "output_type": "execute_result"
    }
   ],
   "source": [
    "arr_2d.shape"
   ]
  },
  {
   "cell_type": "code",
   "execution_count": 18,
   "id": "9a848419-368b-4f97-bc67-d750c43be5b1",
   "metadata": {},
   "outputs": [
    {
     "data": {
      "text/plain": [
       "6"
      ]
     },
     "execution_count": 18,
     "metadata": {},
     "output_type": "execute_result"
    }
   ],
   "source": [
    "arr_2d.size"
   ]
  },
  {
   "cell_type": "code",
   "execution_count": 19,
   "id": "071df15f-db10-431a-a005-0fd30fa8c577",
   "metadata": {},
   "outputs": [
    {
     "data": {
      "text/plain": [
       "(2, 2, 2)"
      ]
     },
     "execution_count": 19,
     "metadata": {},
     "output_type": "execute_result"
    }
   ],
   "source": [
    "arr_3d.shape"
   ]
  },
  {
   "cell_type": "code",
   "execution_count": 20,
   "id": "7f73aa3c-27bb-4c5e-92e1-3a36a1789480",
   "metadata": {},
   "outputs": [
    {
     "data": {
      "text/plain": [
       "dtype('int64')"
      ]
     },
     "execution_count": 20,
     "metadata": {},
     "output_type": "execute_result"
    }
   ],
   "source": [
    "arr_3d.dtype"
   ]
  },
  {
   "cell_type": "code",
   "execution_count": 21,
   "id": "4df510dd-dd89-4558-bd13-677a944c9ecc",
   "metadata": {},
   "outputs": [
    {
     "name": "stdout",
     "output_type": "stream",
     "text": [
      "[3 4 5]\n",
      "5\n"
     ]
    }
   ],
   "source": [
    "# slicing and Indexing\n",
    "\n",
    "new_arr = arr[1:4]     #slicing\n",
    "print(new_arr)\n",
    "\n",
    "ele = arr_2d[1][1]      # indexing\n",
    "print(ele)"
   ]
  },
  {
   "cell_type": "markdown",
   "id": "7953c3e2-b241-4d5c-a517-0569d613873a",
   "metadata": {},
   "source": [
    "# Array Operations"
   ]
  },
  {
   "cell_type": "code",
   "execution_count": 22,
   "id": "50f69d61-1086-4172-9727-c7e8d84f9c1c",
   "metadata": {},
   "outputs": [
    {
     "name": "stdout",
     "output_type": "stream",
     "text": [
      "[5 7 9]\n"
     ]
    }
   ],
   "source": [
    "arr1 = np.array([1, 2, 3])\n",
    "arr2 = np.array([4, 5, 6]) \n",
    "\n",
    "arr_sum = arr1 + arr2\n",
    "print(arr_sum)"
   ]
  },
  {
   "cell_type": "code",
   "execution_count": 23,
   "id": "46028423-77e9-4d29-a13d-f93b140fd76e",
   "metadata": {},
   "outputs": [
    {
     "name": "stdout",
     "output_type": "stream",
     "text": [
      "[ 4 10 18]\n"
     ]
    }
   ],
   "source": [
    "arr_mul = arr1 * arr2\n",
    "print(arr_mul)"
   ]
  },
  {
   "cell_type": "code",
   "execution_count": 24,
   "id": "621843a9-60ef-43b4-81c7-20e375f392be",
   "metadata": {},
   "outputs": [
    {
     "name": "stdout",
     "output_type": "stream",
     "text": [
      "[ 5 10 15]\n"
     ]
    }
   ],
   "source": [
    "print(arr1 * 5)"
   ]
  },
  {
   "cell_type": "code",
   "execution_count": 25,
   "id": "640e5f21-2b58-40d1-b015-5df789acf16a",
   "metadata": {},
   "outputs": [
    {
     "ename": "ValueError",
     "evalue": "operands could not be broadcast together with shapes (4,) (3,) ",
     "output_type": "error",
     "traceback": [
      "\u001b[1;31m---------------------------------------------------------------------------\u001b[0m",
      "\u001b[1;31mValueError\u001b[0m                                Traceback (most recent call last)",
      "Cell \u001b[1;32mIn[25], line 5\u001b[0m\n\u001b[0;32m      2\u001b[0m arr1 \u001b[38;5;241m=\u001b[39m np\u001b[38;5;241m.\u001b[39marray([\u001b[38;5;241m1\u001b[39m, \u001b[38;5;241m2\u001b[39m, \u001b[38;5;241m3\u001b[39m, \u001b[38;5;241m4\u001b[39m])\n\u001b[0;32m      3\u001b[0m arr2 \u001b[38;5;241m=\u001b[39m np\u001b[38;5;241m.\u001b[39marray([\u001b[38;5;241m4\u001b[39m, \u001b[38;5;241m5\u001b[39m, \u001b[38;5;241m6\u001b[39m]) \n\u001b[1;32m----> 5\u001b[0m arr_sum \u001b[38;5;241m=\u001b[39m \u001b[43marr1\u001b[49m\u001b[43m \u001b[49m\u001b[38;5;241;43m+\u001b[39;49m\u001b[43m \u001b[49m\u001b[43marr2\u001b[49m\n\u001b[0;32m      6\u001b[0m \u001b[38;5;28mprint\u001b[39m(arr_sum)\n",
      "\u001b[1;31mValueError\u001b[0m: operands could not be broadcast together with shapes (4,) (3,) "
     ]
    }
   ],
   "source": [
    "# shape same hunu pareyo otherwise no \n",
    "arr1 = np.array([1, 2, 3, 4])\n",
    "arr2 = np.array([4, 5, 6]) \n",
    "\n",
    "arr_sum = arr1 + arr2\n",
    "print(arr_sum)"
   ]
  },
  {
   "cell_type": "code",
   "execution_count": 26,
   "id": "7d46a8a9-e1d0-4ed9-b77f-43652d3e057b",
   "metadata": {},
   "outputs": [],
   "source": [
    "mat1 =np.matrix([[1, 2], [3, 4]])\n",
    "mat2 =np.matrix([[2, 3], [4, 5]])\n"
   ]
  },
  {
   "cell_type": "code",
   "execution_count": 27,
   "id": "11e73fb7-8430-4cd9-8ade-bc51ce658fb9",
   "metadata": {},
   "outputs": [
    {
     "name": "stdout",
     "output_type": "stream",
     "text": [
      "First Matrix:\n",
      "[[1 2]\n",
      " [3 4]]\n",
      "First Matrix:\n",
      "[[2 3]\n",
      " [4 5]]\n"
     ]
    }
   ],
   "source": [
    "print(f\"First Matrix:\\n{mat1}\")\n",
    "print(f\"First Matrix:\\n{mat2}\")"
   ]
  },
  {
   "cell_type": "code",
   "execution_count": 43,
   "id": "8646a0be-f6a5-4154-a344-8482a770adcf",
   "metadata": {},
   "outputs": [
    {
     "name": "stdout",
     "output_type": "stream",
     "text": [
      "[[3 5]\n",
      " [7 9]]\n"
     ]
    }
   ],
   "source": [
    "mat_add = mat1 +mat2   # Addition\n",
    "print(mat_add)"
   ]
  },
  {
   "cell_type": "code",
   "execution_count": 44,
   "id": "31cb0849-5242-494c-9b04-478bfa5bee7d",
   "metadata": {},
   "outputs": [
    {
     "name": "stdout",
     "output_type": "stream",
     "text": [
      "[[-1 -1]\n",
      " [-1 -1]]\n"
     ]
    }
   ],
   "source": [
    "# subtraction\n",
    "\n",
    "mat_sub = mat1 - mat2\n",
    "print(mat_sub)"
   ]
  },
  {
   "cell_type": "code",
   "execution_count": 45,
   "id": "608aa10b-312f-478c-b8ce-251f1f242329",
   "metadata": {},
   "outputs": [
    {
     "name": "stdout",
     "output_type": "stream",
     "text": [
      "[[ 3  6]\n",
      " [ 9 12]]\n"
     ]
    }
   ],
   "source": [
    "print(mat1 * 3)"
   ]
  },
  {
   "cell_type": "code",
   "execution_count": 46,
   "id": "53021908-5b4e-473d-9aab-086d0c3ba4b8",
   "metadata": {},
   "outputs": [
    {
     "name": "stdout",
     "output_type": "stream",
     "text": [
      "[[10 13]\n",
      " [22 29]]\n"
     ]
    }
   ],
   "source": [
    "mat_mul = mat1 * mat2\n",
    "print(mat_mul)"
   ]
  },
  {
   "cell_type": "markdown",
   "id": "5f4b21a6-8700-449d-9171-e0545f8382a4",
   "metadata": {},
   "source": [
    "mat_mul = mat1 @ mat2    \n",
    "print(mat_mul)"
   ]
  },
  {
   "cell_type": "markdown",
   "id": "29613146-c6c3-4977-a863-164b6463ffa4",
   "metadata": {},
   "source": [
    "print(np.dot(mat1, mat2))\n"
   ]
  },
  {
   "cell_type": "code",
   "execution_count": 47,
   "id": "5b1e4929-f261-42de-816a-771f81a04a0c",
   "metadata": {},
   "outputs": [
    {
     "name": "stdout",
     "output_type": "stream",
     "text": [
      "[[10 22]\n",
      " [13 29]]\n"
     ]
    }
   ],
   "source": [
    "# Transpose\n",
    "\n",
    "print(mat_mul.T)"
   ]
  },
  {
   "cell_type": "code",
   "execution_count": 52,
   "id": "26884c6b-2999-4a2b-b85e-d5e8400a04f9",
   "metadata": {},
   "outputs": [
    {
     "name": "stdout",
     "output_type": "stream",
     "text": [
      "[[ 7.25 -3.25]\n",
      " [-5.5   2.5 ]]\n"
     ]
    }
   ],
   "source": [
    "# Matrix Inverse\n",
    "print(np.linalg.inv(mat_mul))\n",
    "      "
   ]
  },
  {
   "cell_type": "code",
   "execution_count": 51,
   "id": "ee1a2142-71b3-48b2-86d9-01d234ff15a3",
   "metadata": {},
   "outputs": [
    {
     "name": "stdout",
     "output_type": "stream",
     "text": [
      "-2.0000000000000004\n"
     ]
    }
   ],
   "source": [
    "print(np.linalg.det(mat1))"
   ]
  },
  {
   "cell_type": "code",
   "execution_count": 53,
   "id": "58238c07-4198-4cba-82c9-c59b394740af",
   "metadata": {
    "scrolled": true
   },
   "outputs": [
    {
     "name": "stdout",
     "output_type": "stream",
     "text": [
      "EigResult(eigenvalues=array([-0.37228132,  5.37228132]), eigenvectors=matrix([[-0.82456484, -0.41597356],\n",
      "        [ 0.56576746, -0.90937671]]))\n"
     ]
    }
   ],
   "source": [
    "print(np.linalg.eig(mat1))"
   ]
  },
  {
   "cell_type": "markdown",
   "id": "8fda76fb-7f35-4e70-a8bd-a2277f3473a0",
   "metadata": {},
   "source": [
    "## Vector Calculation"
   ]
  },
  {
   "cell_type": "code",
   "execution_count": 59,
   "id": "d191cc0c-d1bd-4469-9b71-e125f7c74074",
   "metadata": {},
   "outputs": [
    {
     "name": "stdout",
     "output_type": "stream",
     "text": [
      "v1 = [1 2 3]\n",
      "v2 = [3 4 5]\n"
     ]
    }
   ],
   "source": [
    "v1 = np.array([1, 2, 3])\n",
    "v2 = np.array([3, 4, 5])\n",
    "print(\"v1 =\", v1)\n",
    "print(\"v2 =\", v2)"
   ]
  },
  {
   "cell_type": "code",
   "execution_count": 60,
   "id": "50decfa9-52d1-41a5-a202-6c9091c83e4c",
   "metadata": {},
   "outputs": [
    {
     "name": "stdout",
     "output_type": "stream",
     "text": [
      "26\n"
     ]
    }
   ],
   "source": [
    "dot_product = np.dot(v1, v2)     # same\n",
    "print(dot_product)"
   ]
  },
  {
   "cell_type": "code",
   "execution_count": 61,
   "id": "a41b2382-c212-409e-a4b6-aa0433b41b07",
   "metadata": {},
   "outputs": [
    {
     "data": {
      "text/plain": [
       "np.int64(26)"
      ]
     },
     "execution_count": 61,
     "metadata": {},
     "output_type": "execute_result"
    }
   ],
   "source": [
    "v1 @ v2     # dot product"
   ]
  },
  {
   "cell_type": "code",
   "execution_count": 62,
   "id": "f04afcc4-8425-4eac-ba41-1ee002de3ebe",
   "metadata": {},
   "outputs": [
    {
     "name": "stdout",
     "output_type": "stream",
     "text": [
      "26\n"
     ]
    }
   ],
   "source": [
    "print(v1 @ v2)        # same"
   ]
  },
  {
   "cell_type": "code",
   "execution_count": 63,
   "id": "5fc467a5-15d6-46ea-ac07-7688b97aa3ef",
   "metadata": {},
   "outputs": [
    {
     "name": "stdout",
     "output_type": "stream",
     "text": [
      "[-2  4 -2]\n"
     ]
    }
   ],
   "source": [
    "cross_product = np.cross(v1, v2)     # cross product\n",
    "print(cross_product)  "
   ]
  },
  {
   "cell_type": "markdown",
   "id": "44be9af4-3551-4299-ba1b-9e5f9dec8e46",
   "metadata": {},
   "source": [
    "```\n",
    "i j k\n",
    "1 2 3\n",
    "3 4 5\n",
    "\n",
    "i (10-12) -j(5-9) + k(4-6)\n",
    "-2i+4j-2k\n",
    "(-2 4 -2)\n",
    "```"
   ]
  },
  {
   "cell_type": "markdown",
   "id": "3b632488-94f5-400b-b135-564a5e633712",
   "metadata": {},
   "source": [
    "# solve linear equation\n",
    "2x + y = 5\n",
    "x + y = 3\n",
    "----------\n",
    "x = 2\n",
    "\n",
    "y = 1"
   ]
  },
  {
   "cell_type": "code",
   "execution_count": 72,
   "id": "d4ec9b92-d4d4-48cb-b709-d9815d9a1ec5",
   "metadata": {},
   "outputs": [
    {
     "ename": "SyntaxError",
     "evalue": "cannot assign to expression here. Maybe you meant '==' instead of '='? (1152463098.py, line 1)",
     "output_type": "error",
     "traceback": [
      "\u001b[1;36m  Cell \u001b[1;32mIn[72], line 1\u001b[1;36m\u001b[0m\n\u001b[1;33m    A * X = B\u001b[0m\n\u001b[1;37m    ^\u001b[0m\n\u001b[1;31mSyntaxError\u001b[0m\u001b[1;31m:\u001b[0m cannot assign to expression here. Maybe you meant '==' instead of '='?\n"
     ]
    }
   ],
   "source": [
    "A * X = B\n",
    "X = (A inv) B\n"
   ]
  },
  {
   "cell_type": "code",
   "execution_count": 73,
   "id": "c8538d45-f193-4f69-b03c-bf95b0fa0a68",
   "metadata": {},
   "outputs": [
    {
     "name": "stdout",
     "output_type": "stream",
     "text": [
      "Value of (X,y): [2. 1.]\n"
     ]
    }
   ],
   "source": [
    "A = np.array([[2, 1], [1, 1]])\n",
    "B = np. array([5, 3])\n",
    "\n",
    "X = np.linalg.solve(A, B)\n",
    "print(\"Value of (X,y):\", X)"
   ]
  },
  {
   "cell_type": "code",
   "execution_count": 71,
   "id": "791ae329-cd52-4a19-9ba4-3ee47ce6a555",
   "metadata": {},
   "outputs": [
    {
     "data": {
      "text/plain": [
       "array([[-0.13610898, -0.01606297,  0.64714423],\n",
       "       [ 1.0338608 ,  0.37264801,  0.87698018],\n",
       "       [-0.14792102, -0.33187361, -0.62522428]])"
      ]
     },
     "execution_count": 71,
     "metadata": {},
     "output_type": "execute_result"
    }
   ],
   "source": [
    "np.random.randn(3, 3)"
   ]
  },
  {
   "cell_type": "code",
   "execution_count": null,
   "id": "b07b6126-bfa6-4e6c-984e-2cd082530e8d",
   "metadata": {},
   "outputs": [],
   "source": []
  }
 ],
 "metadata": {
  "kernelspec": {
   "display_name": "Python 3 (ipykernel)",
   "language": "python",
   "name": "python3"
  },
  "language_info": {
   "codemirror_mode": {
    "name": "ipython",
    "version": 3
   },
   "file_extension": ".py",
   "mimetype": "text/x-python",
   "name": "python",
   "nbconvert_exporter": "python",
   "pygments_lexer": "ipython3",
   "version": "3.10.11"
  }
 },
 "nbformat": 4,
 "nbformat_minor": 5
}
