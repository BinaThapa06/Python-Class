{
 "cells": [
  {
   "cell_type": "code",
   "execution_count": 15,
   "id": "0b893408",
   "metadata": {},
   "outputs": [
    {
     "name": "stdout",
     "output_type": "stream",
     "text": [
      "Hello Sita\n",
      "<__main__.Person object at 0x000001F28E0C0B80>\n",
      "<class '__main__.Person'>\n",
      "None\n"
     ]
    }
   ],
   "source": [
    "#class with method and attribute\n",
    "class Person:\n",
    "    \n",
    "    name = \"Sita\"\n",
    "    def say_hello(self):\n",
    "        print(f\"Hello {self.name}\")\n",
    "\n",
    "# Creating object\n",
    "p = Person()\n",
    "p.say_hello()\n",
    "print(p)\n",
    "print(p.__class__)\n",
    "print(p.__doc__)"
   ]
  },
  {
   "cell_type": "code",
   "execution_count": 8,
   "id": "e46881f1",
   "metadata": {},
   "outputs": [
    {
     "name": "stdout",
     "output_type": "stream",
     "text": [
      "Hello Sita\n",
      "<__main__.Person object at 0x000001F28E0C1D20>\n",
      "<class '__main__.Person'>\n",
      "\n",
      "    This is class person, which says hello or a person.\n",
      "    \n"
     ]
    }
   ],
   "source": [
    "#class with method and attribute\n",
    "class Person:\n",
    "    \"\"\"\n",
    "    This is class person, which says hello or a person.\n",
    "    \"\"\"\n",
    "    name = \"Sita\"\n",
    "    def say_hello(self):\n",
    "        print(f\"Hello {self.name}\")\n",
    "\n",
    "# Creating object\n",
    "p = Person()\n",
    "p.say_hello()\n",
    "print(p)\n",
    "print(p.__class__)\n",
    "print(p.__doc__)"
   ]
  },
  {
   "cell_type": "code",
   "execution_count": 17,
   "id": "7a107c3a",
   "metadata": {},
   "outputs": [
    {
     "name": "stdout",
     "output_type": "stream",
     "text": [
      "Hello Sita\n",
      "Person object with nameSita\n",
      "<class '__main__.Person'>\n",
      "\n",
      "    This is class person, which says hello or a person.\n",
      "    \n"
     ]
    }
   ],
   "source": [
    "#class with method and attribute\n",
    "class Person:\n",
    "    \"\"\"\n",
    "    This is class person, which says hello or a person.\n",
    "    \"\"\"\n",
    "    name = \"Sita\"\n",
    "    def say_hello(self):\n",
    "        print(f\"Hello {self.name}\")\n",
    "\n",
    "    def __str__(self):\n",
    "        return f\"Person object with name{self.name}\"\n",
    "\n",
    "# Creating object\n",
    "p = Person()\n",
    "p.say_hello()\n",
    "print(p)\n",
    "print(p.__class__)\n",
    "print(p.__doc__)"
   ]
  },
  {
   "cell_type": "code",
   "execution_count": null,
   "id": "cae1db23",
   "metadata": {},
   "outputs": [
    {
     "name": "stdout",
     "output_type": "stream",
     "text": [
      "I am destructor\n",
      "Hello Hari\n",
      "Person object with nameHari\n",
      "<class '__main__.Person'>\n",
      "\n",
      "    This is class person, which says hello or a person.\n",
      "    \n"
     ]
    }
   ],
   "source": [
    "#class with method and attribute,Constructor and destructor\n",
    "class Person:\n",
    "    \"\"\"\n",
    "    This is class person, which says hello or a person.\n",
    "    \"\"\"\n",
    "    def __init__(self, name):       # Constructor\n",
    "        self.name = name\n",
    "\n",
    " \n",
    "    def say_hello(self):\n",
    "        print(f\"Hello {self.name}\")\n",
    "\n",
    "    def __str__(self):          # Magic Function\n",
    "        return f\"Person object with name{self.name}\"\n",
    "    \n",
    "    def __del__(self):      #Destructor\n",
    "        print(\"I am destructor\")\n",
    "\n",
    "# Creating object\n",
    "p = Person(\"Hari\")\n",
    "p.say_hello()\n",
    "print(p)\n",
    "print(p.__class__)\n",
    "print(p.__doc__)"
   ]
  },
  {
   "cell_type": "code",
   "execution_count": 26,
   "id": "62026db1",
   "metadata": {},
   "outputs": [
    {
     "name": "stdout",
     "output_type": "stream",
     "text": [
      "I am destructor\n",
      "Hello Gopal\n",
      "\n",
      "    This is class person, which says hello or a person.\n",
      "    \n",
      "Person object with nameGopal\n"
     ]
    }
   ],
   "source": [
    "p1 = Person(\"Gopal\")\n",
    "p1.say_hello()\n",
    "print(p1.__doc__)\n",
    "print(p1)"
   ]
  },
  {
   "cell_type": "code",
   "execution_count": 41,
   "id": "cbfdc6a5",
   "metadata": {},
   "outputs": [
    {
     "ename": "NameError",
     "evalue": "name 'person' is not defined",
     "output_type": "error",
     "traceback": [
      "\u001b[1;31m---------------------------------------------------------------------------\u001b[0m",
      "\u001b[1;31mNameError\u001b[0m                                 Traceback (most recent call last)",
      "Cell \u001b[1;32mIn[41], line 1\u001b[0m\n\u001b[1;32m----> 1\u001b[0m persons \u001b[38;5;241m=\u001b[39m [\u001b[43mperson\u001b[49m(\u001b[38;5;124m\"\u001b[39m\u001b[38;5;124mA\u001b[39m\u001b[38;5;124m\"\u001b[39m), Person(\u001b[38;5;124m\"\u001b[39m\u001b[38;5;124mB\u001b[39m\u001b[38;5;124m\"\u001b[39m), Person(\u001b[38;5;124m\"\u001b[39m\u001b[38;5;124mC\u001b[39m\u001b[38;5;124m\"\u001b[39m)]\n\u001b[0;32m      3\u001b[0m \u001b[38;5;28;01mfor\u001b[39;00m p \u001b[38;5;129;01min\u001b[39;00m persons:\n\u001b[0;32m      4\u001b[0m     \u001b[38;5;28mprint\u001b[39m(p)\n",
      "\u001b[1;31mNameError\u001b[0m: name 'person' is not defined"
     ]
    }
   ],
   "source": [
    "persons = [person(\"A\"), Person(\"B\"), Person(\"C\")]\n",
    " \n",
    "for p in persons:\n",
    "    print(p)\n",
    "    print(p.__doc__)\n",
    "    p.say_hello()\n",
    "\n"
   ]
  },
  {
   "cell_type": "code",
   "execution_count": null,
   "id": "1c1e7aff",
   "metadata": {},
   "outputs": [],
   "source": [
    "Q. Write a class person\n",
    "Constructor -> name, age\n",
    "function greet -> Hello, my name is {name} and I am {age} years old."
   ]
  },
  {
   "cell_type": "code",
   "execution_count": 60,
   "id": "861c0bec",
   "metadata": {},
   "outputs": [
    {
     "name": "stdout",
     "output_type": "stream",
     "text": [
      "Hello my name is, Hari and I am 20 years old.\n"
     ]
    }
   ],
   "source": [
    "# Class and Object\n",
    "class Person:\n",
    "    def __init__(self, name, age):\n",
    "        self.name = name\n",
    "        self.age = age\n",
    "    def greet (self):\n",
    "        print(f\"Hello my name is, {self.name} and I am {self.age} years old.\")\n",
    "\n",
    "    \n",
    "\n",
    "\n",
    "\n",
    "# Creating object\n",
    "p = Person(\"Hari\", 20)\n",
    "p.greet()\n"
   ]
  },
  {
   "cell_type": "code",
   "execution_count": 28,
   "id": "81f41fea",
   "metadata": {},
   "outputs": [
    {
     "name": "stdout",
     "output_type": "stream",
     "text": [
      "Bank Balance is Rs. 100\n",
      "Deposited Rs. 1500\n",
      "Bank Balance is Rs. 1600\n",
      "Insufficient balance!\n",
      "Bank Balance is Rs. 1600\n",
      "1600\n"
     ]
    }
   ],
   "source": [
    "# Encapsulation\n",
    "\n",
    "class BankAccount:\n",
    "    def __init__(self, balance):\n",
    "        self.__balance = balance\n",
    "\n",
    "    def deposit(self, amount):\n",
    "        print(f\"Deposited Rs. {amount}\")\n",
    "        self.__balance  += amount\n",
    "\n",
    "    def get_balance(self):   # check blnc\n",
    "        return self.__balance\n",
    "    \n",
    "    def withdraw(self, amount):\n",
    "       \n",
    "        if amount > self.__balance:\n",
    "            print(\"Insufficient balance!\")\n",
    "        else:\n",
    "            self.__balance -= amount\n",
    "            print(f\"Withdraw Rs. {amount}\")\n",
    "\n",
    "\n",
    "    \n",
    "account = BankAccount(100)\n",
    "print(f\"Bank Balance is Rs. {account.get_balance()}\")\n",
    "\n",
    "account.deposit(1500)\n",
    "print(f\"Bank Balance is Rs. {account.get_balance()}\")\n",
    "\n",
    "account.withdraw (1700)\n",
    "print(f\"Bank Balance is Rs. {account.get_balance()}\")\n",
    "\n",
    "print(account.get_balance())\n",
    "\n",
    "\n",
    "    "
   ]
  },
  {
   "cell_type": "code",
   "execution_count": null,
   "id": "ba930ec4",
   "metadata": {},
   "outputs": [],
   "source": []
  },
  {
   "cell_type": "code",
   "execution_count": null,
   "id": "667b643f",
   "metadata": {},
   "outputs": [
    {
     "name": "stdout",
     "output_type": "stream",
     "text": [
      "The Apple is Red.\n",
      "The Banana is Yellow.\n"
     ]
    }
   ],
   "source": [
    "#Practice\n",
    "# A Fruit Class\n",
    "\n",
    "class Fruit:\n",
    "\n",
    "    def __init__(self, name, color):\n",
    "        self.name = name\n",
    "        self.color = color\n",
    "    def greet(self):\n",
    "        print(f\"The {self.name} is {self.color}.\")\n",
    "    \n",
    "    # Creating of Object\n",
    "p = Fruit(\"Apple\", \"Red\")\n",
    "p1 = Fruit(\"Banana\",\"Yellow\")\n",
    "p.greet()\n",
    "p2.greet()"
   ]
  },
  {
   "cell_type": "code",
   "execution_count": 1,
   "id": "760ef280",
   "metadata": {},
   "outputs": [
    {
     "name": "stdout",
     "output_type": "stream",
     "text": [
      "The Apple is Red.\n",
      "The Banana is Yellow.\n"
     ]
    }
   ],
   "source": [
    "#By using return (Practise)\n",
    "class Fruit:\n",
    "\n",
    "    def __init__(self, name, color):\n",
    "        self.name = name\n",
    "        self.color = color\n",
    "    def greet(self):\n",
    "        return f\"The {self.name} is {self.color}.\"\n",
    "    \n",
    "    # Creating of Object\n",
    "p = Fruit(\"Apple\", \"Red\")\n",
    "p1 = Fruit(\"Banana\",\"Yellow\")\n",
    "\n",
    "print (p.greet())\n",
    "print (p1.greet())"
   ]
  },
  {
   "cell_type": "code",
   "execution_count": 15,
   "id": "6e53396c",
   "metadata": {},
   "outputs": [
    {
     "ename": "IndentationError",
     "evalue": "unexpected indent (1586072901.py, line 6)",
     "output_type": "error",
     "traceback": [
      "\u001b[1;36m  Cell \u001b[1;32mIn[15], line 6\u001b[1;36m\u001b[0m\n\u001b[1;33m    self.__balance += amount\u001b[0m\n\u001b[1;37m    ^\u001b[0m\n\u001b[1;31mIndentationError\u001b[0m\u001b[1;31m:\u001b[0m unexpected indent\n"
     ]
    }
   ],
   "source": [
    "class BankAccount:\n",
    "    def __init__(self,balance):\n",
    "        self.__balance = balance\n",
    "    \n",
    "    defdeposit(self,amount)\n",
    "        self.__balance += amount\n",
    "        return f\"Deposited Rs.:{amount}\"\n",
    "\n",
    "    def get_balance = (self)\n",
    "        return self.__balance\n",
    "\n",
    "    def Withdraw(self,amount)\n",
    "        if amount > self.__balance\n",
    "            return f\"Insufficient balance.\"\n",
    "\n",
    "        else:\n",
    "            self.__balance -= amount\n",
    "                return f\"Withdraw amount is Rs.\"\n",
    "\n",
    "\n",
    "account = BankAccount(2000)\n",
    "print(f\"Bank Balance is {account.get_balance()}\")\n",
    "\n",
    "Withdraw = BankAccount(500)\n",
    "print(f\"Bank Balance is {account.get_balance()}\")\n",
    "\n",
    "Deposit = BankAccount(1000)\n",
    "print(f\"Bank Balance is {account.get_balance()}\")\n",
    "\n",
    "\n",
    "    \n"
   ]
  },
  {
   "cell_type": "code",
   "execution_count": null,
   "id": "a11b69a9",
   "metadata": {
    "vscode": {
     "languageId": "ruby"
    }
   },
   "outputs": [],
   "source": []
  }
 ],
 "metadata": {
  "kernelspec": {
   "display_name": "Python 3",
   "language": "python",
   "name": "python3"
  },
  "language_info": {
   "codemirror_mode": {
    "name": "ipython",
    "version": 3
   },
   "file_extension": ".py",
   "mimetype": "text/x-python",
   "name": "python",
   "nbconvert_exporter": "python",
   "pygments_lexer": "ipython3",
   "version": "3.10.11"
  }
 },
 "nbformat": 4,
 "nbformat_minor": 5
}
