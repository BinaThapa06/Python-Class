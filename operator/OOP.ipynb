{
 "cells": [
  {
   "cell_type": "markdown",
   "id": "79c9be43",
   "metadata": {},
   "source": [
    "# object Oriented Programming (OOP)"
   ]
  },
  {
   "cell_type": "markdown",
   "id": "71683d84",
   "metadata": {},
   "source": []
  },
  {
   "cell_type": "code",
   "execution_count": null,
   "id": "a1c3974f",
   "metadata": {
    "vscode": {
     "languageId": "markdown"
    }
   },
   "outputs": [
    {
     "ename": "",
     "evalue": "",
     "output_type": "error",
     "traceback": [
      "\u001b[1;31mRunning cells with '.venv (Python 3.13.3)' requires the ipykernel package.\n",
      "\u001b[1;31mInstall 'ipykernel' into the Python environment. \n",
      "\u001b[1;31mCommand: 'c:/Users/Acer/Desktop/Python/.venv/Scripts/python.exe -m pip install ipykernel -U --force-reinstall'"
     ]
    }
   ],
   "source": [
    "OOP ia a method of programming that focuses on using object and class to organize and structure code.\n",
    "++ object**\n",
    "- Instance of class\n"
   ]
  },
  {
   "cell_type": "code",
   "execution_count": 2,
   "id": "b9dc4f27",
   "metadata": {
    "vscode": {
     "languageId": "markdown"
    }
   },
   "outputs": [
    {
     "ename": "IndentationError",
     "evalue": "unindent does not match any outer indentation level (<tokenize>, line 11)",
     "output_type": "error",
     "traceback": [
      "\u001b[1;36m  File \u001b[1;32m<tokenize>:11\u001b[1;36m\u001b[0m\n\u001b[1;33m    1. Encapsulation\u001b[0m\n\u001b[1;37m    ^\u001b[0m\n\u001b[1;31mIndentationError\u001b[0m\u001b[1;31m:\u001b[0m unindent does not match any outer indentation level\n"
     ]
    }
   ],
   "source": [
    "\n",
    "** Class**\n",
    "- Like a blueprint for creating objects\n",
    "\n",
    "-----------------------------------------------\n",
    "\n",
    "- object contains\n",
    "     - Data (Attribute)\n",
    "     - Methods (Functions)\n",
    "\n",
    "## Fundamental Principal of OOP\n",
    "   1. Encapsulation\n",
    "     - Concept of bundling the attribute and Methods/function that work on the data into a single unit or class\n",
    "\n",
    "    2. Abstraction\n",
    "      - Hiding the complex implementation details and showing only the esssential features o the object.\n",
    "\n",
    "    3. Inheritence\n",
    "      - Allowing a new class to inherit attributes and method from an existing class.\n",
    "\n",
    "    4. Polymorphism\n",
    "      - Allowing objects of different classses to be treated as a object of common superclass (by overriding or overloading method.)\n",
    "\n",
    "\n",
    "\n"
   ]
  },
  {
   "cell_type": "code",
   "execution_count": null,
   "id": "a6ab0b79",
   "metadata": {
    "vscode": {
     "languageId": "markdown"
    }
   },
   "outputs": [],
   "source": [
    "## Why OOP?\n",
    "    -   Modularity\n",
    "    -   Code reuse\n",
    "    -   Real World modeling\n",
    "    -   Maintainability"
   ]
  },
  {
   "cell_type": "markdown",
   "id": "1c5ca386",
   "metadata": {},
   "source": [
    "MagicFunction\n",
    "```\n",
    "_ _ init_ _\n",
    "- - str_ _\n",
    "_ _ add_ _\n",
    "_ _del_ _"
   ]
  },
  {
   "cell_type": "code",
   "execution_count": null,
   "id": "9307de06",
   "metadata": {},
   "outputs": [],
   "source": [
    "# Empty class\n",
    "class Person:\n",
    "    pass"
   ]
  },
  {
   "cell_type": "markdown",
   "id": "9d54723f",
   "metadata": {},
   "source": []
  },
  {
   "cell_type": "code",
   "execution_count": 3,
   "id": "684c6aef",
   "metadata": {},
   "outputs": [
    {
     "name": "stdout",
     "output_type": "stream",
     "text": [
      "Hello, World\n"
     ]
    }
   ],
   "source": [
    "#class with method\n",
    "class Person:\n",
    "    def say_hello(self):\n",
    "        print(\"Hello, World\")\n",
    "\n",
    "# Creating object\n",
    "p = Person()\n",
    "p.say_hello()\n",
    "\n"
   ]
  },
  {
   "cell_type": "code",
   "execution_count": 2,
   "id": "0b88ce88",
   "metadata": {},
   "outputs": [
    {
     "name": "stdout",
     "output_type": "stream",
     "text": [
      "Hello Sita\n",
      "<__main__.Person object at 0x0000017FADDC3400>\n",
      "<class '__main__.Person'>\n",
      "None\n"
     ]
    }
   ],
   "source": [
    "#class with method and attribute\n",
    "class Person:\n",
    "    name = \"Sita\"\n",
    "    def say_hello(self):\n",
    "        print(f\"Hello {self.name}\")\n",
    "\n",
    "# Creating object\n",
    "p = Person()\n",
    "p.say_hello()\n",
    "print(p)\n",
    "print(p.__class__)\n",
    "print(p.__doc__)"
   ]
  },
  {
   "cell_type": "code",
   "execution_count": 2,
   "id": "dea2ee04",
   "metadata": {},
   "outputs": [
    {
     "ename": "NameError",
     "evalue": "name 'Inheritance' is not defined",
     "output_type": "error",
     "traceback": [
      "\u001b[1;31m---------------------------------------------------------------------------\u001b[0m",
      "\u001b[1;31mNameError\u001b[0m                                 Traceback (most recent call last)",
      "Cell \u001b[1;32mIn[2], line 1\u001b[0m\n\u001b[1;32m----> 1\u001b[0m \u001b[43mInheritance\u001b[49m , constractor, destructor\n",
      "\u001b[1;31mNameError\u001b[0m: name 'Inheritance' is not defined"
     ]
    }
   ],
   "source": [
    "Inheritance , constractor, destructor"
   ]
  },
  {
   "cell_type": "code",
   "execution_count": null,
   "id": "7bcc330b",
   "metadata": {},
   "outputs": [],
   "source": []
  }
 ],
 "metadata": {
  "kernelspec": {
   "display_name": "Python 3",
   "language": "python",
   "name": "python3"
  },
  "language_info": {
   "codemirror_mode": {
    "name": "ipython",
    "version": 3
   },
   "file_extension": ".py",
   "mimetype": "text/x-python",
   "name": "python",
   "nbconvert_exporter": "python",
   "pygments_lexer": "ipython3",
   "version": "3.10.11"
  }
 },
 "nbformat": 4,
 "nbformat_minor": 5
}
