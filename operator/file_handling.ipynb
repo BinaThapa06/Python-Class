{
 "cells": [
  {
   "cell_type": "markdown",
   "id": "e809bc3d-dd6f-4346-af8d-94bd5499d0d5",
   "metadata": {},
   "source": [
    "# file handling\n",
    "- Read\n",
    "- Write\n",
    "  \n",
    " *Normal file, Binary file*"
   ]
  },
  {
   "cell_type": "markdown",
   "id": "086462f2-178c-4196-baa5-65338f68a850",
   "metadata": {},
   "source": [
    "# Modes of operations\n",
    "1. Read only (r)\n",
    "2. Read only in binary (rb)\n",
    "3. Read and Write(r+)\n",
    "4. Read and Write in binary (rb+)\n",
    "5. Write (w)\n",
    "6. Write binary(wb)\n",
    "7. Write and read (w+)\n",
    "8. Write and read binary (wb+)\n",
    "9. Append (a)\n",
    "10. Append in binary (ab)\n",
    "11. Append and read (a+)\n",
    "12. Append and read in binary (ab+)"
   ]
  },
  {
   "cell_type": "markdown",
   "id": "4f3c8bcf-0660-4a04-8c20-1f5703ea8027",
   "metadata": {},
   "source": [
    "```\n",
    "1. open a file\n",
    "2. do operation\n",
    "3. close file\n",
    "```"
   ]
  },
  {
   "cell_type": "code",
   "execution_count": 1,
   "id": "fd3373a9-371b-44aa-8649-e8c56ce1be20",
   "metadata": {},
   "outputs": [
    {
     "name": "stdout",
     "output_type": "stream",
     "text": [
      "Skill Training Nepal\n",
      "nepal\n",
      "\n"
     ]
    }
   ],
   "source": [
    "file = open(\"hello.txt\",\"r\")\n",
    "\n",
    "data = file.read()\n",
    "print(data)\n",
    "\n",
    "file.close()"
   ]
  },
  {
   "cell_type": "code",
   "execution_count": 2,
   "id": "1cb2f5e6-dd9f-4373-adef-2bfe3da30c0d",
   "metadata": {},
   "outputs": [
    {
     "name": "stdout",
     "output_type": "stream",
     "text": [
      "b'Skill Training Nepal\\nnepal\\n'\n"
     ]
    }
   ],
   "source": [
    "file = open(\"hello.txt\",\"rb\")\n",
    "\n",
    "data = file.read()\n",
    "print(data)\n",
    "\n",
    "file.close()"
   ]
  },
  {
   "cell_type": "code",
   "execution_count": 3,
   "id": "30a8b5c6-69a1-4d64-87a6-8f0feea0b09e",
   "metadata": {},
   "outputs": [],
   "source": [
    "# Write file\n",
    "file = open(\"newfile.txt\",\"w\")\n",
    "\n",
    "file.write(\"hello, World\")\n",
    "\n",
    "\n",
    "file.close()"
   ]
  },
  {
   "cell_type": "code",
   "execution_count": 4,
   "id": "a7a14023-e824-4628-b591-e7e276e061f8",
   "metadata": {},
   "outputs": [
    {
     "name": "stdout",
     "output_type": "stream",
     "text": [
      "Written to file\n"
     ]
    }
   ],
   "source": [
    "# Write file in binary\n",
    "file = open(\"newfile.txt\",\"wb\")\n",
    "\n",
    "file.write(b\"hello, World!\")\n",
    "print(\"Written to file\")\n",
    "\n",
    "\n",
    "file.close()"
   ]
  },
  {
   "cell_type": "code",
   "execution_count": 5,
   "id": "837c40d1-6aad-4e98-9510-be97943172b9",
   "metadata": {},
   "outputs": [],
   "source": [
    "# Append file\n",
    "file = open(\"newfile.txt\",\"a\")\n",
    "\n",
    "file.write(\"\\nWelcome to Skill Training Nepal.\")\n",
    "\n",
    "\n",
    "\n",
    "file.close()"
   ]
  },
  {
   "cell_type": "code",
   "execution_count": 6,
   "id": "53b82c4a-c41b-4097-9883-a4dde19a4580",
   "metadata": {},
   "outputs": [],
   "source": [
    "# Append file\n",
    "file = open(\"newfile.txt\",\"a\")\n",
    "\n",
    "file.write(\"Home Sweet Home.\")\n",
    "\n",
    "\n",
    "\n",
    "file.close()"
   ]
  },
  {
   "cell_type": "code",
   "execution_count": 42,
   "id": "4f9c8f1b-276c-4147-a4d9-f3d5400b8d26",
   "metadata": {},
   "outputs": [
    {
     "name": "stdout",
     "output_type": "stream",
     "text": [
      "Skill Training Nepal\n",
      "nepal\n",
      "\n"
     ]
    }
   ],
   "source": [
    "try:\n",
    "    file= open(\"hello.txt\")\n",
    "\n",
    "    data = file.read()\n",
    "    print(data)\n",
    "\n",
    "except FileNotFoundError:\n",
    "    print(\"File does not exists\")\n",
    "except Exception as e:\n",
    "    print(\"Something wrong\", e)\n",
    "finally:\n",
    "    file.close()\n"
   ]
  },
  {
   "cell_type": "code",
   "execution_count": 43,
   "id": "3255d30b-ddc4-4bb9-8692-3cc7a6fa500d",
   "metadata": {},
   "outputs": [
    {
     "name": "stdout",
     "output_type": "stream",
     "text": [
      "File does not exists\n"
     ]
    }
   ],
   "source": [
    "try:\n",
    "    file= open(\"helo.txt\")\n",
    "\n",
    "    data = file.read()\n",
    "    print(data)\n",
    "\n",
    "except FileNotFoundError:\n",
    "    print(\"File does not exists\")\n",
    "except Exception as e:\n",
    "    print(\"Something wrong\", e)\n",
    "finally:\n",
    "    file.close()\n"
   ]
  },
  {
   "cell_type": "code",
   "execution_count": 44,
   "id": "b89bf856-e70e-49d6-9041-94a2fc74d71b",
   "metadata": {},
   "outputs": [
    {
     "name": "stdout",
     "output_type": "stream",
     "text": [
      "Skill Training Nepal\n",
      "nepal\n",
      "\n"
     ]
    }
   ],
   "source": [
    "with open (\"hello.txt\", \"r\") as file:\n",
    "    data = file.read()\n",
    "    print (data)\n",
    "           "
   ]
  },
  {
   "cell_type": "code",
   "execution_count": 48,
   "id": "d264780d-9954-4b0c-b656-dde40942095c",
   "metadata": {},
   "outputs": [
    {
     "name": "stdout",
     "output_type": "stream",
     "text": [
      "Skill Training Nepal\n",
      "\n",
      "nepal\n",
      "\n",
      "\n"
     ]
    }
   ],
   "source": [
    "with open (\"hello.txt\", \"r\") as file:\n",
    "    data = file.readline()\n",
    "    print(data)\n",
    "    while len(data) > 0:\n",
    "        data = file.readline()\n",
    "        print (data)\n",
    "           "
   ]
  },
  {
   "cell_type": "code",
   "execution_count": 49,
   "id": "37248561-4e3c-4645-a1a3-d6590454a014",
   "metadata": {},
   "outputs": [
    {
     "name": "stdout",
     "output_type": "stream",
     "text": [
      "Skill Training Nepal\n",
      "\n",
      "nepal\n",
      "\n"
     ]
    }
   ],
   "source": [
    "with open (\"hello.txt\", \"r\") as file:\n",
    "   for line in file:\n",
    "       print(line)\n",
    "           "
   ]
  },
  {
   "cell_type": "code",
   "execution_count": 64,
   "id": "080e9a83-04d2-4df6-8aa2-9ec1d7fef4b4",
   "metadata": {},
   "outputs": [
    {
     "name": "stdin",
     "output_type": "stream",
     "text": [
      "Enter file name: skill.txt\n"
     ]
    },
    {
     "name": "stdout",
     "output_type": "stream",
     "text": [
      "WRITING PROGRAMS OR PROGRAMMING IS A VERY CREATIVE\n",
      "AND REWARDING ACTIVITY  YOU CAN WRITE PROGRAMS FOR\n",
      "MANY REASONS RANGING FROM MAKING YOUR LIVING TO SOLVING\n",
      "A DIFFICULT DATA ANALYSIS PROBLEM TO HAVING FUN TO HELPING\n",
      "SOMEONE ELSE SOLVE A PROBLEM  THIS BOOK ASSUMES THAT\n",
      "{\\EM EVERYONE} NEEDS TO KNOW HOW TO PROGRAM AND THAT ONCE\n",
      "YOU KNOW HOW TO PROGRAM, YOU WILL FIGURE OUT WHAT YOU WANT\n",
      "TO DO WITH YOUR NEWFOUND SKILLS\n",
      "\n",
      "WE ARE SURROUNDED IN OUR DAILY LIVES WITH COMPUTERS RANGING\n",
      "FROM LAPTOPS TO CELL PHONES  WE CAN THINK OF THESE COMPUTERS\n",
      "AS OUR PERSONAL ASSISTANTS WHO CAN TAKE CARE OF MANY THINGS\n",
      "ON OUR BEHALF  THE HARDWARE IN OUR CURRENT-DAY COMPUTERS\n",
      "IS ESSENTIALLY BUILT TO CONTINUOUSLY ASK US THE QUESTION\n",
      "WHAT WOULD YOU LIKE ME TO DO NEXT\n",
      "\n",
      "OUR COMPUTERS ARE FAST AND HAVE VASTS AMOUNTS OF MEMORY AND\n",
      "COULD BE VERY HELPFUL TO US IF WE ONLY KNEW THE LANGUAGE TO\n",
      "SPEAK TO EXPLAIN TO THE COMPUTER WHAT WE WOULD LIKE IT TO\n",
      "DO NEXT IF WE KNEW THIS LANGUAGE WE COULD TELL THE\n",
      "COMPUTER TO DO TASKS ON OUR BEHALF THAT WERE REPTITIVE\n",
      "INTERESTINGLY, THE KINDS OF THINGS COMPUTERS CAN DO BEST\n",
      "ARE OFTEN THE KINDS OF THINGS THAT WE HUMANS FIND BORING\n",
      "AND MIND-NUMBING\n"
     ]
    }
   ],
   "source": [
    "fname = input(\"Enter file name:\")\n",
    "\n",
    "if len (fname) <= 0:\n",
    "    fname = \"skill.txt\"\n",
    "\n",
    "with open (fname) as f:\n",
    "    for line in f:\n",
    "        line = line.strip()\n",
    "        line = line.upper()\n",
    "        print(line)"
   ]
  },
  {
   "cell_type": "markdown",
   "id": "e27fdc4a-1123-4158-bb03-48fd24758fc0",
   "metadata": {},
   "source": [
    "\"\"\"\n",
    "\n",
    "Write code using find () and string slicing to extract the number at the end of the line below.\n",
    "convert the extracted value to a floating point number and print it out.\n",
    "\n",
    "\"\"\"\n",
    "    text = \"X-DSPAM-Confidence:   0.8475\""
   ]
  },
  {
   "cell_type": "code",
   "execution_count": 10,
   "id": "5cced7dd-b6e6-4cbc-acda-8beec2cb8b7f",
   "metadata": {},
   "outputs": [
    {
     "data": {
      "text/plain": [
       "':  0.8475'"
      ]
     },
     "execution_count": 10,
     "metadata": {},
     "output_type": "execute_result"
    }
   ],
   "source": [
    "text = \"X-DSPAM-Confidence:  0.8475\"\n",
    "position = text.find(\":\")\n",
    "text[position :]"
   ]
  },
  {
   "cell_type": "code",
   "execution_count": 13,
   "id": "053d84f5-513a-4961-9439-48c624bc7080",
   "metadata": {},
   "outputs": [
    {
     "name": "stdout",
     "output_type": "stream",
     "text": [
      "0.8475\n"
     ]
    }
   ],
   "source": [
    "text = \"X-DSPAM-Confidence:  0.8475\"\n",
    "position = text.find(\":\")\n",
    "number = text[position + 1:]\n",
    "number = number.strip()\n",
    "number = float(number)\n",
    "print(number)"
   ]
  },
  {
   "cell_type": "code",
   "execution_count": null,
   "id": "ab2fe837-58f8-4c60-b316-83daa35f9390",
   "metadata": {},
   "outputs": [],
   "source": []
  }
 ],
 "metadata": {
  "kernelspec": {
   "display_name": "Python 3 (ipykernel)",
   "language": "python",
   "name": "python3"
  },
  "language_info": {
   "codemirror_mode": {
    "name": "ipython",
    "version": 3
   },
   "file_extension": ".py",
   "mimetype": "text/x-python",
   "name": "python",
   "nbconvert_exporter": "python",
   "pygments_lexer": "ipython3",
   "version": "3.10.11"
  }
 },
 "nbformat": 4,
 "nbformat_minor": 5
}
