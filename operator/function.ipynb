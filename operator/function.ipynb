{
 "cells": [
  {
   "cell_type": "markdown",
   "id": "f980747f-9bd4-4f26-a100-09bf90e26c11",
   "metadata": {},
   "source": [
    "# Functions\n",
    "- It is a block resuable code that performs specific task and can take input (parameter) and return output\n",
    "- Define using 'def' keyword\n",
    "```\n",
    "def function_name(parameters{optional}):\n",
    "    body of function\n",
    "    return something (optional)\n",
    "```\n",
    "- Function declaration\n",
    "- Function definition\n",
    "- Function calling"
   ]
  },
  {
   "cell_type": "code",
   "execution_count": null,
   "id": "35418a82-7452-45c8-9d93-235c0efea4e7",
   "metadata": {},
   "outputs": [],
   "source": [
    "# No parameter, no return"
   ]
  },
  {
   "cell_type": "code",
   "execution_count": 1,
   "id": "47565b2c-ede6-4c39-a987-a6333ea23dc3",
   "metadata": {},
   "outputs": [],
   "source": [
    "# Definition of Function\n",
    "def say_hello_world():\n",
    "    \n",
    " print(\"Hello World!\")"
   ]
  },
  {
   "cell_type": "code",
   "execution_count": 2,
   "id": "c082574f-345d-4b9b-a480-fcf6ad1ebfbc",
   "metadata": {},
   "outputs": [
    {
     "name": "stdout",
     "output_type": "stream",
     "text": [
      "Hello World!\n"
     ]
    }
   ],
   "source": [
    "# Calling a Function\n",
    "say_hello_world()"
   ]
  },
  {
   "cell_type": "code",
   "execution_count": 15,
   "id": "8ebef0d1-401f-402c-b1dc-48c1b33410aa",
   "metadata": {},
   "outputs": [],
   "source": [
    "# parameters but no return\n",
    "\n",
    "def greet(name):\n",
    "    print(f\"Hello, {name}\")"
   ]
  },
  {
   "cell_type": "code",
   "execution_count": 16,
   "id": "1dd8a98a-ba6d-4370-81a7-aa735ace1907",
   "metadata": {},
   "outputs": [
    {
     "name": "stdout",
     "output_type": "stream",
     "text": [
      "Hello, Ram\n"
     ]
    }
   ],
   "source": [
    "greet (\"Ram\")"
   ]
  },
  {
   "cell_type": "code",
   "execution_count": 17,
   "id": "0ed71360-2039-4e51-aa98-ee3fdc0ef3ef",
   "metadata": {},
   "outputs": [
    {
     "name": "stdout",
     "output_type": "stream",
     "text": [
      "Hello, Shyam\n"
     ]
    }
   ],
   "source": [
    "greet (\"Shyam\")"
   ]
  },
  {
   "cell_type": "code",
   "execution_count": 18,
   "id": "2cd1f71e-ef16-44b4-833c-a629dbcd047a",
   "metadata": {},
   "outputs": [],
   "source": [
    "# Parameter and return both\n",
    "\n",
    "def sum(a, b):\n",
    "    s = a + b\n",
    "    return s"
   ]
  },
  {
   "cell_type": "code",
   "execution_count": 19,
   "id": "367ff58a-2f17-47c6-bfe4-752809206140",
   "metadata": {},
   "outputs": [
    {
     "name": "stdout",
     "output_type": "stream",
     "text": [
      "7\n"
     ]
    }
   ],
   "source": [
    "s = sum (3, 4)\n",
    "print (s)"
   ]
  },
  {
   "cell_type": "code",
   "execution_count": 20,
   "id": "33363b84-a276-4895-9ab4-7282bf903f49",
   "metadata": {},
   "outputs": [
    {
     "name": "stdout",
     "output_type": "stream",
     "text": [
      "11\n"
     ]
    }
   ],
   "source": [
    "print (sum (5, 6))"
   ]
  },
  {
   "cell_type": "code",
   "execution_count": 21,
   "id": "897b96ea-f6d0-4c4f-b7c0-ad685df6f8f0",
   "metadata": {},
   "outputs": [
    {
     "name": "stdout",
     "output_type": "stream",
     "text": [
      "11.899999999999999\n"
     ]
    }
   ],
   "source": [
    "print(sum(5.6, 6.3))"
   ]
  },
  {
   "cell_type": "code",
   "execution_count": 22,
   "id": "9ee380ff-2e33-4ae0-9ecd-4d3dbc20be5d",
   "metadata": {},
   "outputs": [
    {
     "data": {
      "text/plain": [
       "57"
      ]
     },
     "execution_count": 22,
     "metadata": {},
     "output_type": "execute_result"
    }
   ],
   "source": [
    "sum(55, 2)"
   ]
  },
  {
   "cell_type": "code",
   "execution_count": 28,
   "id": "2fc22ef8-39c1-46df-8632-fa1f62b760b1",
   "metadata": {},
   "outputs": [],
   "source": [
    "def mul(a, b, c):\n",
    "    num = a * b * c\n",
    "    return num"
   ]
  },
  {
   "cell_type": "code",
   "execution_count": 29,
   "id": "ab6f40d6-088f-4bb1-839c-563fccd61ed1",
   "metadata": {},
   "outputs": [
    {
     "name": "stdout",
     "output_type": "stream",
     "text": [
      "48\n"
     ]
    }
   ],
   "source": [
    "num = mul(2, 4, 6)\n",
    "print (num)"
   ]
  },
  {
   "cell_type": "markdown",
   "id": "1dd661e5-80f4-4c79-be70-0186452834c8",
   "metadata": {},
   "source": [
    "## Default argument"
   ]
  },
  {
   "cell_type": "code",
   "execution_count": 41,
   "id": "3c0af8c7-9423-4ef8-bf3e-b2b50898a810",
   "metadata": {},
   "outputs": [],
   "source": [
    "def mul(a, b, c = 1):\n",
    "    return a * b * c"
   ]
  },
  {
   "cell_type": "code",
   "execution_count": 42,
   "id": "6dddcbb9-d8c3-469b-90b6-3cb1c8dea82b",
   "metadata": {},
   "outputs": [
    {
     "data": {
      "text/plain": [
       "27"
      ]
     },
     "execution_count": 42,
     "metadata": {},
     "output_type": "execute_result"
    }
   ],
   "source": [
    "mul(3, 3, 3)"
   ]
  },
  {
   "cell_type": "code",
   "execution_count": 44,
   "id": "1d1899d9-ce7d-4e77-b823-9293db5af6e5",
   "metadata": {},
   "outputs": [
    {
     "data": {
      "text/plain": [
       "16"
      ]
     },
     "execution_count": 44,
     "metadata": {},
     "output_type": "execute_result"
    }
   ],
   "source": [
    "mul(4, 4)"
   ]
  },
  {
   "cell_type": "code",
   "execution_count": 45,
   "id": "203c2cde-8cd3-41ed-a6df-85496f280962",
   "metadata": {},
   "outputs": [],
   "source": [
    "def mul(a, b=1, c = 1):\n",
    "    return a * b * c"
   ]
  },
  {
   "cell_type": "code",
   "execution_count": 46,
   "id": "9adddad9-4fb5-4fad-82e8-43847effa7f0",
   "metadata": {},
   "outputs": [
    {
     "data": {
      "text/plain": [
       "5"
      ]
     },
     "execution_count": 46,
     "metadata": {},
     "output_type": "execute_result"
    }
   ],
   "source": [
    "mul(5)"
   ]
  },
  {
   "cell_type": "code",
   "execution_count": null,
   "id": "ec07f601-15c9-4fa7-9ada-68e431ed1291",
   "metadata": {},
   "outputs": [],
   "source": [
    "def display_info(name, age, *args):\n",
    "    print (f\"Name: {name}\")\n",
    "    print(f\"Age: {age}\")\n",
    "    \n",
    "\n",
    "    if len(args) > 0:\n",
    "        print(f\"Address: {args[0]}\")\n",
    "    if len (args) > 1:\n",
    "        print(f\"working: {args[1]}\") \n",
    "    "
   ]
  },
  {
   "cell_type": "code",
   "execution_count": 19,
   "id": "11eb9a3a-65a4-4f77-bb79-a4afd93b59e4",
   "metadata": {},
   "outputs": [
    {
     "name": "stdout",
     "output_type": "stream",
     "text": [
      "Name: Ram\n",
      "Age: 21\n"
     ]
    }
   ],
   "source": [
    "display_info(\"Ram\",21)"
   ]
  },
  {
   "cell_type": "code",
   "execution_count": 20,
   "id": "c54071d9-1d4a-472e-bbbe-d6f1ae5db8c7",
   "metadata": {},
   "outputs": [
    {
     "name": "stdout",
     "output_type": "stream",
     "text": [
      "Name: Ram\n",
      "Age: 21\n",
      "Address: Kathmandu\n",
      "working: Not yet\n"
     ]
    }
   ],
   "source": [
    "display_info(\"Ram\",21, \"Kathmandu\",\"Not yet\")"
   ]
  },
  {
   "cell_type": "code",
   "execution_count": 21,
   "id": "23b16774-b86e-4d60-9a04-a3f3b8c1389d",
   "metadata": {},
   "outputs": [],
   "source": [
    "name = \"Hari\"\n",
    "age = 20\n",
    "address = \"Kathmandu\"\n",
    "working = \"Not yet\"\n"
   ]
  },
  {
   "cell_type": "code",
   "execution_count": 17,
   "id": "f40b8daa-1ed3-4fd4-806f-76c7961bbf26",
   "metadata": {},
   "outputs": [
    {
     "name": "stdout",
     "output_type": "stream",
     "text": [
      "Name: Hari\n",
      "Age: 20\n"
     ]
    }
   ],
   "source": [
    "display_info(name, age)"
   ]
  },
  {
   "cell_type": "code",
   "execution_count": 5,
   "id": "94ab403c-9c1b-4433-a12b-c2f471521bf8",
   "metadata": {},
   "outputs": [
    {
     "name": "stdout",
     "output_type": "stream",
     "text": [
      "Name: Hari\n",
      "Age: 20\n"
     ]
    }
   ],
   "source": [
    "display_info(name, age, address, working)"
   ]
  },
  {
   "cell_type": "code",
   "execution_count": 25,
   "id": "aecd5d43-41dc-4966-9fd9-9cc76539a3c5",
   "metadata": {},
   "outputs": [],
   "source": [
    "def my_info(*args, **kwargs):\n",
    "    pass"
   ]
  },
  {
   "cell_type": "code",
   "execution_count": 1,
   "id": "819ab9c1-e5c3-461c-85eb-f6e5bc07eb18",
   "metadata": {},
   "outputs": [],
   "source": [
    "def my_info(*args, **kwargs):\n",
    "    print(\"position argument:\")\n",
    "    print(args)\n",
    "    for item in args:\n",
    "        print(item)\n",
    "    print(\"keyword arguments\")\n",
    "    print(kwargs)\n",
    "    for item in kwargs:\n",
    "        print(f\"{item}: {kwargs[item]}\")"
   ]
  },
  {
   "cell_type": "code",
   "execution_count": 10,
   "id": "c5bc1684-2c64-48ae-8773-baf9bb841efe",
   "metadata": {},
   "outputs": [
    {
     "name": "stdout",
     "output_type": "stream",
     "text": [
      "position argument:\n",
      "('Kathmandu', 1, 2)\n",
      "Kathmandu\n",
      "1\n",
      "2\n",
      "keyword arguments\n",
      "{'name': 'Anita', 'age': 30}\n",
      "name: Anita\n",
      "age: 30\n"
     ]
    }
   ],
   "source": [
    "my_info(\"Kathmandu\", 1, 2, name=\"Anita\",age=30)\n"
   ]
  },
  {
   "cell_type": "code",
   "execution_count": 22,
   "id": "c087778b-2a5d-43d1-b5ca-5a12324973c0",
   "metadata": {},
   "outputs": [
    {
     "name": "stdout",
     "output_type": "stream",
     "text": [
      "Positional Arguments:\n",
      " - Python\n",
      " - AI\n",
      "\n",
      "Keyword Arguments:\n",
      " - language:English\n",
      " - level:Advanced\n"
     ]
    }
   ],
   "source": [
    "def full_info(*args, **kwargs):\n",
    "    \n",
    "    print(\"Positional Arguments:\")\n",
    "    for arg in args:\n",
    "        print(f\" - {arg}\")\n",
    "    print(\"\\nKeyword Arguments:\")\n",
    "    for key,value in kwargs.items():\n",
    "              print(f\" - {key}:{value}\")\n",
    "\n",
    "full_info(\"Python\", \"AI\", language=\"English\", level=\"Advanced\")\n"
   ]
  },
  {
   "cell_type": "code",
   "execution_count": null,
   "id": "50fdb6f1-ae2a-42ef-b887-11c6df0bb0b0",
   "metadata": {},
   "outputs": [],
   "source": []
  }
 ],
 "metadata": {
  "kernelspec": {
   "display_name": "Python 3",
   "language": "python",
   "name": "python3"
  },
  "language_info": {
   "codemirror_mode": {
    "name": "ipython",
    "version": 3
   },
   "file_extension": ".py",
   "mimetype": "text/x-python",
   "name": "python",
   "nbconvert_exporter": "python",
   "pygments_lexer": "ipython3",
   "version": "3.10.11"
  }
 },
 "nbformat": 4,
 "nbformat_minor": 5
}
