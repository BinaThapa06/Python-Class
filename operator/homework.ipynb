{
 "cells": [
  {
   "cell_type": "markdown",
   "id": "6bceba0e",
   "metadata": {},
   "source": [
    "\n",
    "#Write a program to prompt for a score between 0.0 and 1.0. If the score is out of range, print an error. If the score is between 0.0 and 1.0, print a grade using the following table:\n",
    "\n",
    "```\n",
    "Score \t\tGrade\n",
    ">= 0.9 \t\tA\n",
    ">= 0.8 \t\tB\n",
    ">= 0.7 \t\tC\n",
    ">= 0.6 \t\tD\n",
    "< 0.6 \t\tF\n",
    "If the user enters a value out of range, print a suitable error message and exit.\n",
    " ```       "
   ]
  },
  {
   "cell_type": "code",
   "execution_count": 50,
   "id": "37251bd9",
   "metadata": {},
   "outputs": [
    {
     "name": "stdout",
     "output_type": "stream",
     "text": [
      "Error, Invalid Input.\n"
     ]
    }
   ],
   "source": [
    "try:\n",
    "    Score = float(input(\"Enter a Score between 0.0 to 1.0:\"))\n",
    "    \n",
    "    if Score < 0.0 or Score > 1.0:\n",
    "        print(\"Error, Out of Range.\")\n",
    "\n",
    "    elif Score >= 0.9:\n",
    "        print(\"Grade: A\")\n",
    "\n",
    "    elif Score >= 0.8:\n",
    "        print(\"Grade: B\")\n",
    "\n",
    "    elif Score >= 0.7:\n",
    "        print(\"Grade: C\")\n",
    "\n",
    "    elif Score >= 0.6:\n",
    "        print(\"Grade: D\")\n",
    "    else: \n",
    "        print(\"Grade: F\")\n",
    "\n",
    "except ValueError:\n",
    "    print(\"Error, Invalid Input.\")\n"
   ]
  },
  {
   "cell_type": "code",
   "execution_count": 51,
   "id": "757c6fa9",
   "metadata": {},
   "outputs": [
    {
     "ename": "SyntaxError",
     "evalue": "invalid syntax (1993155620.py, line 2)",
     "output_type": "error",
     "traceback": [
      "\u001b[1;36m  Cell \u001b[1;32mIn[51], line 2\u001b[1;36m\u001b[0m\n\u001b[1;33m    enters 'done'. Once 'done' is entered,print out the largest and smallest of the numbers.\u001b[0m\n\u001b[1;37m           ^\u001b[0m\n\u001b[1;31mSyntaxError\u001b[0m\u001b[1;31m:\u001b[0m invalid syntax\n"
     ]
    }
   ],
   "source": [
    "# 1.Write a program that repeatedly prompts a user for integer numbers until the user \n",
    "enters 'done'. Once 'done' is entered,print out the largest and smallest of the numbers.\n",
    "If the user enters anything other than a valid number, catch it\n",
    " with a try/except and put out an appropriate message and ignore the number."
   ]
  },
  {
   "cell_type": "code",
   "execution_count": null,
   "id": "0dd220b5",
   "metadata": {},
   "outputs": [
    {
     "name": "stdout",
     "output_type": "stream",
     "text": [
      "Largest number: 9\n",
      "Smallest number: 2\n"
     ]
    }
   ],
   "source": [
    "largest = None\n",
    "smallest = None\n",
    "\n",
    "\n",
    "while True:\n",
    "    \n",
    "    num = input(\"Enter a integer number\" 'or type done' )\n",
    "    if num.lower() == 'done':\n",
    "        break\n",
    "    try:\n",
    "        num = int(num)\n",
    "        largest = num if largest is None or num > largest else largest\n",
    "        smallest = num if smallest is None or num < smallest else smallest\n",
    "        \n",
    "    except ValueError:     \n",
    "        print(\"Invalid input.\")\n",
    "\n",
    "print(f\"Largest number: {largest}\")\n",
    "print(f\"Smallest number: {smallest}\")\n",
    "\n",
    " \n",
    "        "
   ]
  },
  {
   "cell_type": "markdown",
   "id": "8075e976",
   "metadata": {},
   "source": [
    "# 3. Write a program to prompt the user for hours and rate per hour using input to \n",
    "compute gross pay. Pay should be the normal rate for hours up to 40 and \n",
    " time-and-a-half for the hourly rate for all hours worked above 40 hours.  Put the logic to do the computation of pay in a function called computepay() and use the function to do the computation. The function should return a value. \n",
    "Use 45 hours and a rate of 10.50 per hour to test the program (the pay should be 498.75). You should use input to read a\n",
    "string and float() to convert the string to \n",
    " a number.\n"
   ]
  },
  {
   "cell_type": "code",
   "execution_count": null,
   "id": "ce8974be",
   "metadata": {},
   "outputs": [
    {
     "name": "stdout",
     "output_type": "stream",
     "text": [
      "Gross Pay: 498.75\n"
     ]
    }
   ],
   "source": [
    "def computepay(hours, rate):\n",
    "    if hours <= 40:\n",
    "        pay = hours * rate\n",
    "    else:\n",
    "        overtime_hours = hours - 40\n",
    "        overtime_pay = overtime_hours * (rate * 1.5)\n",
    "        pay = (40 * rate) + overtime_pay\n",
    "    return pay\n",
    "\n",
    "hours = float(input(\"Enter Hours \"))\n",
    "rate = float(input(\"Enter Rate per Hour\"))\n",
    "\n",
    "\n",
    "gross_pay = computepay(hours, rate)\n",
    "print(\"Gross Pay:\", gross_pay)\n"
   ]
  },
  {
   "cell_type": "code",
   "execution_count": null,
   "id": "76732186",
   "metadata": {
    "vscode": {
     "languageId": "markdown"
    }
   },
   "outputs": [],
   "source": [
    "4.Open the file romeo.txt and read it line by line. For each line, split the line into a list of words using the split() method.\n",
    "The program should build a list of words. For each word on each line check to see if the word is already in the list and\n",
    "if not append it to the list. When the program completes, sort and print the resulting words in alphabetical order.\n",
    "You can download the sample data at http://www.py4e.com/code3/romeo.txt\n",
    "\n"
   ]
  },
  {
   "cell_type": "code",
   "execution_count": null,
   "id": "528045a3",
   "metadata": {
    "vscode": {
     "languageId": "markdown"
    }
   },
   "outputs": [
    {
     "name": "stdout",
     "output_type": "stream",
     "text": [
      "['Arise', 'But', 'It', 'Juliet', 'Who', 'already', 'and', 'breaks', 'east', 'envious', 'fair', 'grief', 'is', 'kill', 'light', 'moon', 'pale', 'sick', 'soft', 'sun', 'the', 'through', 'what', 'window', 'with', 'yonder']\n"
     ]
    }
   ],
   "source": [
    "try:\n",
    "    with open(\"romeo.txt\", \"r\") as file:\n",
    "        unique_words = []  # List to store unique words\n",
    "\n",
    "        # Read file line by line\n",
    "        for line in file:\n",
    "            words = line.split()  # Split the line into words\n",
    "            for word in words:\n",
    "                if word not in unique_words:\n",
    "                \n",
    "                    unique_words.append(word)\n",
    "\n",
    "    # Sort the words in alphabetical order\n",
    "    unique_words.sort()\n",
    "\n",
    "    # Print the sorted list of words\n",
    "    print(unique_words)\n",
    "\n",
    "except FileNotFoundError:\n",
    "    print(\"Error: The file 'romeo.txt' was not found.\")\n",
    "\n"
   ]
  },
  {
   "cell_type": "code",
   "execution_count": null,
   "id": "730e1c6e",
   "metadata": {
    "vscode": {
     "languageId": "markdown"
    }
   },
   "outputs": [],
   "source": [
    "5.Write a program that prompts for a file name, then opens that file and reads through the file, looking for lines of the form:\n",
    "X-DSPAM-Confidence:\t0.8475\n",
    "Count these lines and extract the floating point values from each of the lines and compute the average of those values and produce an output like:\n",
    "Average spam confidence: 0.765\n",
    "Do not use the sum() function or a variable named sum in your solution.\n",
    "You can download the sample data at http://www.py4e.com/code3/mbox-short.txt\n"
   ]
  },
  {
   "cell_type": "code",
   "execution_count": null,
   "id": "89d94814",
   "metadata": {},
   "outputs": [
    {
     "name": "stdout",
     "output_type": "stream",
     "text": [
      "Average spam confidence: 0.7507185185185187\n"
     ]
    }
   ],
   "source": [
    "sampledata = input(\"Enter the file name: \")\n",
    "\n",
    "try:\n",
    "    # Open the file\n",
    "    with open(sampledata, 'r') as file:\n",
    "        count = 0      \n",
    "        total = 0.0   \n",
    "\n",
    "        # Read each line from the file\n",
    "        for line in file:\n",
    "            # Check if line starts with \"X-DSPAM-Confidence:\"\n",
    "            if line.startswith(\"X-DSPAM-Confidence:\"):\n",
    "                # Extract the floating-point number\n",
    "                value = float(line.split(\":\")[1].strip())\n",
    "                \n",
    "                # Update total and count\n",
    "                total += value\n",
    "                count += 1\n",
    "\n",
    " # Compute the average\n",
    "        if count > 0:\n",
    "            average = total / count\n",
    "            print(f\"Average spam confidence: {average}\")\n",
    "        else:\n",
    "            print(\"No matching lines found.\")\n",
    "\n",
    "except FileNotFoundError:\n",
    "    print(\"Please enter a valid filename.\")\n"
   ]
  },
  {
   "cell_type": "code",
   "execution_count": null,
   "id": "108794c4",
   "metadata": {
    "vscode": {
     "languageId": "markdown"
    }
   },
   "outputs": [],
   "source": [
    "Open the file mbox-short.txt and read it line by line. When you find a line that starts with 'From ' like the following line:\n",
    "From stephen.marquard@uct.ac.za Sat Jan  5 09:14:16 2008\n",
    "You will parse the From line using split() and print out the second word in the line (i.e. the entire address of the person who sent the message). Then print out a count at the end.\n",
    "Hint: make sure not to include the lines that start with 'From:'. Also look at the last line of the sample output to see how to print the count.\n",
    "You can download the sample data at http://www.py4e.com/code3/mbox-short.txt\n"
   ]
  },
  {
   "cell_type": "code",
   "execution_count": null,
   "id": "3bef9398",
   "metadata": {},
   "outputs": [
    {
     "name": "stdout",
     "output_type": "stream",
     "text": [
      "stephen.marquard@uct.ac.za\n",
      "louis@media.berkeley.edu\n",
      "zqian@umich.edu\n",
      "rjlowe@iupui.edu\n",
      "zqian@umich.edu\n",
      "rjlowe@iupui.edu\n",
      "cwen@iupui.edu\n",
      "cwen@iupui.edu\n",
      "gsilver@umich.edu\n",
      "gsilver@umich.edu\n",
      "zqian@umich.edu\n",
      "gsilver@umich.edu\n",
      "wagnermr@iupui.edu\n",
      "zqian@umich.edu\n",
      "antranig@caret.cam.ac.uk\n",
      "gopal.ramasammycook@gmail.com\n",
      "david.horwitz@uct.ac.za\n",
      "david.horwitz@uct.ac.za\n",
      "david.horwitz@uct.ac.za\n",
      "david.horwitz@uct.ac.za\n",
      "stephen.marquard@uct.ac.za\n",
      "louis@media.berkeley.edu\n",
      "louis@media.berkeley.edu\n",
      "ray@media.berkeley.edu\n",
      "cwen@iupui.edu\n",
      "cwen@iupui.edu\n",
      "cwen@iupui.edu\n",
      "There were 27 lines in the file with 'From' as the first word.\n"
     ]
    }
   ],
   "source": [
    "# Open the file\n",
    "fname = \"mbox.txt\"\n",
    "count = 0\n",
    "\n",
    "try:\n",
    "    with open(fname, \"r\") as fhandle:  # Corrected `mbox` to `fname`\n",
    "        for line in fhandle:\n",
    "            line = line.strip()\n",
    "           \n",
    "            if line.startswith(\"From \"):\n",
    "                words = line.split()\n",
    "                \n",
    "                count += 1\n",
    "except FileNotFoundError:\n",
    "    print(f\"File '{fname}' not found. Please make sure it is in the correct directory.\")  # Corrected `mbox` to `fname`\n",
    "\n",
    "# Print the count\n",
    "print(f\"There were {count} lines in the file with 'From' as the first word.\")\n"
   ]
  },
  {
   "cell_type": "markdown",
   "id": "c110e535",
   "metadata": {},
   "source": [
    "# Guessing game."
   ]
  },
  {
   "cell_type": "code",
   "execution_count": null,
   "id": "e3dd82e7",
   "metadata": {},
   "outputs": [
    {
     "name": "stdout",
     "output_type": "stream",
     "text": [
      "Your guess is low and Continue\n",
      "Your guess is low and Continue\n",
      "Your guess is low and Continue\n",
      "Your guess is high and Continue\n",
      "Your guess is high and Continue\n",
      "Your guess is high and Continue\n",
      "Your guess is high and Continue\n",
      "Your guess is correct\n"
     ]
    }
   ],
   "source": [
    "import random\n",
    "\n",
    "flag = random.randint(1, 100)\n",
    "\n",
    "while True:\n",
    "    try:\n",
    "        guess = int(input(\"Enter a number\"))\n",
    "\n",
    "        \n",
    "        if guess > flag:\n",
    "            print(\"Your guess is high and Continue\")\n",
    "        elif guess < flag:\n",
    "            print(\"Your guess is low and Continue\")\n",
    "        else:\n",
    "            print(\"Your guess is correct\")\n",
    "            break\n",
    "    except ValueError:     \n",
    "        print(\"Invalid input.\")"
   ]
  },
  {
   "cell_type": "code",
   "execution_count": null,
   "id": "8aefc097",
   "metadata": {},
   "outputs": [],
   "source": []
  }
 ],
 "metadata": {
  "kernelspec": {
   "display_name": "Python 3",
   "language": "python",
   "name": "python3"
  },
  "language_info": {
   "codemirror_mode": {
    "name": "ipython",
    "version": 3
   },
   "file_extension": ".py",
   "mimetype": "text/x-python",
   "name": "python",
   "nbconvert_exporter": "python",
   "pygments_lexer": "ipython3",
   "version": "3.10.11"
  }
 },
 "nbformat": 4,
 "nbformat_minor": 5
}
