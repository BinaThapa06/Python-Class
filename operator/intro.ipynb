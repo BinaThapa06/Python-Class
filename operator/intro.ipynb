{
 "cells": [
  {
   "cell_type": "markdown",
   "id": "7a18f608-b0c0-40e0-bc36-6a8c8996ef77",
   "metadata": {},
   "source": [
    "# Intro to python"
   ]
  },
  {
   "cell_type": "code",
   "execution_count": 10,
   "id": "b178335a-d52f-49fb-a05b-5bb00c0b7dec",
   "metadata": {},
   "outputs": [
    {
     "name": "stdout",
     "output_type": "stream",
     "text": [
      "Hello, World\n",
      " Nepal\n"
     ]
    }
   ],
   "source": [
    "# Print Hello, World\n",
    "\n",
    "\n",
    "print('Hello, World\\n Nepal')"
   ]
  },
  {
   "cell_type": "code",
   "execution_count": 12,
   "id": "eb9b1001-f882-40ac-9f0d-6cbd52f0e604",
   "metadata": {},
   "outputs": [
    {
     "name": "stdout",
     "output_type": "stream",
     "text": [
      "Hello, World\n",
      "Nepal\n"
     ]
    }
   ],
   "source": [
    "\"\"\"\n",
    "Again printing hello world\n",
    "with\\n\n",
    "\"\"\"\n",
    "print(\"Hello, World\\nNepal\")"
   ]
  },
  {
   "cell_type": "raw",
   "id": "96b409cc-7081-43fa-a228-355508bda701",
   "metadata": {},
   "source": [
    "print('text')"
   ]
  },
  {
   "cell_type": "code",
   "execution_count": 18,
   "id": "b3f1481d-8499-4f8b-8855-7e95298c1469",
   "metadata": {},
   "outputs": [
    {
     "name": "stdout",
     "output_type": "stream",
     "text": [
      "my name is \"Ram\"\n"
     ]
    }
   ],
   "source": [
    "#write print statement whose o\\is is:my name is Ram\n",
    "print(\"my name is \\\"Ram\\\"\")"
   ]
  },
  {
   "cell_type": "code",
   "execution_count": 19,
   "id": "6e8a2cad-3d08-4148-b043-c2c00fae3855",
   "metadata": {},
   "outputs": [
    {
     "name": "stdout",
     "output_type": "stream",
     "text": [
      "my name is Ram\n"
     ]
    }
   ],
   "source": [
    "print(\"my name is\",\"Ram\")"
   ]
  },
  {
   "cell_type": "code",
   "execution_count": 20,
   "id": "1f73795c-841e-4368-911e-0852c61aad2d",
   "metadata": {},
   "outputs": [
    {
     "data": {
      "text/plain": [
       "['__call__',\n",
       " '__class__',\n",
       " '__delattr__',\n",
       " '__dir__',\n",
       " '__doc__',\n",
       " '__eq__',\n",
       " '__format__',\n",
       " '__ge__',\n",
       " '__getattribute__',\n",
       " '__gt__',\n",
       " '__hash__',\n",
       " '__init__',\n",
       " '__init_subclass__',\n",
       " '__le__',\n",
       " '__lt__',\n",
       " '__module__',\n",
       " '__name__',\n",
       " '__ne__',\n",
       " '__new__',\n",
       " '__qualname__',\n",
       " '__reduce__',\n",
       " '__reduce_ex__',\n",
       " '__repr__',\n",
       " '__self__',\n",
       " '__setattr__',\n",
       " '__sizeof__',\n",
       " '__str__',\n",
       " '__subclasshook__',\n",
       " '__text_signature__']"
      ]
     },
     "execution_count": 20,
     "metadata": {},
     "output_type": "execute_result"
    }
   ],
   "source": [
    "dir(print)"
   ]
  },
  {
   "cell_type": "code",
   "execution_count": null,
   "id": "c6d6e971-ea0b-43e3-9b66-9263902f26ef",
   "metadata": {},
   "outputs": [],
   "source": []
  }
 ],
 "metadata": {
  "kernelspec": {
   "display_name": "Python 3 (ipykernel)",
   "language": "python",
   "name": "python3"
  },
  "language_info": {
   "codemirror_mode": {
    "name": "ipython",
    "version": 3
   },
   "file_extension": ".py",
   "mimetype": "text/x-python",
   "name": "python",
   "nbconvert_exporter": "python",
   "pygments_lexer": "ipython3",
   "version": "3.10.11"
  }
 },
 "nbformat": 4,
 "nbformat_minor": 5
}
