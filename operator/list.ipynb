{
 "cells": [
  {
   "cell_type": "markdown",
   "id": "37e49e13-8e38-4879-a4a0-f33f38bce209",
   "metadata": {},
   "source": [
    "# List\n",
    "- also called dynamic array\n",
    "  "
   ]
  },
  {
   "cell_type": "code",
   "execution_count": 2,
   "id": "a560509f-fee9-49f6-9819-83e8fcb825e6",
   "metadata": {},
   "outputs": [],
   "source": [
    "list1 = [11, 2, 3, 4, 5]"
   ]
  },
  {
   "cell_type": "code",
   "execution_count": 3,
   "id": "8a25c7f5-fa74-44cb-9ecd-15faf5025e17",
   "metadata": {},
   "outputs": [
    {
     "name": "stdout",
     "output_type": "stream",
     "text": [
      "11\n",
      "2\n",
      "3\n",
      "4\n",
      "5\n"
     ]
    }
   ],
   "source": [
    "for i in list1:\n",
    "    print(i)"
   ]
  },
  {
   "cell_type": "code",
   "execution_count": 4,
   "id": "32d35905-a0bc-49ac-b7b7-205ce1681d80",
   "metadata": {
    "scrolled": true
   },
   "outputs": [
    {
     "data": {
      "text/plain": [
       "['__add__',\n",
       " '__class__',\n",
       " '__class_getitem__',\n",
       " '__contains__',\n",
       " '__delattr__',\n",
       " '__delitem__',\n",
       " '__dir__',\n",
       " '__doc__',\n",
       " '__eq__',\n",
       " '__format__',\n",
       " '__ge__',\n",
       " '__getattribute__',\n",
       " '__getitem__',\n",
       " '__gt__',\n",
       " '__hash__',\n",
       " '__iadd__',\n",
       " '__imul__',\n",
       " '__init__',\n",
       " '__init_subclass__',\n",
       " '__iter__',\n",
       " '__le__',\n",
       " '__len__',\n",
       " '__lt__',\n",
       " '__mul__',\n",
       " '__ne__',\n",
       " '__new__',\n",
       " '__reduce__',\n",
       " '__reduce_ex__',\n",
       " '__repr__',\n",
       " '__reversed__',\n",
       " '__rmul__',\n",
       " '__setattr__',\n",
       " '__setitem__',\n",
       " '__sizeof__',\n",
       " '__str__',\n",
       " '__subclasshook__',\n",
       " 'append',\n",
       " 'clear',\n",
       " 'copy',\n",
       " 'count',\n",
       " 'extend',\n",
       " 'index',\n",
       " 'insert',\n",
       " 'pop',\n",
       " 'remove',\n",
       " 'reverse',\n",
       " 'sort']"
      ]
     },
     "execution_count": 4,
     "metadata": {},
     "output_type": "execute_result"
    }
   ],
   "source": [
    "dir(list)"
   ]
  },
  {
   "cell_type": "code",
   "execution_count": 5,
   "id": "a3741993-933b-44c7-ad0f-97af128119f7",
   "metadata": {},
   "outputs": [
    {
     "data": {
      "text/plain": [
       "[2, 3, 4, 5, 11]"
      ]
     },
     "execution_count": 5,
     "metadata": {},
     "output_type": "execute_result"
    }
   ],
   "source": [
    "# Sort\n",
    "list1.sort()\n",
    "list1"
   ]
  },
  {
   "cell_type": "code",
   "execution_count": 9,
   "id": "7465498d-77f6-44e8-945d-fcb613735fd8",
   "metadata": {},
   "outputs": [
    {
     "name": "stdout",
     "output_type": "stream",
     "text": [
      "[2, 3, 4, 5, 11]\n",
      "[2, 3, 4, 5, 11]\n"
     ]
    }
   ],
   "source": [
    "\n",
    "list1_cp = list1.copy()\n",
    "print(list1)\n",
    "print(list1_cp)"
   ]
  },
  {
   "cell_type": "code",
   "execution_count": 10,
   "id": "c2efa9c5-f470-4a39-9fb4-4bc32342ae02",
   "metadata": {},
   "outputs": [],
   "source": [
    "# sort\n",
    "list1_cp.sort()"
   ]
  },
  {
   "cell_type": "code",
   "execution_count": 11,
   "id": "d7c5d670-3a70-4bf8-82a8-3e88969e2249",
   "metadata": {},
   "outputs": [
    {
     "data": {
      "text/plain": [
       "[2, 3, 4, 5, 11]"
      ]
     },
     "execution_count": 11,
     "metadata": {},
     "output_type": "execute_result"
    }
   ],
   "source": [
    "list1_cp"
   ]
  },
  {
   "cell_type": "code",
   "execution_count": 12,
   "id": "b20a5e23-d9bc-4229-a35f-c993bbc91a23",
   "metadata": {},
   "outputs": [
    {
     "data": {
      "text/plain": [
       "[11, 5, 4, 3, 2]"
      ]
     },
     "execution_count": 12,
     "metadata": {},
     "output_type": "execute_result"
    }
   ],
   "source": [
    "# list1.reverse\n",
    "list1_cp.reverse()\n",
    "list1_cp"
   ]
  },
  {
   "cell_type": "code",
   "execution_count": 15,
   "id": "01223a6e-4135-42d5-b400-0ed818b719c1",
   "metadata": {},
   "outputs": [
    {
     "data": {
      "text/plain": [
       "[2, 3, 4, 5, 11, 20, 20, 20]"
      ]
     },
     "execution_count": 15,
     "metadata": {},
     "output_type": "execute_result"
    }
   ],
   "source": [
    "#Append\n",
    "\n",
    "list1.append(20)\n",
    "list1\n"
   ]
  },
  {
   "cell_type": "code",
   "execution_count": 16,
   "id": "89f95b6f-03f1-4c49-9639-6bd51bdef471",
   "metadata": {},
   "outputs": [],
   "source": [
    "list1.append(\"Hello\")   # it will repeat while run (append) every time)"
   ]
  },
  {
   "cell_type": "code",
   "execution_count": 17,
   "id": "0cebbc96-c8f0-4b0b-b338-6df53017e65b",
   "metadata": {},
   "outputs": [
    {
     "data": {
      "text/plain": [
       "[2, 3, 4, 5, 11, 20, 20, 20, 'Hello']"
      ]
     },
     "execution_count": 17,
     "metadata": {},
     "output_type": "execute_result"
    }
   ],
   "source": [
    "list1"
   ]
  },
  {
   "cell_type": "code",
   "execution_count": 19,
   "id": "ef77c9a6-0992-4426-90ec-621035c466e3",
   "metadata": {},
   "outputs": [
    {
     "data": {
      "text/plain": [
       "[2, 3, 4, 5, 11, 20, 20, 20, 'Hello', [3, 4, 5], [3, 4, 5]]"
      ]
     },
     "execution_count": 19,
     "metadata": {},
     "output_type": "execute_result"
    }
   ],
   "source": [
    "a = [3, 4, 5]\n",
    "list1.append(a)\n",
    "list1"
   ]
  },
  {
   "cell_type": "code",
   "execution_count": 42,
   "id": "1b3866c0-a17d-4fa4-93ce-01062f42a81d",
   "metadata": {},
   "outputs": [
    {
     "data": {
      "text/plain": [
       "[]"
      ]
     },
     "execution_count": 42,
     "metadata": {},
     "output_type": "execute_result"
    }
   ],
   "source": [
    "l = list()\n",
    "l"
   ]
  },
  {
   "cell_type": "code",
   "execution_count": 43,
   "id": "52078c55-e9c7-44d1-a786-7f672ec82478",
   "metadata": {},
   "outputs": [],
   "source": [
    "a = [1, 3, 4]\n",
    "b = [\"a\", \"b\"]"
   ]
  },
  {
   "cell_type": "code",
   "execution_count": 44,
   "id": "6c513b8c-8972-4338-a08b-9c4f14e30374",
   "metadata": {},
   "outputs": [
    {
     "data": {
      "text/plain": [
       "[[1, 3, 4], ['a', 'b']]"
      ]
     },
     "execution_count": 44,
     "metadata": {},
     "output_type": "execute_result"
    }
   ],
   "source": [
    "l.append(a)\n",
    "l.append(b)\n",
    "l"
   ]
  },
  {
   "cell_type": "code",
   "execution_count": 45,
   "id": "e30fb531-ad5b-4fb3-aa7d-30705749657a",
   "metadata": {},
   "outputs": [
    {
     "data": {
      "text/plain": [
       "[]"
      ]
     },
     "execution_count": 45,
     "metadata": {},
     "output_type": "execute_result"
    }
   ],
   "source": [
    "l = list()\n",
    "l"
   ]
  },
  {
   "cell_type": "code",
   "execution_count": 46,
   "id": "a52f519f-faef-4cac-b913-2b1119377819",
   "metadata": {},
   "outputs": [
    {
     "data": {
      "text/plain": [
       "[1, 3, 4, 'a', 'b']"
      ]
     },
     "execution_count": 46,
     "metadata": {},
     "output_type": "execute_result"
    }
   ],
   "source": [
    "l.extend(a)\n",
    "l.extend(b)\n",
    "l"
   ]
  },
  {
   "cell_type": "code",
   "execution_count": 47,
   "id": "c0831c74-539c-4087-8615-bc2e81672d86",
   "metadata": {},
   "outputs": [
    {
     "data": {
      "text/plain": [
       "[1, 3, 4, 'a', 'b', 0, 1, 2, 3, 4, 5]"
      ]
     },
     "execution_count": 47,
     "metadata": {},
     "output_type": "execute_result"
    }
   ],
   "source": [
    "l.extend(range(6))\n",
    "l"
   ]
  },
  {
   "cell_type": "code",
   "execution_count": 50,
   "id": "93de2668-aa8f-49f9-9281-43f17102f37d",
   "metadata": {},
   "outputs": [
    {
     "data": {
      "text/plain": [
       "0"
      ]
     },
     "execution_count": 50,
     "metadata": {},
     "output_type": "execute_result"
    }
   ],
   "source": [
    "l.index(1)"
   ]
  },
  {
   "cell_type": "code",
   "execution_count": 51,
   "id": "fd2dcb27-65c7-4d84-87e2-aaf94b1bec9a",
   "metadata": {},
   "outputs": [
    {
     "data": {
      "text/plain": [
       "3"
      ]
     },
     "execution_count": 51,
     "metadata": {},
     "output_type": "execute_result"
    }
   ],
   "source": [
    "l.index('a')"
   ]
  },
  {
   "cell_type": "code",
   "execution_count": 52,
   "id": "a3849f3b-977d-4ba3-92c5-fe2aadb41d1a",
   "metadata": {},
   "outputs": [
    {
     "ename": "ValueError",
     "evalue": "'9' is not in list",
     "output_type": "error",
     "traceback": [
      "\u001b[1;31m---------------------------------------------------------------------------\u001b[0m",
      "\u001b[1;31mValueError\u001b[0m                                Traceback (most recent call last)",
      "Cell \u001b[1;32mIn[52], line 1\u001b[0m\n\u001b[1;32m----> 1\u001b[0m \u001b[43ml\u001b[49m\u001b[38;5;241;43m.\u001b[39;49m\u001b[43mindex\u001b[49m\u001b[43m(\u001b[49m\u001b[38;5;124;43m'\u001b[39;49m\u001b[38;5;124;43m9\u001b[39;49m\u001b[38;5;124;43m'\u001b[39;49m\u001b[43m)\u001b[49m\n",
      "\u001b[1;31mValueError\u001b[0m: '9' is not in list"
     ]
    }
   ],
   "source": [
    "l.index('9')"
   ]
  },
  {
   "cell_type": "code",
   "execution_count": 53,
   "id": "50166fc2-da79-43be-bda0-b6c6d1285c4d",
   "metadata": {},
   "outputs": [
    {
     "data": {
      "text/plain": [
       "[1, 3, 4, 'New data', 'a', 'b', 0, 1, 2, 3, 4, 5]"
      ]
     },
     "execution_count": 53,
     "metadata": {},
     "output_type": "execute_result"
    }
   ],
   "source": [
    "l.insert(3, \"New data\")\n",
    "l"
   ]
  },
  {
   "cell_type": "code",
   "execution_count": 54,
   "id": "e6e93a3d-b60a-4d9d-a4b0-f0a2c709e974",
   "metadata": {},
   "outputs": [
    {
     "data": {
      "text/plain": [
       "[1, 3, 4, 'New data', 'a', 'b', 0, 1, 2, 3, 4]"
      ]
     },
     "execution_count": 54,
     "metadata": {},
     "output_type": "execute_result"
    }
   ],
   "source": [
    "l.pop()\n",
    "l"
   ]
  },
  {
   "cell_type": "code",
   "execution_count": 55,
   "id": "5b7d4bbe-8a02-4008-87e1-b9e3c862e872",
   "metadata": {},
   "outputs": [
    {
     "data": {
      "text/plain": [
       "[1, 3, 4, 'a', 'b', 0, 1, 2, 3, 4]"
      ]
     },
     "execution_count": 55,
     "metadata": {},
     "output_type": "execute_result"
    }
   ],
   "source": [
    "l.pop(3)\n",
    "l"
   ]
  },
  {
   "cell_type": "code",
   "execution_count": 57,
   "id": "f58f32ee-5fec-4315-bbee-15c27408caf7",
   "metadata": {},
   "outputs": [
    {
     "data": {
      "text/plain": [
       "[1, 3, 4, 'a', 'b', 0, 1, 3, 4]"
      ]
     },
     "execution_count": 57,
     "metadata": {},
     "output_type": "execute_result"
    }
   ],
   "source": [
    "l.remove(2)\n",
    "l"
   ]
  },
  {
   "cell_type": "code",
   "execution_count": 59,
   "id": "523ebcc1-efd6-4cd9-8ab5-73a676ddb2ee",
   "metadata": {},
   "outputs": [
    {
     "data": {
      "text/plain": [
       "2"
      ]
     },
     "execution_count": 59,
     "metadata": {},
     "output_type": "execute_result"
    }
   ],
   "source": [
    "l.count(3)\n"
   ]
  },
  {
   "cell_type": "code",
   "execution_count": 64,
   "id": "c0d94776-ca4f-4a7f-83f7-88fe988e8b1c",
   "metadata": {},
   "outputs": [],
   "source": [
    "l.remove('a')\n",
    "l.remove('b')"
   ]
  },
  {
   "cell_type": "code",
   "execution_count": 65,
   "id": "a1785049-c90c-4e10-8dc6-953d32792de3",
   "metadata": {},
   "outputs": [
    {
     "data": {
      "text/plain": [
       "[4, 4, 3, 3, 1, 1, 0]"
      ]
     },
     "execution_count": 65,
     "metadata": {},
     "output_type": "execute_result"
    }
   ],
   "source": [
    "l.sort(reverse = True)\n",
    "l"
   ]
  },
  {
   "cell_type": "code",
   "execution_count": 68,
   "id": "eabc1978-2f15-4b23-820c-fd3a6cff863d",
   "metadata": {},
   "outputs": [
    {
     "data": {
      "text/plain": [
       "[4, 4, 3, 3, 1, 1]"
      ]
     },
     "execution_count": 68,
     "metadata": {},
     "output_type": "execute_result"
    }
   ],
   "source": [
    "del l[-1]\n",
    "l"
   ]
  },
  {
   "cell_type": "code",
   "execution_count": 72,
   "id": "44b536ba-5881-468b-8e54-22b5b1134686",
   "metadata": {},
   "outputs": [
    {
     "data": {
      "text/plain": [
       "[4, 4, 3, 3, 1, 1, 4, 4, 3, 3, 1, 1, 4, 4, 3, 3, 1, 1]"
      ]
     },
     "execution_count": 72,
     "metadata": {},
     "output_type": "execute_result"
    }
   ],
   "source": [
    "ll = l * 3\n",
    "ll"
   ]
  },
  {
   "cell_type": "code",
   "execution_count": 73,
   "id": "b412cc3a-ad26-4dc6-9dc4-7b0bd1a9701a",
   "metadata": {},
   "outputs": [
    {
     "data": {
      "text/plain": [
       "[]"
      ]
     },
     "execution_count": 73,
     "metadata": {},
     "output_type": "execute_result"
    }
   ],
   "source": [
    "l.clear()\n",
    "l"
   ]
  },
  {
   "cell_type": "code",
   "execution_count": 74,
   "id": "321d3296-77d4-4f37-8545-14e40a51b239",
   "metadata": {},
   "outputs": [
    {
     "data": {
      "text/plain": [
       "[4, 4, 3, 3, 1, 1, 4, 4, 3, 3, 1, 1, 4, 4, 3, 3, 1, 1]"
      ]
     },
     "execution_count": 74,
     "metadata": {},
     "output_type": "execute_result"
    }
   ],
   "source": [
    "ll"
   ]
  },
  {
   "cell_type": "code",
   "execution_count": 76,
   "id": "3d7cabc0-cc0e-49da-ac7f-a85a4431b7c3",
   "metadata": {},
   "outputs": [
    {
     "data": {
      "text/plain": [
       "[4, 3, 1, 1, 4, 3, 1, 1, 4, 3, 1, 1]"
      ]
     },
     "execution_count": 76,
     "metadata": {},
     "output_type": "execute_result"
    }
   ],
   "source": [
    "del ll[: : 3]\n",
    "ll"
   ]
  },
  {
   "cell_type": "code",
   "execution_count": 77,
   "id": "e28ed33b-5aef-4d12-8efc-043b907105fc",
   "metadata": {},
   "outputs": [
    {
     "data": {
      "text/plain": [
       "[3, 1, 3, 1, 3, 1]"
      ]
     },
     "execution_count": 77,
     "metadata": {},
     "output_type": "execute_result"
    }
   ],
   "source": [
    "del ll[: :2]\n",
    "ll"
   ]
  },
  {
   "cell_type": "code",
   "execution_count": 78,
   "id": "c8191c0f-d5f7-462e-8af8-96c86212ee90",
   "metadata": {},
   "outputs": [
    {
     "ename": "NameError",
     "evalue": "name 'l1' is not defined",
     "output_type": "error",
     "traceback": [
      "\u001b[1;31m---------------------------------------------------------------------------\u001b[0m",
      "\u001b[1;31mNameError\u001b[0m                                 Traceback (most recent call last)",
      "Cell \u001b[1;32mIn[78], line 1\u001b[0m\n\u001b[1;32m----> 1\u001b[0m \u001b[38;5;28;01mdel\u001b[39;00m l1\n\u001b[0;32m      2\u001b[0m l1\n",
      "\u001b[1;31mNameError\u001b[0m: name 'l1' is not defined"
     ]
    }
   ],
   "source": [
    "del l1\n",
    "l1"
   ]
  },
  {
   "cell_type": "code",
   "execution_count": 81,
   "id": "1a793596-acf4-4edf-98d2-a4a86c5f8efd",
   "metadata": {},
   "outputs": [
    {
     "name": "stdout",
     "output_type": "stream",
     "text": [
      "list is empty\n"
     ]
    }
   ],
   "source": [
    "lst = []\n",
    "\n",
    "if not lst:\n",
    "    print(\"list is empty\")"
   ]
  },
  {
   "cell_type": "code",
   "execution_count": 82,
   "id": "54f32afc-2ffc-4bc1-a806-cabd9e48cb90",
   "metadata": {},
   "outputs": [],
   "source": [
    "lst = [\"one\", 2, \"three\", 4]"
   ]
  },
  {
   "cell_type": "code",
   "execution_count": 83,
   "id": "e35a9bed-a1f0-4935-8c5f-57c0a19f50f1",
   "metadata": {},
   "outputs": [
    {
     "data": {
      "text/plain": [
       "True"
      ]
     },
     "execution_count": 83,
     "metadata": {},
     "output_type": "execute_result"
    }
   ],
   "source": [
    "\"one\" in lst"
   ]
  },
  {
   "cell_type": "code",
   "execution_count": 84,
   "id": "2c455b7d-2407-48c1-bca8-e78d12c56307",
   "metadata": {},
   "outputs": [
    {
     "data": {
      "text/plain": [
       "False"
      ]
     },
     "execution_count": 84,
     "metadata": {},
     "output_type": "execute_result"
    }
   ],
   "source": [
    "\"two\" in list"
   ]
  },
  {
   "cell_type": "code",
   "execution_count": 85,
   "id": "b93d3563-5c27-4ad8-b36e-0f38b349e714",
   "metadata": {},
   "outputs": [
    {
     "data": {
      "text/plain": [
       "4"
      ]
     },
     "execution_count": 85,
     "metadata": {},
     "output_type": "execute_result"
    }
   ],
   "source": [
    "len(lst)"
   ]
  },
  {
   "cell_type": "code",
   "execution_count": 87,
   "id": "1d4609c5-45c9-43fd-9813-1750bbd5c56d",
   "metadata": {},
   "outputs": [
    {
     "name": "stdout",
     "output_type": "stream",
     "text": [
      "one\n",
      "2\n",
      "three\n",
      "4\n"
     ]
    }
   ],
   "source": [
    "for l in lst:\n",
    "    print(l)"
   ]
  },
  {
   "cell_type": "code",
   "execution_count": 88,
   "id": "bf3a37f8-6b7b-4bd2-bbca-c49362ace2d4",
   "metadata": {},
   "outputs": [
    {
     "name": "stdout",
     "output_type": "stream",
     "text": [
      "one\n",
      "2\n",
      "three\n",
      "4\n"
     ]
    }
   ],
   "source": [
    "for i in range (len(lst)):\n",
    "    print(lst[i])"
   ]
  },
  {
   "cell_type": "code",
   "execution_count": 90,
   "id": "569b8330-b0a6-453e-bfbd-2fb14ee5c961",
   "metadata": {},
   "outputs": [
    {
     "data": {
      "text/plain": [
       "['one', 2, 'three', 4, 'one', 2, 5, 6]"
      ]
     },
     "execution_count": 90,
     "metadata": {},
     "output_type": "execute_result"
    }
   ],
   "source": [
    "lst.extend([\"one\", 2, 5, 6])\n",
    "lst"
   ]
  },
  {
   "cell_type": "code",
   "execution_count": 94,
   "id": "c48cc100-8551-4f06-8e0e-431daff2e0f0",
   "metadata": {},
   "outputs": [
    {
     "data": {
      "text/plain": [
       "{2, 4, 5, 6, 'one', 'three'}"
      ]
     },
     "execution_count": 94,
     "metadata": {},
     "output_type": "execute_result"
    }
   ],
   "source": [
    "s = set(lst)\n",
    "s"
   ]
  },
  {
   "cell_type": "code",
   "execution_count": 101,
   "id": "4e44e7f4-eb19-4d9c-8787-1191b31883fb",
   "metadata": {},
   "outputs": [
    {
     "data": {
      "text/plain": [
       "[2, 4, 5, 6, 'three', 'one']"
      ]
     },
     "execution_count": 101,
     "metadata": {},
     "output_type": "execute_result"
    }
   ],
   "source": [
    "del list\n",
    "new_lst = list(s)\n",
    "new_lst\n"
   ]
  },
  {
   "cell_type": "code",
   "execution_count": 102,
   "id": "57e8214c-98ab-4dc3-8eb6-5950bb38d0ff",
   "metadata": {},
   "outputs": [
    {
     "data": {
      "text/plain": [
       "[2, 4, 5, 6, 'three', 'one']"
      ]
     },
     "execution_count": 102,
     "metadata": {},
     "output_type": "execute_result"
    }
   ],
   "source": [
    "lst = list(set(lst))\n",
    "lst"
   ]
  },
  {
   "cell_type": "code",
   "execution_count": null,
   "id": "8da102de-fafc-4305-81f7-6e83907d720e",
   "metadata": {},
   "outputs": [],
   "source": [
    "# single dimension = extend\n",
    "# multidimension -\n",
    "# Tuple\n",
    "# Set"
   ]
  },
  {
   "cell_type": "code",
   "execution_count": 2,
   "id": "bb1e0433-077f-4945-87c3-d40495911d6c",
   "metadata": {},
   "outputs": [
    {
     "data": {
      "text/plain": [
       "True"
      ]
     },
     "execution_count": 2,
     "metadata": {},
     "output_type": "execute_result"
    }
   ],
   "source": [
    "(1, 4) < (3,2)"
   ]
  },
  {
   "cell_type": "code",
   "execution_count": 3,
   "id": "3ed56059-19f3-45bf-abea-ea693908d610",
   "metadata": {},
   "outputs": [
    {
     "data": {
      "text/plain": [
       "False"
      ]
     },
     "execution_count": 3,
     "metadata": {},
     "output_type": "execute_result"
    }
   ],
   "source": [
    "(1, 4) > (3, 2)"
   ]
  },
  {
   "cell_type": "code",
   "execution_count": 5,
   "id": "0b9a44fd-0494-4981-afbd-67110ab42690",
   "metadata": {},
   "outputs": [
    {
     "data": {
      "text/plain": [
       "True"
      ]
     },
     "execution_count": 5,
     "metadata": {},
     "output_type": "execute_result"
    }
   ],
   "source": [
    "(1, 4) > (1, 2)"
   ]
  },
  {
   "cell_type": "code",
   "execution_count": 6,
   "id": "8954d7b7-9812-4b15-a04d-e721789fc744",
   "metadata": {},
   "outputs": [],
   "source": [
    "# Nested list, Multidimensional list"
   ]
  },
  {
   "cell_type": "code",
   "execution_count": 39,
   "id": "6a7fb00d-5ccf-4a70-a420-e5992156f3a4",
   "metadata": {},
   "outputs": [],
   "source": [
    "lst =[\n",
    "    [2, 3, 4], \n",
    "    [4, 5, 6], \n",
    "    [1, 4, 3]\n",
    "]"
   ]
  },
  {
   "cell_type": "code",
   "execution_count": 40,
   "id": "3c22b315-ab03-4aac-9de9-ff8471ab6945",
   "metadata": {},
   "outputs": [
    {
     "data": {
      "text/plain": [
       "5"
      ]
     },
     "execution_count": 40,
     "metadata": {},
     "output_type": "execute_result"
    }
   ],
   "source": [
    "lst [1][1]"
   ]
  },
  {
   "cell_type": "code",
   "execution_count": 41,
   "id": "2afa22b2-b054-478a-bfd5-2c929139c349",
   "metadata": {},
   "outputs": [
    {
     "data": {
      "text/plain": [
       "[[2, 3, 4], [4, 5, 6], [1, 4, 3]]"
      ]
     },
     "execution_count": 41,
     "metadata": {},
     "output_type": "execute_result"
    }
   ],
   "source": [
    "lst"
   ]
  },
  {
   "cell_type": "code",
   "execution_count": 42,
   "id": "bfba9714-8ae5-495f-bfbc-37ee70f6bb13",
   "metadata": {},
   "outputs": [
    {
     "data": {
      "text/plain": [
       "5"
      ]
     },
     "execution_count": 42,
     "metadata": {},
     "output_type": "execute_result"
    }
   ],
   "source": [
    "lst[1][1]"
   ]
  },
  {
   "cell_type": "code",
   "execution_count": 13,
   "id": "e6fda613-587f-4ee3-aa70-31197e4ec1d6",
   "metadata": {},
   "outputs": [
    {
     "name": "stdout",
     "output_type": "stream",
     "text": [
      "[2, 3, 4]\n",
      "[4, 5, 6]\n",
      "[1, 4, 3]\n"
     ]
    }
   ],
   "source": [
    "for items in lst:\n",
    "    print(items)"
   ]
  },
  {
   "cell_type": "code",
   "execution_count": 16,
   "id": "a15f4d1a-8865-4d34-9d16-72bf92d447fe",
   "metadata": {},
   "outputs": [
    {
     "name": "stdout",
     "output_type": "stream",
     "text": [
      "2\n",
      "3\n",
      "4\n",
      "4\n",
      "5\n",
      "6\n",
      "1\n",
      "4\n",
      "3\n"
     ]
    }
   ],
   "source": [
    "for row in lst:\n",
    "    for col in row:\n",
    "        print(col)"
   ]
  },
  {
   "cell_type": "code",
   "execution_count": 60,
   "id": "3831f426-4442-4612-998a-6ab706e3b6a2",
   "metadata": {},
   "outputs": [],
   "source": [
    "lst_3d = [[[1, 2], [2, 3]], [[3, 4], [5, 6]]]"
   ]
  },
  {
   "cell_type": "code",
   "execution_count": 64,
   "id": "02e727ad-f15d-46b0-8d3c-ec2eb952fd30",
   "metadata": {},
   "outputs": [
    {
     "data": {
      "text/plain": [
       "[[1, 2], [2, 3], [3, 4], [5, 6]]"
      ]
     },
     "execution_count": 64,
     "metadata": {},
     "output_type": "execute_result"
    }
   ],
   "source": [
    "[row for items in lst_3d for row in items       # changing 3d to 2 d"
   ]
  },
  {
   "cell_type": "code",
   "execution_count": 67,
   "id": "3a487387-16bc-483e-b910-fb24987ac1dc",
   "metadata": {},
   "outputs": [
    {
     "data": {
      "text/plain": [
       "[1, 2, 2, 3, 3, 4, 5, 6]"
      ]
     },
     "execution_count": 67,
     "metadata": {},
     "output_type": "execute_result"
    }
   ],
   "source": [
    "[col for items in lst_3d for row in items for col in row]    # changing 2d to 1d"
   ]
  },
  {
   "cell_type": "code",
   "execution_count": 28,
   "id": "f0723ff4-27c3-4c86-a707-3f8867857b20",
   "metadata": {},
   "outputs": [],
   "source": [
    "lst_3d = [[[1, 2], [2, 3]], [[3, 4], [5, 6]]]"
   ]
  },
  {
   "cell_type": "code",
   "execution_count": 53,
   "id": "b60a905d-151d-4a16-850f-e83797ed97d5",
   "metadata": {},
   "outputs": [
    {
     "data": {
      "text/plain": [
       "5"
      ]
     },
     "execution_count": 53,
     "metadata": {},
     "output_type": "execute_result"
    }
   ],
   "source": [
    "lst_3d[1][1][0]"
   ]
  },
  {
   "cell_type": "code",
   "execution_count": 29,
   "id": "1f45bc1e-eec9-4ea3-aeea-f4a5a16b2122",
   "metadata": {},
   "outputs": [
    {
     "name": "stdout",
     "output_type": "stream",
     "text": [
      "[[1, 2], [2, 3]]\n",
      "[[3, 4], [5, 6]]\n"
     ]
    }
   ],
   "source": [
    "for items in lst_3d:\n",
    "    print (items)"
   ]
  },
  {
   "cell_type": "code",
   "execution_count": 31,
   "id": "f3005f4f-49d0-4fa3-94f3-865ba252228d",
   "metadata": {},
   "outputs": [
    {
     "name": "stdout",
     "output_type": "stream",
     "text": [
      "[1, 2]\n",
      "[2, 3]\n",
      "[3, 4]\n",
      "[5, 6]\n"
     ]
    }
   ],
   "source": [
    "for items in lst_3d:\n",
    "    for row in items:\n",
    "        print (row)\n"
   ]
  },
  {
   "cell_type": "code",
   "execution_count": 35,
   "id": "58139c74-515d-4129-9c6e-0a1a0cb57a5c",
   "metadata": {},
   "outputs": [
    {
     "name": "stdout",
     "output_type": "stream",
     "text": [
      "1\n",
      "2\n",
      "2\n",
      "3\n",
      "3\n",
      "4\n",
      "5\n",
      "6\n"
     ]
    }
   ],
   "source": [
    "for items in lst_3d:\n",
    "    for row in items:\n",
    "        for col in row:\n",
    "            print(col)\n"
   ]
  },
  {
   "cell_type": "markdown",
   "id": "42bdfeee-688e-49d7-8d59-1e89370e24fd",
   "metadata": {},
   "source": [
    "# List  Comprehension"
   ]
  },
  {
   "cell_type": "code",
   "execution_count": 55,
   "id": "1ac7fffc-48f0-457e-9804-098a7a77dc34",
   "metadata": {},
   "outputs": [
    {
     "data": {
      "text/plain": [
       "[0, 1, 2, 3, 4]"
      ]
     },
     "execution_count": 55,
     "metadata": {},
     "output_type": "execute_result"
    }
   ],
   "source": [
    "[i for i in range(5)]"
   ]
  },
  {
   "cell_type": "code",
   "execution_count": 56,
   "id": "f39a6965-f65e-48fe-8845-590144d1950a",
   "metadata": {},
   "outputs": [
    {
     "data": {
      "text/plain": [
       "[[2, 3, 4], [4, 5, 6], [1, 4, 3]]"
      ]
     },
     "execution_count": 56,
     "metadata": {},
     "output_type": "execute_result"
    }
   ],
   "source": [
    "[row for row in lst]"
   ]
  },
  {
   "cell_type": "code",
   "execution_count": 57,
   "id": "a3d085f8-0ca5-4696-af26-b5c85d2bb07a",
   "metadata": {},
   "outputs": [
    {
     "data": {
      "text/plain": [
       "[2, 3, 4, 4, 5, 6, 1, 4, 3]"
      ]
     },
     "execution_count": 57,
     "metadata": {},
     "output_type": "execute_result"
    }
   ],
   "source": [
    "[col for row in lst for col in row]"
   ]
  },
  {
   "cell_type": "code",
   "execution_count": null,
   "id": "9406e655-f06c-4d77-ad70-f240fc73860e",
   "metadata": {},
   "outputs": [],
   "source": []
  }
 ],
 "metadata": {
  "kernelspec": {
   "display_name": "Python 3 (ipykernel)",
   "language": "python",
   "name": "python3"
  },
  "language_info": {
   "codemirror_mode": {
    "name": "ipython",
    "version": 3
   },
   "file_extension": ".py",
   "mimetype": "text/x-python",
   "name": "python",
   "nbconvert_exporter": "python",
   "pygments_lexer": "ipython3",
   "version": "3.10.11"
  }
 },
 "nbformat": 4,
 "nbformat_minor": 5
}
