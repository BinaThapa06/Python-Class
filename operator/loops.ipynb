{
 "cells": [
  {
   "cell_type": "markdown",
   "id": "1890b30f-3872-42e2-89ef-a67ed5e06f7e",
   "metadata": {},
   "source": [
    "# Loops in Python\n",
    "1. while\n",
    "2. for"
   ]
  },
  {
   "cell_type": "markdown",
   "id": "ea09648f-1578-440b-a143-249c25df9bb9",
   "metadata": {},
   "source": [
    "## While Loop\n",
    "\n",
    "```\n",
    "\n",
    "while condition:\n",
    "    body\n",
    "    \n",
    "```"
   ]
  },
  {
   "cell_type": "code",
   "execution_count": 5,
   "id": "87b91c6e-d4b6-4def-bb3c-c04250025bde",
   "metadata": {},
   "outputs": [
    {
     "name": "stdout",
     "output_type": "stream",
     "text": [
      "0\n",
      "1\n",
      "2\n",
      "3\n",
      "4\n"
     ]
    }
   ],
   "source": [
    "i = 0\n",
    "\n",
    "while i < 5:\n",
    "    print (i)\n",
    "    i+= 1"
   ]
  },
  {
   "cell_type": "markdown",
   "id": "81a68be1-68d6-4ca5-98b6-75dca7f03e3a",
   "metadata": {},
   "source": [
    "## For loop\n",
    "\n",
    "```\n",
    "for iterations\n",
    "    body\n",
    "```"
   ]
  },
  {
   "cell_type": "code",
   "execution_count": 9,
   "id": "a90d94f6-9409-435f-9a55-752696065291",
   "metadata": {
    "scrolled": true
   },
   "outputs": [
    {
     "name": "stdout",
     "output_type": "stream",
     "text": [
      "0\n",
      "1\n",
      "2\n",
      "3\n",
      "4\n",
      "5\n",
      "6\n",
      "7\n",
      "8\n",
      "9\n"
     ]
    }
   ],
   "source": [
    "for i in range (10):\n",
    "    print(i)"
   ]
  },
  {
   "cell_type": "code",
   "execution_count": 10,
   "id": "9963ca98-4082-4401-8817-1fc3fe418ffc",
   "metadata": {
    "scrolled": true
   },
   "outputs": [
    {
     "name": "stdout",
     "output_type": "stream",
     "text": [
      "Ram\n",
      "Shyam\n",
      "Hari\n"
     ]
    }
   ],
   "source": [
    "for i in [\"Ram\", \"Shyam\", \"Hari\"]:\n",
    "    print(i)"
   ]
  },
  {
   "cell_type": "code",
   "execution_count": 1,
   "id": "72d26e43-b0d0-43da-9b2f-dacaf5c4e207",
   "metadata": {
    "scrolled": true
   },
   "outputs": [
    {
     "name": "stdout",
     "output_type": "stream",
     "text": [
      "1\n",
      "2\n",
      "3\n",
      "4\n",
      "6\n",
      "7\n",
      "8\n",
      "9\n",
      "10\n"
     ]
    }
   ],
   "source": [
    "num = 0\n",
    "while num < 10:\n",
    "    num += 1\n",
    "    if num == 5:\n",
    "        continue\n",
    "    print (num)"
   ]
  },
  {
   "cell_type": "code",
   "execution_count": 8,
   "id": "f5fc3c63-e2b1-4752-9b3e-ad1535bce38a",
   "metadata": {},
   "outputs": [
    {
     "name": "stdout",
     "output_type": "stream",
     "text": [
      "1\n",
      "2\n",
      "3\n",
      "4\n",
      "6\n",
      "7\n",
      "8\n",
      "9\n",
      "10\n"
     ]
    }
   ],
   "source": [
    "num = 0\n",
    "while num < 10:\n",
    "    num += 1\n",
    "    if num == 5:\n",
    "        continue\n",
    "    print (num)"
   ]
  },
  {
   "cell_type": "code",
   "execution_count": null,
   "id": "8ba68712-0c45-4325-bd70-ca5f5655266c",
   "metadata": {},
   "outputs": [],
   "source": [
    "num = 98\n",
    "while num < 10:\n",
    "    num += 2\n",
    "    if num ==60:\n",
    "        continue\n",
    "    print (num)"
   ]
  },
  {
   "cell_type": "code",
   "execution_count": 3,
   "id": "b1b082cd-c986-45bd-8ea6-79b04d3d81e9",
   "metadata": {},
   "outputs": [
    {
     "name": "stdout",
     "output_type": "stream",
     "text": [
      "10\n",
      "9\n",
      "8\n",
      "7\n",
      "6\n",
      "5\n",
      "4\n",
      "3\n",
      "2\n",
      "1\n",
      "0\n"
     ]
    }
   ],
   "source": [
    "n = 10\n",
    "\n",
    "while True:\n",
    "    print (n)\n",
    "    n -=1\n",
    "    if (n < 0):\n",
    "        break"
   ]
  },
  {
   "cell_type": "code",
   "execution_count": 17,
   "id": "09474bdb-16a9-4c60-a55e-5e6af68d2657",
   "metadata": {},
   "outputs": [
    {
     "name": "stdout",
     "output_type": "stream",
     "text": [
      "1 * 1 = 1\n",
      "1 * 2 = 2\n",
      "1 * 3 = 3\n",
      "1 * 4 = 4\n",
      "1 * 5 = 5\n",
      "1 * 6 = 6\n",
      "1 * 7 = 7\n",
      "1 * 8 = 8\n",
      "1 * 9 = 9\n",
      "1 * 10 = 10\n",
      "..............\n",
      "2 * 1 = 2\n",
      "2 * 2 = 4\n",
      "2 * 3 = 6\n",
      "2 * 4 = 8\n",
      "2 * 5 = 10\n",
      "2 * 6 = 12\n",
      "2 * 7 = 14\n",
      "2 * 8 = 16\n",
      "2 * 9 = 18\n",
      "2 * 10 = 20\n",
      "..............\n",
      "3 * 1 = 3\n",
      "3 * 2 = 6\n",
      "3 * 3 = 9\n",
      "3 * 4 = 12\n",
      "3 * 5 = 15\n",
      "3 * 6 = 18\n",
      "3 * 7 = 21\n",
      "3 * 8 = 24\n",
      "3 * 9 = 27\n",
      "3 * 10 = 30\n",
      "..............\n",
      "4 * 1 = 4\n",
      "4 * 2 = 8\n",
      "4 * 3 = 12\n",
      "4 * 4 = 16\n",
      "4 * 5 = 20\n",
      "4 * 6 = 24\n",
      "4 * 7 = 28\n",
      "4 * 8 = 32\n",
      "4 * 9 = 36\n",
      "4 * 10 = 40\n",
      "..............\n",
      "5 * 1 = 5\n",
      "5 * 2 = 10\n",
      "5 * 3 = 15\n",
      "5 * 4 = 20\n",
      "5 * 5 = 25\n",
      "5 * 6 = 30\n",
      "5 * 7 = 35\n",
      "5 * 8 = 40\n",
      "5 * 9 = 45\n",
      "5 * 10 = 50\n",
      "..............\n"
     ]
    }
   ],
   "source": [
    "# Nested loop\n",
    "\n",
    "for i in range(1, 6):\n",
    "    for j in range (1, 11):\n",
    "        print(f\"{i} * {j} = {i * j}\")\n",
    "    print(\"..............\")\n",
    " "
   ]
  },
  {
   "cell_type": "code",
   "execution_count": 2,
   "id": "fd082e86-8360-4272-9d6c-57fe31aed71e",
   "metadata": {},
   "outputs": [
    {
     "name": "stdout",
     "output_type": "stream",
     "text": [
      "2 + 12 = 14\n",
      "2 + 13 = 15\n",
      "2 + 14 = 16\n",
      "2 + 15 = 17\n",
      "2 + 16 = 18\n",
      "2 + 17 = 19\n",
      "2 + 18 = 20\n",
      "2 + 19 = 21\n",
      "2 + 20 = 22\n",
      "2 + 21 = 23\n",
      "2 + 22 = 24\n",
      "2 + 23 = 25\n",
      "..............\n",
      "3 + 12 = 15\n",
      "3 + 13 = 16\n",
      "3 + 14 = 17\n",
      "3 + 15 = 18\n",
      "3 + 16 = 19\n",
      "3 + 17 = 20\n",
      "3 + 18 = 21\n",
      "3 + 19 = 22\n",
      "3 + 20 = 23\n",
      "3 + 21 = 24\n",
      "3 + 22 = 25\n",
      "3 + 23 = 26\n",
      "..............\n",
      "4 + 12 = 16\n",
      "4 + 13 = 17\n",
      "4 + 14 = 18\n",
      "4 + 15 = 19\n",
      "4 + 16 = 20\n",
      "4 + 17 = 21\n",
      "4 + 18 = 22\n",
      "4 + 19 = 23\n",
      "4 + 20 = 24\n",
      "4 + 21 = 25\n",
      "4 + 22 = 26\n",
      "4 + 23 = 27\n",
      "..............\n",
      "5 + 12 = 17\n",
      "5 + 13 = 18\n",
      "5 + 14 = 19\n",
      "5 + 15 = 20\n",
      "5 + 16 = 21\n",
      "5 + 17 = 22\n",
      "5 + 18 = 23\n",
      "5 + 19 = 24\n",
      "5 + 20 = 25\n",
      "5 + 21 = 26\n",
      "5 + 22 = 27\n",
      "5 + 23 = 28\n",
      "..............\n",
      "6 + 12 = 18\n",
      "6 + 13 = 19\n",
      "6 + 14 = 20\n",
      "6 + 15 = 21\n",
      "6 + 16 = 22\n",
      "6 + 17 = 23\n",
      "6 + 18 = 24\n",
      "6 + 19 = 25\n",
      "6 + 20 = 26\n",
      "6 + 21 = 27\n",
      "6 + 22 = 28\n",
      "6 + 23 = 29\n",
      "..............\n",
      "7 + 12 = 19\n",
      "7 + 13 = 20\n",
      "7 + 14 = 21\n",
      "7 + 15 = 22\n",
      "7 + 16 = 23\n",
      "7 + 17 = 24\n",
      "7 + 18 = 25\n",
      "7 + 19 = 26\n",
      "7 + 20 = 27\n",
      "7 + 21 = 28\n",
      "7 + 22 = 29\n",
      "7 + 23 = 30\n",
      "..............\n",
      "8 + 12 = 20\n",
      "8 + 13 = 21\n",
      "8 + 14 = 22\n",
      "8 + 15 = 23\n",
      "8 + 16 = 24\n",
      "8 + 17 = 25\n",
      "8 + 18 = 26\n",
      "8 + 19 = 27\n",
      "8 + 20 = 28\n",
      "8 + 21 = 29\n",
      "8 + 22 = 30\n",
      "8 + 23 = 31\n",
      "..............\n",
      "9 + 12 = 21\n",
      "9 + 13 = 22\n",
      "9 + 14 = 23\n",
      "9 + 15 = 24\n",
      "9 + 16 = 25\n",
      "9 + 17 = 26\n",
      "9 + 18 = 27\n",
      "9 + 19 = 28\n",
      "9 + 20 = 29\n",
      "9 + 21 = 30\n",
      "9 + 22 = 31\n",
      "9 + 23 = 32\n",
      "..............\n",
      "10 + 12 = 22\n",
      "10 + 13 = 23\n",
      "10 + 14 = 24\n",
      "10 + 15 = 25\n",
      "10 + 16 = 26\n",
      "10 + 17 = 27\n",
      "10 + 18 = 28\n",
      "10 + 19 = 29\n",
      "10 + 20 = 30\n",
      "10 + 21 = 31\n",
      "10 + 22 = 32\n",
      "10 + 23 = 33\n",
      "..............\n",
      "11 + 12 = 23\n",
      "11 + 13 = 24\n",
      "11 + 14 = 25\n",
      "11 + 15 = 26\n",
      "11 + 16 = 27\n",
      "11 + 17 = 28\n",
      "11 + 18 = 29\n",
      "11 + 19 = 30\n",
      "11 + 20 = 31\n",
      "11 + 21 = 32\n",
      "11 + 22 = 33\n",
      "11 + 23 = 34\n",
      "..............\n"
     ]
    }
   ],
   "source": [
    "for i in range (2, 12):\n",
    "    for j in range (12, 24):\n",
    "        print(f\"{i} + {j} = {i +j}\")\n",
    "    print(\"..............\")\n"
   ]
  },
  {
   "cell_type": "code",
   "execution_count": null,
   "id": "726bdc25-1038-4bb8-835d-0dfdf074c637",
   "metadata": {},
   "outputs": [],
   "source": [
    "# Q. WAP to display Even numbers from 1 to 99 in while and for loop."
   ]
  },
  {
   "cell_type": "code",
   "execution_count": 1,
   "id": "3889aefe-696e-4825-b80e-ff9526f5bc05",
   "metadata": {},
   "outputs": [
    {
     "name": "stdout",
     "output_type": "stream",
     "text": [
      "1\n",
      "2\n",
      "3\n",
      "4\n",
      "5\n",
      "6\n",
      "7\n",
      "8\n",
      "9\n",
      "10\n",
      "11\n",
      "12\n",
      "13\n",
      "14\n",
      "15\n",
      "16\n",
      "17\n",
      "18\n",
      "19\n",
      "20\n",
      "21\n",
      "22\n",
      "23\n",
      "24\n",
      "25\n",
      "26\n",
      "27\n",
      "28\n",
      "29\n",
      "30\n",
      "31\n",
      "32\n",
      "33\n",
      "34\n",
      "35\n",
      "36\n",
      "37\n",
      "38\n",
      "39\n",
      "40\n",
      "41\n",
      "42\n",
      "43\n",
      "44\n",
      "45\n",
      "46\n",
      "47\n",
      "48\n",
      "49\n",
      "50\n",
      "51\n",
      "52\n",
      "53\n",
      "54\n",
      "55\n",
      "56\n",
      "57\n",
      "58\n",
      "59\n",
      "60\n",
      "61\n",
      "62\n",
      "63\n",
      "64\n",
      "65\n",
      "66\n",
      "67\n",
      "68\n",
      "69\n",
      "70\n",
      "71\n",
      "72\n",
      "73\n",
      "74\n",
      "75\n",
      "76\n",
      "77\n",
      "78\n",
      "79\n",
      "80\n",
      "81\n",
      "82\n",
      "83\n",
      "84\n",
      "85\n",
      "86\n",
      "87\n",
      "88\n",
      "89\n",
      "90\n",
      "91\n",
      "92\n",
      "93\n",
      "94\n",
      "95\n",
      "96\n",
      "97\n",
      "98\n",
      "99\n"
     ]
    }
   ],
   "source": [
    "num = 1\n",
    "while num < 100:\n",
    "    if num % 1 == 0:\n",
    "        print (num)\n",
    "    num += 1  \n"
   ]
  },
  {
   "cell_type": "code",
   "execution_count": 15,
   "id": "89adac1d-bb8d-492d-a535-2c9ffc51f00e",
   "metadata": {},
   "outputs": [
    {
     "name": "stdout",
     "output_type": "stream",
     "text": [
      "1\n",
      "3\n",
      "5\n",
      "7\n",
      "9\n",
      "11\n",
      "13\n",
      "15\n",
      "17\n",
      "19\n",
      "21\n",
      "23\n",
      "25\n",
      "27\n",
      "29\n",
      "31\n",
      "33\n",
      "35\n",
      "37\n",
      "39\n",
      "41\n",
      "43\n",
      "45\n",
      "47\n",
      "49\n",
      "51\n",
      "53\n",
      "55\n",
      "57\n",
      "59\n",
      "61\n",
      "63\n",
      "65\n",
      "67\n",
      "69\n",
      "71\n",
      "73\n",
      "75\n",
      "77\n",
      "79\n",
      "81\n",
      "83\n",
      "85\n",
      "87\n",
      "89\n",
      "91\n",
      "93\n",
      "95\n",
      "97\n",
      "99\n"
     ]
    }
   ],
   "source": [
    "num = 1\n",
    "while num < 100:\n",
    "    if num % 1 == 0:\n",
    "        print (num)\n",
    "    num += 2  \n",
    "   "
   ]
  },
  {
   "cell_type": "code",
   "execution_count": 22,
   "id": "a327c024-d092-4a65-a412-324490b54d9a",
   "metadata": {},
   "outputs": [
    {
     "name": "stdout",
     "output_type": "stream",
     "text": [
      "2\n",
      "4\n",
      "6\n",
      "8\n",
      "10\n",
      "12\n",
      "14\n",
      "16\n",
      "18\n",
      "20\n",
      "22\n",
      "24\n",
      "26\n",
      "28\n",
      "30\n",
      "32\n",
      "34\n",
      "36\n",
      "38\n",
      "40\n",
      "42\n",
      "44\n",
      "46\n",
      "48\n",
      "50\n",
      "52\n",
      "54\n",
      "56\n",
      "58\n",
      "60\n",
      "62\n",
      "64\n",
      "66\n",
      "68\n",
      "70\n",
      "72\n",
      "74\n",
      "76\n",
      "78\n",
      "80\n",
      "82\n",
      "84\n",
      "86\n",
      "88\n",
      "90\n",
      "92\n",
      "94\n",
      "96\n",
      "98\n"
     ]
    }
   ],
   "source": [
    "num = 1\n",
    "\n",
    "for num in range (2, 100, 2 ):\n",
    "    print (num)"
   ]
  },
  {
   "cell_type": "code",
   "execution_count": 2,
   "id": "1ab07c04-2660-4b3b-a735-bb1b4909f218",
   "metadata": {},
   "outputs": [
    {
     "name": "stdout",
     "output_type": "stream",
     "text": [
      "2\n",
      "4\n",
      "6\n",
      "8\n",
      "10\n",
      "12\n",
      "14\n",
      "16\n",
      "18\n",
      "20\n",
      "22\n",
      "24\n",
      "26\n",
      "28\n",
      "30\n",
      "32\n",
      "34\n",
      "36\n",
      "38\n",
      "40\n",
      "42\n",
      "44\n",
      "46\n",
      "48\n",
      "50\n",
      "52\n",
      "54\n",
      "56\n",
      "58\n",
      "60\n",
      "62\n",
      "64\n",
      "66\n",
      "68\n",
      "70\n",
      "72\n",
      "74\n",
      "76\n",
      "78\n",
      "80\n",
      "82\n",
      "84\n",
      "86\n",
      "88\n",
      "90\n",
      "92\n",
      "94\n",
      "96\n",
      "98\n"
     ]
    }
   ],
   "source": [
    "#For\n",
    "for num in range(1,100):\n",
    "    if num % 2 == 0:\n",
    "        print(f\"{num}\")"
   ]
  },
  {
   "cell_type": "code",
   "execution_count": null,
   "id": "c3e19d8e-3200-4b04-9b89-e44968c2146f",
   "metadata": {},
   "outputs": [],
   "source": [
    "# WAP that takes number from user as input, add them and show sum if sum > 100."
   ]
  },
  {
   "cell_type": "code",
   "execution_count": 9,
   "id": "b386493d-60ba-4d9b-a94a-1776702b392c",
   "metadata": {},
   "outputs": [
    {
     "name": "stdout",
     "output_type": "stream",
     "text": [
      "Enter a number: 60\n",
      "Enter a number: 50\n"
     ]
    },
    {
     "name": "stdout",
     "output_type": "stream",
     "text": [
      "The sum is 110\n"
     ]
    }
   ],
   "source": [
    "sum = 0\n",
    "while True:\n",
    "    num = int(input(\"Enter a number:\"))\n",
    "    sum += num\n",
    "    if sum > 100:\n",
    "        print(f\"The sum is {sum}\")\n",
    "        break"
   ]
  },
  {
   "cell_type": "code",
   "execution_count": 11,
   "id": "588803f1-ac76-4f53-bb0a-946ad1ff48dc",
   "metadata": {},
   "outputs": [
    {
     "name": "stdout",
     "output_type": "stream",
     "text": [
      "Enter a number: 50\n",
      "Enter a number: 80\n"
     ]
    },
    {
     "name": "stdout",
     "output_type": "stream",
     "text": [
      "The sum is 130\n"
     ]
    }
   ],
   "source": [
    "sum = 0\n",
    "\n",
    "while True:\n",
    "    num = int(input(\"Enter a number:\"))\n",
    "    sum += num\n",
    "    if sum > 100:\n",
    "        print(f\"The sum is {sum}\")\n",
    "        break"
   ]
  },
  {
   "cell_type": "code",
   "execution_count": 14,
   "id": "8a6f9b61-16ae-442b-b05a-2f041d63941f",
   "metadata": {},
   "outputs": [
    {
     "name": "stdout",
     "output_type": "stream",
     "text": [
      "Enter a number: 30\n"
     ]
    },
    {
     "name": "stdout",
     "output_type": "stream",
     "text": [
      "Sum before 0\n",
      "Sum after 30\n"
     ]
    },
    {
     "name": "stdout",
     "output_type": "stream",
     "text": [
      "Enter a number: 40\n"
     ]
    },
    {
     "name": "stdout",
     "output_type": "stream",
     "text": [
      "Sum before 30\n",
      "Sum after 70\n"
     ]
    },
    {
     "name": "stdout",
     "output_type": "stream",
     "text": [
      "Enter a number: 80\n"
     ]
    },
    {
     "name": "stdout",
     "output_type": "stream",
     "text": [
      "Sum before 70\n",
      "Sum after 150\n",
      "The sum is 150\n"
     ]
    }
   ],
   "source": [
    "sum = 0\n",
    "\n",
    "while True:\n",
    "    try:\n",
    "        num = int(input(\"Enter a number:\"))\n",
    "        print (\"Sum before\", sum)\n",
    "        sum += num\n",
    "        print(\"Sum after\",sum)\n",
    "        if sum > 100:\n",
    "            print(f\"The sum is {sum}\")\n",
    "            break\n",
    "    except:\n",
    "        print(\"Enter Valid number\")"
   ]
  },
  {
   "cell_type": "code",
   "execution_count": 15,
   "id": "5cb83aa2-49b5-4b5f-adb6-20be6fb454ba",
   "metadata": {},
   "outputs": [
    {
     "name": "stdout",
     "output_type": "stream",
     "text": [
      "Enter a number: 50\n",
      "Enter a number: 10\n",
      "Enter a number: 70\n"
     ]
    },
    {
     "name": "stdout",
     "output_type": "stream",
     "text": [
      "The sum is 130\n"
     ]
    }
   ],
   "source": [
    "sum = 0\n",
    "\n",
    "while True:\n",
    "    try:\n",
    "        num = int(input(\"Enter a number:\"))\n",
    "        #print (\"Sum before\", sum)\n",
    "        sum += num\n",
    "        #print(\"Sum after\",sum)\n",
    "        if sum > 100:\n",
    "            print(f\"The sum is {sum}\")\n",
    "            break\n",
    "    except:\n",
    "        print(\"Enter Valid number\")"
   ]
  },
  {
   "cell_type": "code",
   "execution_count": 17,
   "id": "b03a7d5e-53ce-49b8-8c69-c874103f7795",
   "metadata": {},
   "outputs": [
    {
     "data": {
      "text/plain": [
       "54"
      ]
     },
     "execution_count": 17,
     "metadata": {},
     "output_type": "execute_result"
    }
   ],
   "source": [
    "import random\n",
    "random.random() # 0 to 100 ko bich ko no. aucha\n",
    "random.randint(1, 100) # 1 to 100 ko aucha"
   ]
  },
  {
   "cell_type": "markdown",
   "id": "90a613a8-dc13-47c3-bd0f-14c013496ac3",
   "metadata": {},
   "source": [
    "# Make a Guessing Game \n",
    "```\n",
    "there is a random number say flag\n",
    "take a number input from user (guess)\n",
    "if guess is equal to flag\n",
    "    display your answer is correct stop program\n",
    "if guess is less than flag\n",
    "    display guess higher and continue\n",
    "if guess is higher than flag\n",
    "    display guess lower and continue\n",
    " ```"
   ]
  },
  {
   "cell_type": "code",
   "execution_count": 2,
   "id": "0d00178c-15c5-450d-86a0-cf80a0f52646",
   "metadata": {},
   "outputs": [
    {
     "name": "stdout",
     "output_type": "stream",
     "text": [
      "Enter a number 50\n"
     ]
    },
    {
     "name": "stdout",
     "output_type": "stream",
     "text": [
      "Your guess is high and Continue\n"
     ]
    },
    {
     "name": "stdout",
     "output_type": "stream",
     "text": [
      "Enter a number 0\n"
     ]
    },
    {
     "name": "stdout",
     "output_type": "stream",
     "text": [
      "Your guess is low and Continue\n"
     ]
    },
    {
     "name": "stdout",
     "output_type": "stream",
     "text": [
      "Enter a number 10\n"
     ]
    },
    {
     "name": "stdout",
     "output_type": "stream",
     "text": [
      "Your guess is high and Continue\n"
     ]
    },
    {
     "name": "stdout",
     "output_type": "stream",
     "text": [
      "Enter a number 5\n"
     ]
    },
    {
     "name": "stdout",
     "output_type": "stream",
     "text": [
      "Your guess is low and Continue\n"
     ]
    },
    {
     "name": "stdout",
     "output_type": "stream",
     "text": [
      "Enter a number 6\n"
     ]
    },
    {
     "name": "stdout",
     "output_type": "stream",
     "text": [
      "Your guess is correct\n"
     ]
    }
   ],
   "source": [
    "import random\n",
    "\n",
    "flag = random.randint(1, 100)\n",
    "\n",
    "while True:\n",
    "    try:\n",
    "        guess = int(input(\"Enter a number\"))\n",
    "\n",
    "        \n",
    "        if guess > flag:\n",
    "            print(\"Your guess is high and Continue\")\n",
    "        elif guess < flag:\n",
    "            print(\"Your guess is low and Continue\")\n",
    "        else:\n",
    "            print(\"Your guess is correct\")\n",
    "            break\n",
    "    except ValueError:     \n",
    "        print(\"Invalid input.\")"
   ]
  },
  {
   "cell_type": "code",
   "execution_count": 14,
   "id": "90ef5970-9076-4c97-b84d-e08775c8308d",
   "metadata": {},
   "outputs": [
    {
     "data": {
      "text/plain": [
       "0.2319701195927899"
      ]
     },
     "execution_count": 14,
     "metadata": {},
     "output_type": "execute_result"
    }
   ],
   "source": [
    "import random\n",
    "random.random()"
   ]
  },
  {
   "cell_type": "code",
   "execution_count": null,
   "id": "6c4045fb-d7b9-44cd-847e-2c144c880c1f",
   "metadata": {},
   "outputs": [],
   "source": []
  },
  {
   "cell_type": "code",
   "execution_count": null,
   "id": "10c02e3c-9e71-4fe9-bc55-5e52fbe2821a",
   "metadata": {},
   "outputs": [],
   "source": []
  }
 ],
 "metadata": {
  "kernelspec": {
   "display_name": "Python 3 (ipykernel)",
   "language": "python",
   "name": "python3"
  },
  "language_info": {
   "codemirror_mode": {
    "name": "ipython",
    "version": 3
   },
   "file_extension": ".py",
   "mimetype": "text/x-python",
   "name": "python",
   "nbconvert_exporter": "python",
   "pygments_lexer": "ipython3",
   "version": "3.10.11"
  }
 },
 "nbformat": 4,
 "nbformat_minor": 5
}
