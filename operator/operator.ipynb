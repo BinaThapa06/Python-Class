{
 "cells": [
  {
   "cell_type": "code",
   "execution_count": 2,
   "id": "910abc1d-f1a2-446d-a54b-020f4ae1d82d",
   "metadata": {},
   "outputs": [],
   "source": [
    "name = \"Skill Training Nepal\""
   ]
  },
  {
   "cell_type": "code",
   "execution_count": 3,
   "id": "0ef04c13-da60-415f-9662-9f4274e29d58",
   "metadata": {},
   "outputs": [
    {
     "name": "stdout",
     "output_type": "stream",
     "text": [
      "Training Centre: Skill Training Nepal\n"
     ]
    }
   ],
   "source": [
    "print(\"Training Centre:\",name)"
   ]
  },
  {
   "cell_type": "code",
   "execution_count": 8,
   "id": "0c46f896-f999-4d25-bec3-5fba1b95ff24",
   "metadata": {},
   "outputs": [
    {
     "name": "stdout",
     "output_type": "stream",
     "text": [
      "Training Center: Skill Training Nepal\n"
     ]
    }
   ],
   "source": [
    "# Training Center: Skill Training Nepal\n",
    "print(\"Training Center:\", name)"
   ]
  },
  {
   "cell_type": "code",
   "execution_count": 9,
   "id": "def91524-1ec7-4228-b14f-069c5884ca67",
   "metadata": {},
   "outputs": [
    {
     "name": "stdout",
     "output_type": "stream",
     "text": [
      "Training Center:Skill Training Nepal\n"
     ]
    }
   ],
   "source": [
    "print(\"Training Center:\" + name)"
   ]
  },
  {
   "cell_type": "code",
   "execution_count": 4,
   "id": "046dbfa0-7dc9-4bf4-85b2-0df745ff6307",
   "metadata": {},
   "outputs": [
    {
     "name": "stdout",
     "output_type": "stream",
     "text": [
      "Training centre: Skill Training Nepal\n"
     ]
    }
   ],
   "source": [
    "print (f\"Training centre: {name}\")"
   ]
  },
  {
   "cell_type": "code",
   "execution_count": 13,
   "id": "c45f4cce-2203-4d90-b654-57b28bc888bf",
   "metadata": {},
   "outputs": [
    {
     "name": "stdout",
     "output_type": "stream",
     "text": [
      "Training Center: Skill Training Nepal\n"
     ]
    }
   ],
   "source": [
    "print(f\"Training Center: {name}\")"
   ]
  },
  {
   "cell_type": "code",
   "execution_count": 15,
   "id": "41817798-9b5f-4fd4-b091-4ae6fbbff894",
   "metadata": {},
   "outputs": [
    {
     "name": "stdout",
     "output_type": "stream",
     "text": [
      "Training Center: Skill Training Nepal\n"
     ]
    }
   ],
   "source": [
    "print(\"Training Center: {}\".format (name))"
   ]
  },
  {
   "cell_type": "code",
   "execution_count": 5,
   "id": "85746cc7-7cae-48e3-bb7c-e7ed34ee26c5",
   "metadata": {},
   "outputs": [
    {
     "name": "stdout",
     "output_type": "stream",
     "text": [
      "Training Centre: Skill Training Nepal\n"
     ]
    }
   ],
   "source": [
    "print(\"Training Centre: {}\".format(name))"
   ]
  },
  {
   "cell_type": "markdown",
   "id": "eb493b04-69f7-4a75-8395-9fa36adf9adb",
   "metadata": {},
   "source": [
    "# Operators\n",
    "- Arithmetic\n",
    "- Comparision\n",
    "- Logical\n"
   ]
  },
  {
   "cell_type": "markdown",
   "id": "fcd3a9d9-7423-4da3-96ad-bf8a105daff8",
   "metadata": {},
   "source": [
    "#Addition"
   ]
  },
  {
   "cell_type": "code",
   "execution_count": 22,
   "id": "53789500-e978-4789-b64c-451b6f2eeefd",
   "metadata": {},
   "outputs": [],
   "source": [
    "a, b, c, = 4, 3, 2.0"
   ]
  },
  {
   "cell_type": "code",
   "execution_count": 23,
   "id": "a4da0565-3d71-4582-9c44-297a6d090bd4",
   "metadata": {},
   "outputs": [
    {
     "name": "stdout",
     "output_type": "stream",
     "text": [
      "7\n",
      "<class 'int'>\n"
     ]
    }
   ],
   "source": [
    "d = a + b\n",
    "print(d)\n",
    "print (type(d))"
   ]
  },
  {
   "cell_type": "code",
   "execution_count": 25,
   "id": "bae7f1bb-ee93-4ee5-9ccc-dc72c2a7adf5",
   "metadata": {},
   "outputs": [
    {
     "name": "stdout",
     "output_type": "stream",
     "text": [
      "6.0\n",
      "<class 'float'>\n"
     ]
    }
   ],
   "source": [
    "d= a+c\n",
    "print(d)\n",
    "print (type (d))"
   ]
  },
  {
   "cell_type": "code",
   "execution_count": 26,
   "id": "3d020f74-b4bb-4af8-a3cb-bc9e8dda715f",
   "metadata": {},
   "outputs": [
    {
     "name": "stdout",
     "output_type": "stream",
     "text": [
      "6\n",
      "<class 'int'>\n"
     ]
    }
   ],
   "source": [
    "d= a + int(c) \n",
    "print(d)\n",
    "print (type (d))"
   ]
  },
  {
   "cell_type": "code",
   "execution_count": 33,
   "id": "015eddc8-fd09-41b2-989b-ab016f477409",
   "metadata": {},
   "outputs": [
    {
     "name": "stdout",
     "output_type": "stream",
     "text": [
      "6.0\n"
     ]
    }
   ],
   "source": [
    "a= a+c\n",
    "print(a)"
   ]
  },
  {
   "cell_type": "code",
   "execution_count": 34,
   "id": "4df94d5d-7b51-42df-948e-c369b6194945",
   "metadata": {},
   "outputs": [
    {
     "name": "stdout",
     "output_type": "stream",
     "text": [
      "8.0\n"
     ]
    }
   ],
   "source": [
    "a+=c\n",
    "print(a)"
   ]
  },
  {
   "cell_type": "code",
   "execution_count": 30,
   "id": "c6425be0-0a09-4cd4-b765-9b46c7964601",
   "metadata": {},
   "outputs": [],
   "source": [
    "import operator"
   ]
  },
  {
   "cell_type": "code",
   "execution_count": 31,
   "id": "fc82d240-4dd0-42ef-9087-6ec1d65de331",
   "metadata": {},
   "outputs": [
    {
     "data": {
      "text/plain": [
       "6.0"
      ]
     },
     "execution_count": 31,
     "metadata": {},
     "output_type": "execute_result"
    }
   ],
   "source": [
    "operator. add(a,c)"
   ]
  },
  {
   "cell_type": "code",
   "execution_count": 32,
   "id": "af2568f3-ee39-47a5-ad44-1656898baa6e",
   "metadata": {},
   "outputs": [
    {
     "data": {
      "text/plain": [
       "7"
      ]
     },
     "execution_count": 32,
     "metadata": {},
     "output_type": "execute_result"
    }
   ],
   "source": [
    "operator. add(a,b)"
   ]
  },
  {
   "cell_type": "code",
   "execution_count": 35,
   "id": "12051847-7215-404b-8c58-31be5f4f88df",
   "metadata": {},
   "outputs": [
    {
     "data": {
      "text/plain": [
       "10.0"
      ]
     },
     "execution_count": 35,
     "metadata": {},
     "output_type": "execute_result"
    }
   ],
   "source": [
    "#a+=c\n",
    "operator.iadd(a,c)"
   ]
  },
  {
   "cell_type": "markdown",
   "id": "97c21a6e-2ca4-4eda-922c-21b6503ee92b",
   "metadata": {},
   "source": [
    "# Subtraction"
   ]
  },
  {
   "cell_type": "code",
   "execution_count": 40,
   "id": "1a89ffa2-92c5-4b6b-849d-d05819c7539f",
   "metadata": {},
   "outputs": [],
   "source": [
    "a, b = 3, 4"
   ]
  },
  {
   "cell_type": "code",
   "execution_count": 41,
   "id": "9eaa50f6-fc62-45fc-a34e-889ba47b8218",
   "metadata": {},
   "outputs": [
    {
     "data": {
      "text/plain": [
       "-1"
      ]
     },
     "execution_count": 41,
     "metadata": {},
     "output_type": "execute_result"
    }
   ],
   "source": [
    "a - b"
   ]
  },
  {
   "cell_type": "code",
   "execution_count": 42,
   "id": "422b1b75-4d2e-4613-b86c-e581ac1b7f45",
   "metadata": {},
   "outputs": [
    {
     "data": {
      "text/plain": [
       "-1"
      ]
     },
     "execution_count": 42,
     "metadata": {},
     "output_type": "execute_result"
    }
   ],
   "source": [
    "a-= b \n",
    "a"
   ]
  },
  {
   "cell_type": "code",
   "execution_count": 43,
   "id": "c02c6261-2e33-418f-8724-57476ec6f516",
   "metadata": {},
   "outputs": [
    {
     "data": {
      "text/plain": [
       "5"
      ]
     },
     "execution_count": 43,
     "metadata": {},
     "output_type": "execute_result"
    }
   ],
   "source": [
    "import operator\n",
    "operator.sub(b, a)"
   ]
  },
  {
   "cell_type": "markdown",
   "id": "8966fef3-880b-45ba-9917-a4dc4e0eca4f",
   "metadata": {},
   "source": [
    "# Multiplication"
   ]
  },
  {
   "cell_type": "code",
   "execution_count": 61,
   "id": "f43f379a-d968-4d7c-bf75-ce04b0320ac4",
   "metadata": {},
   "outputs": [],
   "source": [
    "a, b = 3, 5"
   ]
  },
  {
   "cell_type": "code",
   "execution_count": 48,
   "id": "e85051e8-cdc9-4aa8-a995-c1c912a0e307",
   "metadata": {},
   "outputs": [
    {
     "data": {
      "text/plain": [
       "15"
      ]
     },
     "execution_count": 48,
     "metadata": {},
     "output_type": "execute_result"
    }
   ],
   "source": [
    "a * b"
   ]
  },
  {
   "cell_type": "code",
   "execution_count": 49,
   "id": "93de5ef7-de5d-4341-96d3-dca957f1daee",
   "metadata": {},
   "outputs": [
    {
     "data": {
      "text/plain": [
       "15"
      ]
     },
     "execution_count": 49,
     "metadata": {},
     "output_type": "execute_result"
    }
   ],
   "source": [
    "operator.mul(a, b)"
   ]
  },
  {
   "cell_type": "code",
   "execution_count": 62,
   "id": "543dc271-d6ad-4176-8eb1-305c8fdd1d0e",
   "metadata": {},
   "outputs": [
    {
     "data": {
      "text/plain": [
       "15"
      ]
     },
     "execution_count": 62,
     "metadata": {},
     "output_type": "execute_result"
    }
   ],
   "source": [
    "a *= b \n",
    "a"
   ]
  },
  {
   "cell_type": "code",
   "execution_count": 58,
   "id": "461fbc0b-7198-4087-b116-90f08870e8cd",
   "metadata": {},
   "outputs": [],
   "source": [
    "string = \"12\""
   ]
  },
  {
   "cell_type": "code",
   "execution_count": 63,
   "id": "e1eb0068-06a0-40ac-b4c9-637af51343fa",
   "metadata": {},
   "outputs": [
    {
     "data": {
      "text/plain": [
       "27"
      ]
     },
     "execution_count": 63,
     "metadata": {},
     "output_type": "execute_result"
    }
   ],
   "source": [
    "a + int (string)"
   ]
  },
  {
   "cell_type": "code",
   "execution_count": 60,
   "id": "cf01a673-663a-4d50-9fae-a85ea5d84ce1",
   "metadata": {},
   "outputs": [
    {
     "name": "stdout",
     "output_type": "stream",
     "text": [
      "HelloHelloHelloHelloHello\n"
     ]
    }
   ],
   "source": [
    "str1 = \"Hello\"\n",
    "print (5 * str1)"
   ]
  },
  {
   "cell_type": "code",
   "execution_count": 98,
   "id": "516556dc-47d7-46df-8c41-b98ef687a4e4",
   "metadata": {},
   "outputs": [
    {
     "name": "stdout",
     "output_type": "stream",
     "text": [
      "Hello Hello Hello Hello Hello \n"
     ]
    }
   ],
   "source": [
    "str = \"Hello \"\n",
    "print (5 * str)"
   ]
  },
  {
   "cell_type": "markdown",
   "id": "465cf31b-890d-42d3-a810-49d2f650d6e4",
   "metadata": {},
   "source": [
    "## division"
   ]
  },
  {
   "cell_type": "code",
   "execution_count": 100,
   "id": "0d17cb51-fb74-4f3a-bf89-fdeab7501375",
   "metadata": {},
   "outputs": [],
   "source": [
    "a, b = 3,4"
   ]
  },
  {
   "cell_type": "code",
   "execution_count": 101,
   "id": "b5f61b83-d080-4927-9da5-af6240672895",
   "metadata": {},
   "outputs": [
    {
     "data": {
      "text/plain": [
       "0.75"
      ]
     },
     "execution_count": 101,
     "metadata": {},
     "output_type": "execute_result"
    }
   ],
   "source": [
    "a/b"
   ]
  },
  {
   "cell_type": "code",
   "execution_count": 103,
   "id": "8eb0c77a-335a-4131-8b97-d68795ed839f",
   "metadata": {},
   "outputs": [
    {
     "data": {
      "text/plain": [
       "1.3333333333333333"
      ]
     },
     "execution_count": 103,
     "metadata": {},
     "output_type": "execute_result"
    }
   ],
   "source": [
    "b/a"
   ]
  },
  {
   "cell_type": "code",
   "execution_count": 105,
   "id": "2b4069a4-35a6-4d91-ac4c-c1c7e6a9cd50",
   "metadata": {},
   "outputs": [
    {
     "data": {
      "text/plain": [
       "1"
      ]
     },
     "execution_count": 105,
     "metadata": {},
     "output_type": "execute_result"
    }
   ],
   "source": [
    "5//3"
   ]
  },
  {
   "cell_type": "code",
   "execution_count": 104,
   "id": "a1d541de-08fa-4b43-84b0-f437effc46cf",
   "metadata": {},
   "outputs": [
    {
     "data": {
      "text/plain": [
       "1"
      ]
     },
     "execution_count": 104,
     "metadata": {},
     "output_type": "execute_result"
    }
   ],
   "source": [
    "b//a"
   ]
  },
  {
   "cell_type": "code",
   "execution_count": 106,
   "id": "6ab3cbe8-2805-4ece-93cc-fdc36f01d459",
   "metadata": {},
   "outputs": [],
   "source": [
    "import operator"
   ]
  },
  {
   "cell_type": "code",
   "execution_count": 107,
   "id": "97484496-13b2-48d4-ab14-432c628aad4f",
   "metadata": {},
   "outputs": [
    {
     "data": {
      "text/plain": [
       "1.6666666666666667"
      ]
     },
     "execution_count": 107,
     "metadata": {},
     "output_type": "execute_result"
    }
   ],
   "source": [
    "operator.truediv(5, 3)"
   ]
  },
  {
   "cell_type": "code",
   "execution_count": 108,
   "id": "25b506a7-e090-4297-a695-1ae1f854830a",
   "metadata": {},
   "outputs": [
    {
     "data": {
      "text/plain": [
       "1"
      ]
     },
     "execution_count": 108,
     "metadata": {},
     "output_type": "execute_result"
    }
   ],
   "source": [
    "operator.floordiv(5, 3)  # decimal nauney"
   ]
  },
  {
   "cell_type": "markdown",
   "id": "46f709c7-a5cf-4ad6-bc86-4d86a5b98486",
   "metadata": {},
   "source": [
    "## Expontial"
   ]
  },
  {
   "cell_type": "code",
   "execution_count": 74,
   "id": "06d9fdb7-64bb-4b12-8752-df91a9277c68",
   "metadata": {},
   "outputs": [],
   "source": [
    "import math"
   ]
  },
  {
   "cell_type": "code",
   "execution_count": 73,
   "id": "d0e6197a-a467-4133-921a-d3ab2ef5bc4d",
   "metadata": {},
   "outputs": [],
   "source": [
    "a, b = 3, 2"
   ]
  },
  {
   "cell_type": "code",
   "execution_count": 68,
   "id": "6ae2d53f-1d83-4c33-9e1b-25a9145c98e3",
   "metadata": {},
   "outputs": [
    {
     "data": {
      "text/plain": [
       "9"
      ]
     },
     "execution_count": 68,
     "metadata": {},
     "output_type": "execute_result"
    }
   ],
   "source": [
    "pow(a, b)"
   ]
  },
  {
   "cell_type": "code",
   "execution_count": 69,
   "id": "ed4d9229-8384-4a72-967c-7d9f020161c1",
   "metadata": {},
   "outputs": [
    {
     "data": {
      "text/plain": [
       "8"
      ]
     },
     "execution_count": 69,
     "metadata": {},
     "output_type": "execute_result"
    }
   ],
   "source": [
    "b **a"
   ]
  },
  {
   "cell_type": "code",
   "execution_count": 75,
   "id": "d3aa2519-b8e3-40d7-80bb-81251a84d667",
   "metadata": {},
   "outputs": [
    {
     "data": {
      "text/plain": [
       "1.7320508075688772"
      ]
     },
     "execution_count": 75,
     "metadata": {},
     "output_type": "execute_result"
    }
   ],
   "source": [
    "math.sqrt(a)"
   ]
  },
  {
   "cell_type": "code",
   "execution_count": 76,
   "id": "00132edc-f1dd-4ae2-aa8d-c5da3723a2c3",
   "metadata": {},
   "outputs": [
    {
     "data": {
      "text/plain": [
       "1.4142135623730951"
      ]
     },
     "execution_count": 76,
     "metadata": {},
     "output_type": "execute_result"
    }
   ],
   "source": [
    "math.sqrt(b)"
   ]
  },
  {
   "cell_type": "code",
   "execution_count": 78,
   "id": "a0b177ac-444e-4980-8310-407d1418ff7c",
   "metadata": {},
   "outputs": [],
   "source": [
    "import cmath"
   ]
  },
  {
   "cell_type": "code",
   "execution_count": 79,
   "id": "1b2fdf5c-8e12-45f4-8f58-0b8ccf48296f",
   "metadata": {},
   "outputs": [
    {
     "data": {
      "text/plain": [
       "(2+0j)"
      ]
     },
     "execution_count": 79,
     "metadata": {},
     "output_type": "execute_result"
    }
   ],
   "source": [
    "cmath.sqrt(4)"
   ]
  },
  {
   "cell_type": "code",
   "execution_count": 80,
   "id": "6408fbae-40ee-463b-860e-68029eca24c8",
   "metadata": {},
   "outputs": [
    {
     "data": {
      "text/plain": [
       "2.718281828459045"
      ]
     },
     "execution_count": 80,
     "metadata": {},
     "output_type": "execute_result"
    }
   ],
   "source": [
    "math.exp(1)"
   ]
  },
  {
   "cell_type": "code",
   "execution_count": 81,
   "id": "3fd748ed-de5f-407d-85ea-33e212c8efa5",
   "metadata": {},
   "outputs": [
    {
     "data": {
      "text/plain": [
       "7.38905609893065"
      ]
     },
     "execution_count": 81,
     "metadata": {},
     "output_type": "execute_result"
    }
   ],
   "source": [
    "math.exp(2)"
   ]
  },
  {
   "cell_type": "code",
   "execution_count": 83,
   "id": "a4b11a6c-dc65-4142-ab7a-e001e8bcd7d9",
   "metadata": {},
   "outputs": [
    {
     "data": {
      "text/plain": [
       "1.718281828459045"
      ]
     },
     "execution_count": 83,
     "metadata": {},
     "output_type": "execute_result"
    }
   ],
   "source": [
    "math.expm1(1)  #e^1 - 1"
   ]
  },
  {
   "cell_type": "code",
   "execution_count": 84,
   "id": "d7f07d86-d92a-4d28-9a20-2dff1caa5c9b",
   "metadata": {},
   "outputs": [
    {
     "data": {
      "text/plain": [
       "1.0"
      ]
     },
     "execution_count": 84,
     "metadata": {},
     "output_type": "execute_result"
    }
   ],
   "source": [
    "math.exp(0)"
   ]
  },
  {
   "cell_type": "markdown",
   "id": "15f23b7f-9cfa-428b-b689-3d5ef3b7db00",
   "metadata": {},
   "source": [
    "## Trigonometric"
   ]
  },
  {
   "cell_type": "code",
   "execution_count": 85,
   "id": "30f0d0b9-d4b5-4154-b390-66ebb0525ab7",
   "metadata": {},
   "outputs": [],
   "source": [
    "import math"
   ]
  },
  {
   "cell_type": "code",
   "execution_count": 86,
   "id": "1104c741-db01-45bb-a70b-195aa55bd421",
   "metadata": {},
   "outputs": [
    {
     "data": {
      "text/plain": [
       "0.8414709848078965"
      ]
     },
     "execution_count": 86,
     "metadata": {},
     "output_type": "execute_result"
    }
   ],
   "source": [
    "math.sin(1)"
   ]
  },
  {
   "cell_type": "code",
   "execution_count": 87,
   "id": "178d5b7b-619a-494e-bca0-3775f948f6cb",
   "metadata": {},
   "outputs": [
    {
     "data": {
      "text/plain": [
       "0.49999999999999994"
      ]
     },
     "execution_count": 87,
     "metadata": {},
     "output_type": "execute_result"
    }
   ],
   "source": [
    "deg = 30\n",
    "rad = math.radians(deg)\n",
    "math.sin(rad)"
   ]
  },
  {
   "cell_type": "code",
   "execution_count": 88,
   "id": "5d49c250-c5e4-45e3-a9ae-2776d380f611",
   "metadata": {},
   "outputs": [
    {
     "data": {
      "text/plain": [
       "0.5510695830994463"
      ]
     },
     "execution_count": 88,
     "metadata": {},
     "output_type": "execute_result"
    }
   ],
   "source": [
    "math.asin(rad)"
   ]
  },
  {
   "cell_type": "code",
   "execution_count": 89,
   "id": "092ab039-38f2-4b57-bf81-559b962fc315",
   "metadata": {},
   "outputs": [
    {
     "data": {
      "text/plain": [
       "0.48047277815645156"
      ]
     },
     "execution_count": 89,
     "metadata": {},
     "output_type": "execute_result"
    }
   ],
   "source": [
    "math.tanh(rad)"
   ]
  },
  {
   "cell_type": "code",
   "execution_count": 90,
   "id": "1cc54c43-2848-4661-8ec0-000426ce8343",
   "metadata": {},
   "outputs": [
    {
     "data": {
      "text/plain": [
       "-1.0"
      ]
     },
     "execution_count": 90,
     "metadata": {},
     "output_type": "execute_result"
    }
   ],
   "source": [
    "math.cos(math.pi)"
   ]
  },
  {
   "cell_type": "markdown",
   "id": "75a7620f-820e-4317-aac4-da6d4d2472cd",
   "metadata": {},
   "source": [
    "## Lograthms"
   ]
  },
  {
   "cell_type": "code",
   "execution_count": 91,
   "id": "254299d6-74aa-4a27-895c-24c603b8ed1a",
   "metadata": {},
   "outputs": [],
   "source": [
    "import math"
   ]
  },
  {
   "cell_type": "code",
   "execution_count": 92,
   "id": "2ee083e9-8156-4743-bafd-3cb333269bb1",
   "metadata": {},
   "outputs": [
    {
     "data": {
      "text/plain": [
       "2.302585092994046"
      ]
     },
     "execution_count": 92,
     "metadata": {},
     "output_type": "execute_result"
    }
   ],
   "source": [
    "math.log(10)"
   ]
  },
  {
   "cell_type": "code",
   "execution_count": 93,
   "id": "0f713553-f301-40e5-83b0-518e342e406b",
   "metadata": {},
   "outputs": [
    {
     "data": {
      "text/plain": [
       "2.302585092994046"
      ]
     },
     "execution_count": 93,
     "metadata": {},
     "output_type": "execute_result"
    }
   ],
   "source": [
    "math.log(10, math.e)"
   ]
  },
  {
   "cell_type": "code",
   "execution_count": 94,
   "id": "a32cd2f4-c2b5-40d9-93f6-ae690cb5be4d",
   "metadata": {},
   "outputs": [
    {
     "data": {
      "text/plain": [
       "2.9999999999999996"
      ]
     },
     "execution_count": 94,
     "metadata": {},
     "output_type": "execute_result"
    }
   ],
   "source": [
    "math.log(1000,10)"
   ]
  },
  {
   "cell_type": "code",
   "execution_count": 95,
   "id": "7ae7a2e4-de61-47a2-9f00-b4929494d19a",
   "metadata": {},
   "outputs": [
    {
     "data": {
      "text/plain": [
       "(2.9999999999999996+0j)"
      ]
     },
     "execution_count": 95,
     "metadata": {},
     "output_type": "execute_result"
    }
   ],
   "source": [
    "cmath.log(1000,10)"
   ]
  },
  {
   "cell_type": "code",
   "execution_count": 96,
   "id": "745b74b4-67a5-4ced-8835-df8d130c02f4",
   "metadata": {},
   "outputs": [
    {
     "data": {
      "text/plain": [
       "1.0"
      ]
     },
     "execution_count": 96,
     "metadata": {},
     "output_type": "execute_result"
    }
   ],
   "source": [
    "math.log2(2)"
   ]
  },
  {
   "cell_type": "markdown",
   "id": "5bf18e0b-ea77-48ed-b759-ac277651e22d",
   "metadata": {},
   "source": [
    "## Modulus"
   ]
  },
  {
   "cell_type": "code",
   "execution_count": 109,
   "id": "48d3a507-8e6f-4132-9d28-4eb58579654e",
   "metadata": {},
   "outputs": [
    {
     "data": {
      "text/plain": [
       "0.75"
      ]
     },
     "execution_count": 109,
     "metadata": {},
     "output_type": "execute_result"
    }
   ],
   "source": [
    "3 / 4"
   ]
  },
  {
   "cell_type": "code",
   "execution_count": 111,
   "id": "d6053026-cd37-4882-b030-d09bf14f790a",
   "metadata": {},
   "outputs": [
    {
     "data": {
      "text/plain": [
       "3"
      ]
     },
     "execution_count": 111,
     "metadata": {},
     "output_type": "execute_result"
    }
   ],
   "source": [
    "# 3 mod 4 -> 3/4 (remainder)\n",
    "3 % 4"
   ]
  },
  {
   "cell_type": "code",
   "execution_count": 112,
   "id": "d64a110f-baec-48fb-af74-d819aaff3367",
   "metadata": {},
   "outputs": [
    {
     "data": {
      "text/plain": [
       "0"
      ]
     },
     "execution_count": 112,
     "metadata": {},
     "output_type": "execute_result"
    }
   ],
   "source": [
    "operator.mod(4, 2)"
   ]
  },
  {
   "cell_type": "code",
   "execution_count": 113,
   "id": "b167abbb-11fc-4a36-a8a8-fd3890b38cbb",
   "metadata": {},
   "outputs": [
    {
     "data": {
      "text/plain": [
       "0"
      ]
     },
     "execution_count": 113,
     "metadata": {},
     "output_type": "execute_result"
    }
   ],
   "source": [
    "-4 % 4"
   ]
  },
  {
   "cell_type": "code",
   "execution_count": 114,
   "id": "9118adfd-602c-49a0-88eb-d165c8fbe490",
   "metadata": {},
   "outputs": [
    {
     "name": "stdout",
     "output_type": "stream",
     "text": [
      "4 1\n"
     ]
    }
   ],
   "source": [
    "q, r = divmod(9, 2) # quotient, remainder\n",
    "print (q, r)"
   ]
  },
  {
   "cell_type": "markdown",
   "id": "bc1c59a8-20f9-445a-a666-706579dec4b8",
   "metadata": {},
   "source": [
    "## Operator Logical \n",
    "- AND\n",
    "- OR\n",
    "- NOT"
   ]
  },
  {
   "cell_type": "code",
   "execution_count": 116,
   "id": "9db412f4-6c3b-49ac-a115-a0a21e1f7ad4",
   "metadata": {},
   "outputs": [],
   "source": [
    "x =True\n",
    "y = False"
   ]
  },
  {
   "cell_type": "code",
   "execution_count": 118,
   "id": "5986ed3c-cef8-4f7c-be5f-4dd48d8b1309",
   "metadata": {},
   "outputs": [
    {
     "data": {
      "text/plain": [
       "False"
      ]
     },
     "execution_count": 118,
     "metadata": {},
     "output_type": "execute_result"
    }
   ],
   "source": [
    "x and y"
   ]
  },
  {
   "cell_type": "code",
   "execution_count": 119,
   "id": "01ec1257-8862-4ed4-9017-395b2c8b3211",
   "metadata": {},
   "outputs": [
    {
     "data": {
      "text/plain": [
       "True"
      ]
     },
     "execution_count": 119,
     "metadata": {},
     "output_type": "execute_result"
    }
   ],
   "source": [
    "x or y "
   ]
  },
  {
   "cell_type": "code",
   "execution_count": 120,
   "id": "c374cd5a-4eda-4079-95bb-c2dbf76ed558",
   "metadata": {},
   "outputs": [
    {
     "data": {
      "text/plain": [
       "True"
      ]
     },
     "execution_count": 120,
     "metadata": {},
     "output_type": "execute_result"
    }
   ],
   "source": [
    "x and x"
   ]
  },
  {
   "cell_type": "code",
   "execution_count": 121,
   "id": "b2cebbe0-8441-423a-9011-0a8d8adeda96",
   "metadata": {},
   "outputs": [
    {
     "data": {
      "text/plain": [
       "False"
      ]
     },
     "execution_count": 121,
     "metadata": {},
     "output_type": "execute_result"
    }
   ],
   "source": [
    "not x"
   ]
  },
  {
   "cell_type": "code",
   "execution_count": 123,
   "id": "8fc1acc5-29cf-4c6d-abf6-0d1d295cab0c",
   "metadata": {},
   "outputs": [],
   "source": [
    "p, q = 1, 0"
   ]
  },
  {
   "cell_type": "code",
   "execution_count": 124,
   "id": "e0951e27-3239-42f9-8f08-9626b9804be7",
   "metadata": {},
   "outputs": [
    {
     "data": {
      "text/plain": [
       "0"
      ]
     },
     "execution_count": 124,
     "metadata": {},
     "output_type": "execute_result"
    }
   ],
   "source": [
    "p and q"
   ]
  },
  {
   "cell_type": "code",
   "execution_count": 125,
   "id": "bc75d946-cbc7-43eb-b981-e807c902d501",
   "metadata": {},
   "outputs": [
    {
     "data": {
      "text/plain": [
       "1"
      ]
     },
     "execution_count": 125,
     "metadata": {},
     "output_type": "execute_result"
    }
   ],
   "source": [
    "p or q"
   ]
  },
  {
   "cell_type": "code",
   "execution_count": 128,
   "id": "e17f7826-8744-4a82-9c39-4f6b09584476",
   "metadata": {},
   "outputs": [
    {
     "data": {
      "text/plain": [
       "True"
      ]
     },
     "execution_count": 128,
     "metadata": {},
     "output_type": "execute_result"
    }
   ],
   "source": [
    "not (y and (x and p or q and y))"
   ]
  },
  {
   "cell_type": "markdown",
   "id": "6c3a126c-ab47-4506-b8ce-11463801ccb7",
   "metadata": {},
   "source": [
    "## Comparision"
   ]
  },
  {
   "cell_type": "code",
   "execution_count": 129,
   "id": "50f1617c-64f9-4a3c-a715-a21e14976143",
   "metadata": {},
   "outputs": [],
   "source": [
    "x, y, z = 2, 3, 4"
   ]
  },
  {
   "cell_type": "code",
   "execution_count": 130,
   "id": "f0154b42-6adf-4260-be12-1e0cd4ee5992",
   "metadata": {},
   "outputs": [
    {
     "data": {
      "text/plain": [
       "True"
      ]
     },
     "execution_count": 130,
     "metadata": {},
     "output_type": "execute_result"
    }
   ],
   "source": [
    "z > x"
   ]
  },
  {
   "cell_type": "code",
   "execution_count": 147,
   "id": "0911901b-9a11-4e34-a629-b1a9b533436e",
   "metadata": {},
   "outputs": [
    {
     "data": {
      "text/plain": [
       "False"
      ]
     },
     "execution_count": 147,
     "metadata": {},
     "output_type": "execute_result"
    }
   ],
   "source": [
    "x > z > y"
   ]
  },
  {
   "cell_type": "code",
   "execution_count": 132,
   "id": "2ec526ee-8022-41d6-8d67-897905fb8464",
   "metadata": {},
   "outputs": [
    {
     "data": {
      "text/plain": [
       "False"
      ]
     },
     "execution_count": 132,
     "metadata": {},
     "output_type": "execute_result"
    }
   ],
   "source": [
    "x== y"
   ]
  },
  {
   "cell_type": "code",
   "execution_count": 133,
   "id": "a429daa8-6f79-4956-8e47-fa6b556d6445",
   "metadata": {},
   "outputs": [
    {
     "data": {
      "text/plain": [
       "True"
      ]
     },
     "execution_count": 133,
     "metadata": {},
     "output_type": "execute_result"
    }
   ],
   "source": [
    "y is y"
   ]
  },
  {
   "cell_type": "code",
   "execution_count": 138,
   "id": "8856795b-2aa4-4bff-bd7f-ddf67287ad3d",
   "metadata": {},
   "outputs": [],
   "source": [
    "a = \"hello\"\n",
    "b = \"hello world\""
   ]
  },
  {
   "cell_type": "code",
   "execution_count": 135,
   "id": "73d8acb0-f527-4079-b9c9-cd47b31a4bb4",
   "metadata": {},
   "outputs": [
    {
     "data": {
      "text/plain": [
       "False"
      ]
     },
     "execution_count": 135,
     "metadata": {},
     "output_type": "execute_result"
    }
   ],
   "source": [
    "a is b"
   ]
  },
  {
   "cell_type": "code",
   "execution_count": 142,
   "id": "c35aedcc-b1cf-4e12-8e6a-dbce995a894b",
   "metadata": {},
   "outputs": [
    {
     "data": {
      "text/plain": [
       "True"
      ]
     },
     "execution_count": 142,
     "metadata": {},
     "output_type": "execute_result"
    }
   ],
   "source": [
    "a == b[:5]"
   ]
  },
  {
   "cell_type": "code",
   "execution_count": 143,
   "id": "c0d10275-d725-4c97-aad8-f80c1decd33b",
   "metadata": {},
   "outputs": [
    {
     "data": {
      "text/plain": [
       "True"
      ]
     },
     "execution_count": 143,
     "metadata": {},
     "output_type": "execute_result"
    }
   ],
   "source": [
    "x!=y"
   ]
  },
  {
   "cell_type": "code",
   "execution_count": 145,
   "id": "3c732cc7-ad8f-4982-b590-e339e6870f7a",
   "metadata": {},
   "outputs": [
    {
     "data": {
      "text/plain": [
       "False"
      ]
     },
     "execution_count": 145,
     "metadata": {},
     "output_type": "execute_result"
    }
   ],
   "source": [
    "False !=False"
   ]
  },
  {
   "cell_type": "code",
   "execution_count": 146,
   "id": "a3bf2ccb-0496-44f9-915a-538fcbae304a",
   "metadata": {},
   "outputs": [
    {
     "data": {
      "text/plain": [
       "True"
      ]
     },
     "execution_count": 146,
     "metadata": {},
     "output_type": "execute_result"
    }
   ],
   "source": [
    "x > y and y < z or False == False"
   ]
  },
  {
   "cell_type": "code",
   "execution_count": 1,
   "id": "5ab106e1-9a00-4fdc-a08d-0c722c82fa4e",
   "metadata": {},
   "outputs": [
    {
     "name": "stdout",
     "output_type": "stream",
     "text": [
      "2\n"
     ]
    }
   ],
   "source": [
    "print(1+1)"
   ]
  },
  {
   "cell_type": "code",
   "execution_count": 2,
   "id": "1f25c5d4-a903-48f9-ad39-804f0847f85d",
   "metadata": {},
   "outputs": [
    {
     "name": "stdout",
     "output_type": "stream",
     "text": [
      "0\n"
     ]
    }
   ],
   "source": [
    "print(1-1)"
   ]
  },
  {
   "cell_type": "code",
   "execution_count": 3,
   "id": "c294873e-61a6-4cb1-a58c-599887bf4cff",
   "metadata": {},
   "outputs": [
    {
     "name": "stdout",
     "output_type": "stream",
     "text": [
      "4\n"
     ]
    }
   ],
   "source": [
    "print(2*2)"
   ]
  },
  {
   "cell_type": "code",
   "execution_count": 4,
   "id": "acf05bcb-1132-45f1-a8dc-c7a6d544a786",
   "metadata": {},
   "outputs": [
    {
     "name": "stdout",
     "output_type": "stream",
     "text": [
      "4.0\n"
     ]
    }
   ],
   "source": [
    "print(8/2)"
   ]
  },
  {
   "cell_type": "code",
   "execution_count": 5,
   "id": "ba02378d-bf1f-4c7a-bec5-c5a1d1a6018d",
   "metadata": {},
   "outputs": [
    {
     "name": "stdout",
     "output_type": "stream",
     "text": [
      "6.25\n"
     ]
    }
   ],
   "source": [
    "print(12.5/2)"
   ]
  },
  {
   "cell_type": "code",
   "execution_count": null,
   "id": "17336388-8aea-402f-ac04-5455e197a99e",
   "metadata": {},
   "outputs": [],
   "source": [
    "print(1+"
   ]
  }
 ],
 "metadata": {
  "kernelspec": {
   "display_name": "Python 3 (ipykernel)",
   "language": "python",
   "name": "python3"
  },
  "language_info": {
   "codemirror_mode": {
    "name": "ipython",
    "version": 3
   },
   "file_extension": ".py",
   "mimetype": "text/x-python",
   "name": "python",
   "nbconvert_exporter": "python",
   "pygments_lexer": "ipython3",
   "version": "3.10.11"
  }
 },
 "nbformat": 4,
 "nbformat_minor": 5
}
