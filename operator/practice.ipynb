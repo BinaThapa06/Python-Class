{
 "cells": [
  {
   "cell_type": "code",
   "execution_count": 5,
   "id": "16ffe346-c188-4b7c-8fc4-c9c341e05a91",
   "metadata": {},
   "outputs": [
    {
     "name": "stdout",
     "output_type": "stream",
     "text": [
      "Training Center: Training Skill Nepal\n"
     ]
    }
   ],
   "source": [
    "name = \"Training Skill Nepal\"\n",
    "print(\"Training Center:\" , name)"
   ]
  },
  {
   "cell_type": "code",
   "execution_count": 1,
   "id": "e0b2398b",
   "metadata": {},
   "outputs": [
    {
     "name": "stdout",
     "output_type": "stream",
     "text": [
      "Alice\n",
      "Alina\n"
     ]
    }
   ],
   "source": [
    "# Getter and Setter Methods\n",
    "\n",
    "class Person:\n",
    "    def __init__(self,name, newname):        #initializing attribute\n",
    "        self.__name = name\n",
    "        self.__newname = newname\n",
    "    \n",
    "    # creating getter method\n",
    "\n",
    "    def get_name(self):\n",
    "        return self.__name\n",
    "    \n",
    "    # creating setter method\n",
    "\n",
    "    def set_newname(self, newname):\n",
    "        self.__newname = newname\n",
    "    \n",
    "    # using getter method\n",
    "    def get_newname(self):\n",
    "        return self.__newname\n",
    "\n",
    "#creating an object\n",
    "p = Person(\"Alice\", \"Alina\")\n",
    "\n",
    "# calling an method:\n",
    "\n",
    "print(p.get_name())\n",
    "print(p.get_newname())\n",
    "\n",
    "    \n",
    "\n",
    "    \n"
   ]
  },
  {
   "cell_type": "code",
   "execution_count": 2,
   "id": "92acd8e2",
   "metadata": {},
   "outputs": [
    {
     "name": "stdout",
     "output_type": "stream",
     "text": [
      "1000\n",
      "Sambay\n",
      "Deposited 500: New Balance: 1500\n",
      "Withdraw 200:New Balance: 1300\n"
     ]
    }
   ],
   "source": [
    "\n",
    "class BankAccount:\n",
    "\n",
    "    # initializing attributes both are private variables\n",
    "\n",
    "    def __init__(self, account_holder, balance):\n",
    "        self.__account_holder = account_holder\n",
    "        self.__balance = balance\n",
    "\n",
    "    # creating a method using getter method\n",
    "\n",
    "    def get_account_holder(self):\n",
    "        return self.__account_holder \n",
    "                  \n",
    "    def get_balance(self):\n",
    "        return self.__balance\n",
    "    \n",
    "    # creating a setter method\n",
    "\n",
    "    def deposit(self, amount):\n",
    "        if amount > 0:\n",
    "            self.__balance += amount\n",
    "            return f\"Deposited {amount}: New Balance: {self.__balance}\"\n",
    "        return f\"Invalid deposit amount!\"\n",
    "    \n",
    "    def withdraw(self, amount):\n",
    "        if 0 < amount <= self.__balance:\n",
    "            self.__balance -= amount\n",
    "            return f\"Withdraw {amount}:New Balance: {self.__balance}\"\n",
    "        else:\n",
    "            return f\"Insufficient Balance !\"\n",
    "    \n",
    "# creating an object\n",
    "b = BankAccount(\"Sambay\",1000)\n",
    "\n",
    "print(b.get_balance())\n",
    "print(b.get_account_holder())\n",
    "print(b.deposit(500))\n",
    "print(b.withdraw(200))\n",
    "\n",
    "\n",
    "\n",
    "    \n",
    "\n",
    "\n",
    "\n",
    "\n"
   ]
  },
  {
   "cell_type": "code",
   "execution_count": null,
   "id": "1f92c77c",
   "metadata": {},
   "outputs": [
    {
     "name": "stdout",
     "output_type": "stream",
     "text": [
      "Puchu says: Woof Woof\n",
      "Mamu says: Meow Meow\n"
     ]
    }
   ],
   "source": [
    "# Parent class\n",
    "\n",
    "class Vehicle:\n",
    "    def __init__(self, brand, speed):\n",
    "        self.__brand = brand\n",
    "        self.__speed = speed\n",
    "# using Getter Methods\n",
    "    def get_brand(self):\n",
    "        return self.__brand\n",
    "    \n",
    "    def get_speed(self):\n",
    "        return self.__speed\n",
    "# using parent constructor\n",
    "class Car(Vehicle):\n",
    "    def __init__(self, brand, speed, fuel_type):\n",
    "        super().__init__(brand, speed)\n",
    "        \n",
    "        self.__fuel_type = fuel_type\n",
    "        \n",
    "    def get_fuel_type(self):\n",
    "        return self.__fuel_type\n",
    "# creating an object\n",
    "v = Car(\"Toyota\", \"10 km/hr\", \"Diesel\")\n",
    "\n",
    "# calling the Method\n",
    "print(v.get_brand(),\"Car moves at\",v.get_speed(), \"And runs on\", v.get_fuel_type() + \".\")\n"
   ]
  },
  {
   "cell_type": "code",
   "execution_count": null,
   "id": "8325f6ca",
   "metadata": {},
   "outputs": [],
   "source": [
    "# Create a simple User Management System where users can:by providing a name, email, address and password.\n",
    "using email and password. once logged in. All user data should be in the following format: name, email, address, password\n",
    "\n",
    "- Register by providing their name, email, address, and password.\n",
    "- Login using their email and password.\n",
    "- View their profile after logging in.\n",
    "\n"
   ]
  },
  {
   "cell_type": "code",
   "execution_count": 3,
   "id": "1e55a63f",
   "metadata": {},
   "outputs": [
    {
     "ename": "SyntaxError",
     "evalue": "'return' outside function (2246977825.py, line 28)",
     "output_type": "error",
     "traceback": [
      "\u001b[1;36m  Cell \u001b[1;32mIn[3], line 28\u001b[1;36m\u001b[0m\n\u001b[1;33m    return \"Registration successful.\"\u001b[0m\n\u001b[1;37m    ^\u001b[0m\n\u001b[1;31mSyntaxError\u001b[0m\u001b[1;31m:\u001b[0m 'return' outside function\n"
     ]
    }
   ],
   "source": [
    "class User:\n",
    "    def __init__(self, name, email, address, password):\n",
    "        self.__name = name\n",
    "        self.__email = email\n",
    "        self.__address = address\n",
    "        self.__password = password\n",
    "\n",
    "    def get_name(self):\n",
    "        return self.__name\n",
    "    def get_email(self):\n",
    "        return self.__email\n",
    "    def get_address(self):\n",
    "        return self.__address\n",
    "    def get_password(self):\n",
    "        return self.__password\n",
    "\n",
    "class UserManager:\n",
    "    def __init__(self, register, login):\n",
    "        self.__register = register\n",
    "        self.__login = login\n",
    "\n",
    "    def get_register(self, name, email, address, password):\n",
    "        super().__init__(name, email, address, password)\n",
    "        self.__register = register\n",
    "\n",
    "    def get_register(self):\n",
    "        return \"User already exit.\"\n",
    "    return \"Registration successful.\"\n",
    "\n",
    "    def get_login(self, email, password):\n",
    "        super().__init__(email, password)\n",
    "        self.__login = login\n",
    "\n",
    "    def get_login(self):\n",
    "        return f\"Login successful!, Welcome,{user.get_name()}.\"\n",
    "    return \"login unsuccessful. Try Again !\"\n",
    "\n",
    "\n",
    "v = UserManager(\"Reena\", \"reena123@gmail.com\", \"kathmandu\", \"Secure password\")\n",
    "\n",
    "print (v.get_register(), v.get_login())\n",
    "\n",
    "        \n",
    "\n",
    "        \n",
    "    \n",
    "\n",
    "\n",
    "\n",
    "\n",
    "\n",
    "\n",
    "\n"
   ]
  },
  {
   "cell_type": "code",
   "execution_count": 13,
   "id": "3d3b0d74-4b4f-4378-be3a-afb24c801f03",
   "metadata": {},
   "outputs": [
    {
     "ename": "NameError",
     "evalue": "name 'name' is not defined",
     "output_type": "error",
     "traceback": [
      "\u001b[1;31m---------------------------------------------------------------------------\u001b[0m",
      "\u001b[1;31mNameError\u001b[0m                                 Traceback (most recent call last)",
      "Cell \u001b[1;32mIn[13], line 1\u001b[0m\n\u001b[1;32m----> 1\u001b[0m \u001b[38;5;28mprint\u001b[39m(\u001b[38;5;124m\"\u001b[39m\u001b[38;5;124mTraining Center:\u001b[39m\u001b[38;5;124m\"\u001b[39m \u001b[38;5;241m+\u001b[39m \u001b[43mname\u001b[49m)\n",
      "\u001b[1;31mNameError\u001b[0m: name 'name' is not defined"
     ]
    }
   ],
   "source": [
    "print(\"Training Center:\" + name)"
   ]
  },
  {
   "cell_type": "code",
   "execution_count": 2,
   "id": "c00cdb1b",
   "metadata": {},
   "outputs": [
    {
     "name": "stdout",
     "output_type": "stream",
     "text": [
      "Registration successful!\n",
      "Login successful! Welcome, Alice.\n",
      "Invalid email or password!\n"
     ]
    }
   ],
   "source": [
    "class User:\n",
    "    def __init__(self, name, email, address, password):\n",
    "        self.__name = name\n",
    "        self.__email = email\n",
    "        self.__address = address\n",
    "        self.__password = password  # Store password securely in real apps\n",
    "\n",
    "    def get_name(self):\n",
    "        return self.__name\n",
    "\n",
    "    def get_email(self):\n",
    "        return self.__email\n",
    "\n",
    "    def get_address(self):\n",
    "        return self.__address\n",
    "\n",
    "    def verify_password(self, password):\n",
    "        return self.__password == password  # Use hashing in real applications\n",
    "\n",
    "\n",
    "class UserManager:\n",
    "    def __init__(self):\n",
    "        self.users = {}  # Dictionary to store user email as key and User object as value\n",
    "\n",
    "    def register(self, name, email, address, password):\n",
    "        if email in self.users:\n",
    "            return \"User already exists!\"\n",
    "        self.users[email] = User(name, email, address, password)\n",
    "        return \"Registration successful!\"\n",
    "\n",
    "    def login(self, email, password):\n",
    "        user = self.users.get(email)\n",
    "        if user and user.verify_password(password):\n",
    "            return f\"Login successful! Welcome, {user.get_name()}.\"\n",
    "        return \"Invalid email or password!\"\n",
    "\n",
    "\n",
    "# Example Usage\n",
    "manager = UserManager()\n",
    "print(manager.register(\"Alice\", \"alice@example.com\", \"123 Street\", \"securepassword\"))\n",
    "print(manager.login(\"alice@example.com\", \"securepassword\"))\n",
    "print(manager.login(\"alice@example.com\", \"wrongpassword\"))\n"
   ]
  },
  {
   "cell_type": "code",
   "execution_count": 11,
   "id": "3e02c1b0-5ead-47e8-a458-52f5d647aa68",
   "metadata": {},
   "outputs": [
    {
     "name": "stdout",
     "output_type": "stream",
     "text": [
      "Training Center: Training Skill Nepal\n"
     ]
    }
   ],
   "source": [
    "print(f\"Training Center: {name}\")"
   ]
  },
  {
   "cell_type": "code",
   "execution_count": 15,
   "id": "1578d301-d33b-4bf2-ab30-c38eae221474",
   "metadata": {},
   "outputs": [
    {
     "name": "stdout",
     "output_type": "stream",
     "text": [
      "Training Center: Training Skill Nepal\n"
     ]
    }
   ],
   "source": [
    "print(\"Training Center: {}\".format(name))"
   ]
  },
  {
   "cell_type": "code",
   "execution_count": 4,
   "id": "2eb13559-e98c-41b7-8a4d-8a002f0eb43b",
   "metadata": {},
   "outputs": [
    {
     "name": "stdout",
     "output_type": "stream",
     "text": [
      "Enter a Number: 80\n"
     ]
    },
    {
     "name": "stdout",
     "output_type": "stream",
     "text": [
      "Sum before 0\n",
      "sum after 80\n"
     ]
    },
    {
     "name": "stdout",
     "output_type": "stream",
     "text": [
      "Enter a Number: 90\n"
     ]
    },
    {
     "name": "stdout",
     "output_type": "stream",
     "text": [
      "Sum before 80\n",
      "sum after 170\n",
      "This sum is 170\n"
     ]
    }
   ],
   "source": [
    "sum = 0\n",
    "while True:\n",
    "    try:\n",
    "        num = int(input(\"Enter a Number:\"))\n",
    "        print(\"Sum before\",sum)\n",
    "        sum += num\n",
    "        print(\"sum after\",sum)\n",
    "        if sum > 100:\n",
    "            print(f\"This sum is {sum}\")\n",
    "            break\n",
    "    except:\n",
    "        print(\"Enter Valid Numbers\")"
   ]
  },
  {
   "cell_type": "code",
   "execution_count": 6,
   "id": "51b3864c-9762-4b41-89bc-f14a5e7b7da4",
   "metadata": {},
   "outputs": [
    {
     "name": "stdout",
     "output_type": "stream",
     "text": [
      "Hello World!\n"
     ]
    }
   ],
   "source": [
    "def Say_hello_world ():\n",
    "    print(\"Hello World!\")\n",
    "Say_hello_world()"
   ]
  },
  {
   "cell_type": "code",
   "execution_count": 11,
   "id": "dde7f3c2-6edd-4c1c-91f8-a3562a7a79ce",
   "metadata": {},
   "outputs": [
    {
     "name": "stdout",
     "output_type": "stream",
     "text": [
      "Hello,Sambay !\n"
     ]
    }
   ],
   "source": [
    "def greet(name):\n",
    "    print(f\"Hello,{name}\")\n",
    "greet (\"Sambay !\")"
   ]
  },
  {
   "cell_type": "code",
   "execution_count": 28,
   "id": "a83d8a90-b19e-4b8d-8f36-cd2208b7e61e",
   "metadata": {},
   "outputs": [
    {
     "name": "stdout",
     "output_type": "stream",
     "text": [
      "8\n"
     ]
    }
   ],
   "source": [
    "def sum(a, b):\n",
    "        s = a + b\n",
    "        return (s)\n",
    "s = sum (4, 4)\n",
    "print (s)"
   ]
  },
  {
   "cell_type": "code",
   "execution_count": 7,
   "id": "14972509-f6f1-4b7b-9f6b-4e0478f85323",
   "metadata": {},
   "outputs": [
    {
     "name": "stdout",
     "output_type": "stream",
     "text": [
      "Hello, sambay!\n"
     ]
    }
   ],
   "source": [
    "def greet(name):\n",
    "    print(f\"Hello, {name}\")\n",
    "greet (\"sambay!\")"
   ]
  },
  {
   "cell_type": "code",
   "execution_count": 8,
   "id": "17047a0e",
   "metadata": {},
   "outputs": [
    {
     "name": "stdout",
     "output_type": "stream",
     "text": [
      "7\n"
     ]
    }
   ],
   "source": [
    "def sum(a, b):\n",
    "    s = a + b\n",
    "    return s\n",
    "s = sum(3, 4)\n",
    "print(s)"
   ]
  },
  {
   "cell_type": "code",
   "execution_count": null,
   "id": "4e4402ca",
   "metadata": {},
   "outputs": [
    {
     "name": "stdout",
     "output_type": "stream",
     "text": [
      "Alice\n",
      "29\n"
     ]
    }
   ],
   "source": [
    "# Encapsulation\n",
    "\n",
    "class Person:                               # Defining Class\n",
    "    def __init__(self,name,age):             # Initializing attribute\n",
    "        self.__name = name\n",
    "        self.__age = age\n",
    "\n",
    "    def get_name(self):                     # Creating a Method Using Getter Method\n",
    "        return self.__name\n",
    "\n",
    "    def set_age(self,age):                   # Creating a Method using Setter Method\n",
    "        if age > 0:\n",
    "            self.__age = age\n",
    "        else:\n",
    "            print(\"Age must be Positive\") \n",
    "\n",
    "    def get_age(self):                       # Changing into Getter Method\n",
    "        return self.__age\n",
    "\n",
    "p = Person(\"Alice\", 29)                   # Creating an Object\n",
    "\n",
    "print(p.get_name())                        # Calling Method\n",
    "print(p.get_age())  \n",
    "\n",
    "\n",
    "\n",
    "        \n",
    "\n",
    "\n",
    "\n",
    "\n",
    "\n",
    "   \n",
    "\n",
    "\n",
    "\n"
   ]
  },
  {
   "cell_type": "code",
   "execution_count": 1,
   "id": "d9b9f0f2",
   "metadata": {},
   "outputs": [
    {
     "name": "stdout",
     "output_type": "stream",
     "text": [
      "Alice\n",
      "25\n",
      "30\n"
     ]
    }
   ],
   "source": [
    "class Person:\n",
    "    def __init__(self, name, age):\n",
    "        self.__name = name  # Private attribute\n",
    "        self.__age = age  # Private attribute\n",
    "\n",
    "    # Getter method for name\n",
    "    def get_name(self):\n",
    "        return self.__name\n",
    "\n",
    "# Setter method for age with validation\n",
    "    def set_age(self, age):\n",
    "        if age > 0:\n",
    "            self.__age = age\n",
    "        else:\n",
    "            print(\"Age must be positive!\")\n",
    "\n",
    "    # Getter method for age\n",
    "    def get_age(self):\n",
    "        return self.__age\n",
    "# Creating an instance of Person\n",
    "p = Person(\"Alice\", 25)\n",
    "\n",
    "# Accessing private attributes using getter methods\n",
    "print(p.get_name())  # Alice\n",
    "print(p.get_age())   # 25\n",
    "\n",
    "# Modifying private attributes using setter methods\n",
    "p.set_age(30)\n",
    "print(p.get_age())   # 30\n"
   ]
  },
  {
   "cell_type": "code",
   "execution_count": 15,
   "id": "1716b696",
   "metadata": {},
   "outputs": [
    {
     "name": "stdout",
     "output_type": "stream",
     "text": [
      "Hari\n",
      "25\n",
      "30\n"
     ]
    }
   ],
   "source": [
    "class Person:\n",
    "    def __init__(self, name, age):        # Initializing attribute\n",
    "        self.__name = name              #Private attriute\n",
    "        self.__age = age\n",
    "\n",
    "# Using Getter method for name\n",
    "    def get_name(self):\n",
    "        return self.__name\n",
    "\n",
    "# Using Setter method for age\n",
    "    def set_age(self,age):\n",
    "        if age > 0:\n",
    "            self.__age = age\n",
    "        else:\n",
    "            print(\"Age must be Positive!\")\n",
    "\n",
    "#Using Getter Method for age\n",
    "    def get_age(self):\n",
    "        return self.__age \n",
    "# Creating an object\n",
    "    p = Person(\"Hari\", 25)\n",
    "# calling an Getter method\n",
    "    print(p.get_name())\n",
    "    print(p.get_age())\n",
    "# Calling Setter Method\n",
    "    p.set_age(30)\n",
    "    print(p.get_age())"
   ]
  },
  {
   "cell_type": "code",
   "execution_count": 2,
   "id": "0220cb55",
   "metadata": {},
   "outputs": [
    {
     "name": "stdout",
     "output_type": "stream",
     "text": [
      "New speed: 70 km/h\n",
      "70\n"
     ]
    }
   ],
   "source": [
    "class Car:\n",
    "    def __init__(self, brand, speed):\n",
    "        self.brand = brand  # Public attribute\n",
    "        self.__speed = speed  # Private attribute (encapsulated)\n",
    "\n",
    "    def accelerate(self, increase):\n",
    "        self.__speed += increase\n",
    "        return f\"New speed: {self.__speed} km/h\"\n",
    "\n",
    "    def get_speed(self):\n",
    "        return self.__speed  # Encapsulated access to speed\n",
    "# Creating an instance\n",
    "p = Car(\"Toyota\", 50)\n",
    "\n",
    "print(p.accelerate(20))  # Works fine\n",
    "print(p.get_speed())  # Works fine\n",
    "\n"
   ]
  }
 ],
 "metadata": {
  "kernelspec": {
   "display_name": "Python 3",
   "language": "python",
   "name": "python3"
  },
  "language_info": {
   "codemirror_mode": {
    "name": "ipython",
    "version": 3
   },
   "file_extension": ".py",
   "mimetype": "text/x-python",
   "name": "python",
   "nbconvert_exporter": "python",
   "pygments_lexer": "ipython3",
   "version": "3.10.11"
  }
 },
 "nbformat": 4,
 "nbformat_minor": 5
}
