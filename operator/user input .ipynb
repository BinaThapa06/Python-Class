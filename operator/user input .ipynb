{
 "cells": [
  {
   "cell_type": "markdown",
   "id": "2e842328-2051-48ff-9392-fe3c8839c859",
   "metadata": {},
   "source": [
    "# User Input"
   ]
  },
  {
   "cell_type": "code",
   "execution_count": 2,
   "id": "af007115-d4cf-4b1c-b204-e631e52f3c6e",
   "metadata": {},
   "outputs": [
    {
     "name": "stdin",
     "output_type": "stream",
     "text": [
      "Enter your age: 21\n"
     ]
    },
    {
     "name": "stdout",
     "output_type": "stream",
     "text": [
      " You are above 18.\n"
     ]
    }
   ],
   "source": [
    "age = int(input (\"Enter your age:\"))\n",
    "COND = 18\n",
    "\n",
    "# age = int(age)\n",
    "if age < COND:\n",
    "    print(\"You are below 18 {COND}.\")\n",
    "elif age > COND:\n",
    "    print(f\" You are above {COND}.\")\n",
    "else:\n",
    "    print(\"You are above 18.\")"
   ]
  },
  {
   "cell_type": "markdown",
   "id": "7689f349-3901-417a-b6ae-b6e89cd8a4e7",
   "metadata": {},
   "source": [
    "# Exception Handling"
   ]
  },
  {
   "cell_type": "code",
   "execution_count": 5,
   "id": "72707f8c-2dcb-44c4-aa14-345ecbd2df75",
   "metadata": {},
   "outputs": [
    {
     "name": "stdin",
     "output_type": "stream",
     "text": [
      "Enter your age: twelve\n"
     ]
    },
    {
     "name": "stdout",
     "output_type": "stream",
     "text": [
      "Invalid input\n"
     ]
    }
   ],
   "source": [
    "# Handling global exception\n",
    "COND = 18\n",
    "try:\n",
    "    age = int(input (\"Enter your age:\"))\n",
    "\n",
    "# age = int(age)\n",
    "    if age < COND:\n",
    "        print(\"You are below {COND}.\")\n",
    "    elif age > COND:\n",
    "        print(f\" You are above {COND}.\")\n",
    "    else:\n",
    "        print(\"You are above {COND}.\")\n",
    "except:\n",
    "    print(\"Invalid input\")"
   ]
  },
  {
   "cell_type": "code",
   "execution_count": 8,
   "id": "299270f1-af5c-4ac6-a659-5f5307dbd767",
   "metadata": {},
   "outputs": [
    {
     "name": "stdin",
     "output_type": "stream",
     "text": [
      "Enter your age: 28\n"
     ]
    },
    {
     "name": "stdout",
     "output_type": "stream",
     "text": [
      " You are above 18.\n",
      "Done\n"
     ]
    }
   ],
   "source": [
    "# Handling global exception\n",
    "COND = 18\n",
    "try:\n",
    "    age = int(input (\"Enter your age:\"))\n",
    "\n",
    "# age = int(age)\n",
    "    if age < COND:\n",
    "        print(\"You are below {COND}.\")\n",
    "    elif age > COND:\n",
    "        print(f\" You are above {COND}.\")\n",
    "    else:\n",
    "        print(\"You are above {COND}.\")\n",
    "except ValueError:\n",
    "    print(\"Input must be integer\")\n",
    "except:\n",
    "    print(\"Something Wrong\")\n",
    "finally:\n",
    "    print(\"Done\")"
   ]
  },
  {
   "cell_type": "code",
   "execution_count": null,
   "id": "cb94706d-b997-4990-bef0-060efce8c24f",
   "metadata": {},
   "outputs": [],
   "source": [
    "# WAP that takes two integers as Input, and find out their division. Use exception handling "
   ]
  },
  {
   "cell_type": "code",
   "execution_count": 9,
   "id": "4e574e63-8c29-4932-a835-7bf8b60cf5ac",
   "metadata": {},
   "outputs": [
    {
     "name": "stdout",
     "output_type": "stream",
     "text": [
      "2.0\n"
     ]
    }
   ],
   "source": [
    "a = 6\n",
    "b = 3\n",
    "print(a/b)"
   ]
  },
  {
   "cell_type": "code",
   "execution_count": 5,
   "id": "25c30af3-02aa-4074-a68c-11290c9386b8",
   "metadata": {},
   "outputs": [
    {
     "name": "stdin",
     "output_type": "stream",
     "text": [
      "Enter First number: 20\n",
      "Enter Second number: 30\n"
     ]
    },
    {
     "name": "stdout",
     "output_type": "stream",
     "text": [
      "20 / 30 = 0.6666666666666666\n"
     ]
    }
   ],
   "source": [
    "try:\n",
    "    a = int(input (\"Enter First number:\"))\n",
    "    b = int(input (\"Enter Second number:\"))\n",
    "\n",
    "    result = a/b\n",
    "    print (f\"{a} / {b} = {result}\")\n",
    "except ValueError:\n",
    "    print(\"Hint: Enter Valid\")\n",
    "except ZeroDivisionError:\n",
    "    print(\"Hint: Can not divide by 0\")\n",
    "except:\n",
    "    print(\"Something wrong, try again.\")\n",
    "\n",
    "\n"
   ]
  },
  {
   "cell_type": "code",
   "execution_count": null,
   "id": "6ce889e4-ae78-4c27-91c2-e14c794fe9d3",
   "metadata": {},
   "outputs": [],
   "source": []
  }
 ],
 "metadata": {
  "kernelspec": {
   "display_name": "Python 3 (ipykernel)",
   "language": "python",
   "name": "python3"
  },
  "language_info": {
   "codemirror_mode": {
    "name": "ipython",
    "version": 3
   },
   "file_extension": ".py",
   "mimetype": "text/x-python",
   "name": "python",
   "nbconvert_exporter": "python",
   "pygments_lexer": "ipython3",
   "version": "3.10.11"
  }
 },
 "nbformat": 4,
 "nbformat_minor": 5
}
