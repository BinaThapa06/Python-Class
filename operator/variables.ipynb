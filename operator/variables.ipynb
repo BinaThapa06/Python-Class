{
 "cells": [
  {
   "cell_type": "markdown",
   "id": "5f63ace9-7c2e-4837-9082-7c5c97bb86a2",
   "metadata": {},
   "source": [
    "# keywords,Identifiers and Variables, Data types\n",
    "keywords: Reserved words that have a specific meaning, 35 Keywords\n",
    "\n",
    "Identifiers: User define names to represent a variable, function, class or any object\n",
    "Naming convensions for identifiers:\n",
    "- lowercase (a to z)and uppercase (A to Z) letters\n",
    "- digits (0 to 9)\n",
    "- can have underscore (-)\n",
    "- can not use any other special characters\n",
    "- can not start with digits\n",
    "- should not use keywords as identifiers\n",
    "\n",
    "  Variables: Represents an entity whose value can change"
   ]
  },
  {
   "cell_type": "code",
   "execution_count": 10,
   "id": "d5e613d4-78ba-4bf7-89c7-e1cda0b74349",
   "metadata": {},
   "outputs": [
    {
     "name": "stdout",
     "output_type": "stream",
     "text": [
      "['False', 'None', 'True', 'and', 'as', 'assert', 'async', 'await', 'break', 'class', 'continue', 'def', 'del', 'elif', 'else', 'except', 'finally', 'for', 'from', 'global', 'if', 'import', 'in', 'is', 'lambda', 'nonlocal', 'not', 'or', 'pass', 'raise', 'return', 'try', 'while', 'with', 'yield']\n",
      "35\n"
     ]
    }
   ],
   "source": [
    "import keyword\n",
    "print(keyword.kwlist)\n",
    "print(len(keyword.kwlist))"
   ]
  },
  {
   "cell_type": "code",
   "execution_count": 16,
   "id": "8b04b06e-0b6a-4709-8727-f54caf2b2491",
   "metadata": {},
   "outputs": [],
   "source": [
    "name = \"Hari\""
   ]
  },
  {
   "cell_type": "code",
   "execution_count": null,
   "id": "6fe7f65f-8273-45c4-ac9b-0b82f3a758cc",
   "metadata": {},
   "outputs": [],
   "source": [
    "# 3name = \"Hari\" : can not use"
   ]
  },
  {
   "cell_type": "code",
   "execution_count": 12,
   "id": "9b5becfa-97ad-4872-896f-81d2a497c6e7",
   "metadata": {},
   "outputs": [],
   "source": [
    "_name = \"Gopal\""
   ]
  },
  {
   "cell_type": "code",
   "execution_count": 13,
   "id": "aa28a9ce-2ac4-413d-a01a-b68dc38b257e",
   "metadata": {},
   "outputs": [],
   "source": [
    "Name= \"Shyam\""
   ]
  },
  {
   "cell_type": "code",
   "execution_count": 17,
   "id": "3dc8e413-2709-4dea-a109-af592e2bcd5d",
   "metadata": {},
   "outputs": [
    {
     "name": "stdout",
     "output_type": "stream",
     "text": [
      "Hari\n",
      "Shyam\n"
     ]
    }
   ],
   "source": [
    "print(name)\n",
    "print(Name)"
   ]
  },
  {
   "cell_type": "code",
   "execution_count": 18,
   "id": "aac4b5a9-6f18-44fc-87e8-83a4297b27f8",
   "metadata": {},
   "outputs": [
    {
     "name": "stdout",
     "output_type": "stream",
     "text": [
      "Hari Shyam\n"
     ]
    }
   ],
   "source": [
    "print(name, Name)"
   ]
  },
  {
   "cell_type": "code",
   "execution_count": 19,
   "id": "06f1a074-5cad-4bac-b875-5445d8b9f2a7",
   "metadata": {},
   "outputs": [
    {
     "data": {
      "text/plain": [
       "'Radha'"
      ]
     },
     "execution_count": 19,
     "metadata": {},
     "output_type": "execute_result"
    }
   ],
   "source": [
    "name= \"Radha\"\n",
    "name"
   ]
  },
  {
   "cell_type": "code",
   "execution_count": 39,
   "id": "67405318-1343-4ce7-b83d-9ebf0beddd48",
   "metadata": {},
   "outputs": [
    {
     "data": {
      "text/plain": [
       "'Gita'"
      ]
     },
     "execution_count": 39,
     "metadata": {},
     "output_type": "execute_result"
    }
   ],
   "source": [
    "name= \"Gita\"\n",
    "name"
   ]
  },
  {
   "cell_type": "code",
   "execution_count": 21,
   "id": "751b57eb-b097-47af-9220-5413f5671e4a",
   "metadata": {},
   "outputs": [
    {
     "data": {
      "text/plain": [
       "'Gita'"
      ]
     },
     "execution_count": 21,
     "metadata": {},
     "output_type": "execute_result"
    }
   ],
   "source": [
    "name"
   ]
  },
  {
   "cell_type": "code",
   "execution_count": 23,
   "id": "87c80571-368f-46e1-b126-8e8df16f2d73",
   "metadata": {},
   "outputs": [],
   "source": [
    "a, b, c, d= (3, 4, 5, 6)"
   ]
  },
  {
   "cell_type": "code",
   "execution_count": 24,
   "id": "c8d6b5d0-04fe-43ce-b7b3-3409049bc983",
   "metadata": {},
   "outputs": [
    {
     "name": "stdout",
     "output_type": "stream",
     "text": [
      "3 4 5 6\n"
     ]
    }
   ],
   "source": [
    "print(a, b, c, d)"
   ]
  },
  {
   "cell_type": "code",
   "execution_count": 25,
   "id": "d03acb27-00c8-466f-b741-91d94704b88c",
   "metadata": {},
   "outputs": [],
   "source": [
    "PI = 3.14"
   ]
  },
  {
   "cell_type": "raw",
   "id": "49095c87-766d-44bc-a6bc-f9e33d6c2bbb",
   "metadata": {},
   "source": [
    "sum_of_numbers  # Snake case\n",
    "sumofNumbers  # camel case \n",
    "SumofNumbers  # Pascal case\n",
    "\n",
    "Snake Case: variables, fumctions\n",
    "Pascal Case: Class"
   ]
  },
  {
   "cell_type": "code",
   "execution_count": 35,
   "id": "5fbf7c11-3ad4-4367-bbda-766408c0fbb1",
   "metadata": {},
   "outputs": [
    {
     "data": {
      "text/plain": [
       "'STN'"
      ]
     },
     "execution_count": 35,
     "metadata": {},
     "output_type": "execute_result"
    }
   ],
   "source": [
    "P = \"STN\"\n",
    "P"
   ]
  },
  {
   "cell_type": "code",
   "execution_count": 36,
   "id": "0f1d37e6-35d1-49a0-9f08-dcce6cf6a86d",
   "metadata": {},
   "outputs": [
    {
     "data": {
      "text/plain": [
       "5"
      ]
     },
     "execution_count": 36,
     "metadata": {},
     "output_type": "execute_result"
    }
   ],
   "source": [
    "p = 5\n",
    "p"
   ]
  },
  {
   "cell_type": "code",
   "execution_count": 37,
   "id": "4fedaccb-a14c-44f3-9e9b-e262d40e6e9b",
   "metadata": {},
   "outputs": [
    {
     "data": {
      "text/plain": [
       "5.5"
      ]
     },
     "execution_count": 37,
     "metadata": {},
     "output_type": "execute_result"
    }
   ],
   "source": [
    "p = 5.5\n",
    "p"
   ]
  },
  {
   "cell_type": "code",
   "execution_count": 40,
   "id": "d9b187b8-5fe5-45ab-9442-19342712aa72",
   "metadata": {},
   "outputs": [
    {
     "data": {
      "text/plain": [
       "('Gita', 'Hari')"
      ]
     },
     "execution_count": 40,
     "metadata": {},
     "output_type": "execute_result"
    }
   ],
   "source": [
    "p, q = name, \"Hari\"\n",
    "p,q"
   ]
  },
  {
   "cell_type": "code",
   "execution_count": 41,
   "id": "2bab9043-8b7b-46c2-a262-4f985472ca58",
   "metadata": {},
   "outputs": [
    {
     "data": {
      "text/plain": [
       "str"
      ]
     },
     "execution_count": 41,
     "metadata": {},
     "output_type": "execute_result"
    }
   ],
   "source": [
    "type(name)"
   ]
  },
  {
   "cell_type": "code",
   "execution_count": 43,
   "id": "cc3ccfee-894e-4e63-bb12-88b32d7d08f2",
   "metadata": {},
   "outputs": [
    {
     "name": "stdout",
     "output_type": "stream",
     "text": [
      "<class 'str'>\n"
     ]
    },
    {
     "data": {
      "text/plain": [
       "str"
      ]
     },
     "execution_count": 43,
     "metadata": {},
     "output_type": "execute_result"
    }
   ],
   "source": [
    "name= \"Sita\"\n",
    "print(type(name))\n",
    "type(name)"
   ]
  },
  {
   "cell_type": "code",
   "execution_count": 44,
   "id": "8c0e7c85-21a4-469f-b40d-f9a9a1743b17",
   "metadata": {},
   "outputs": [
    {
     "name": "stdout",
     "output_type": "stream",
     "text": [
      "<class 'int'>\n"
     ]
    }
   ],
   "source": [
    "num = 6\n",
    "print(type(num))"
   ]
  },
  {
   "cell_type": "code",
   "execution_count": 46,
   "id": "a473526c-f25a-4628-9315-c5786bda1637",
   "metadata": {},
   "outputs": [
    {
     "name": "stdout",
     "output_type": "stream",
     "text": [
      "<class 'int'>\n"
     ]
    }
   ],
   "source": [
    "num = 6\n",
    "print(type(num))"
   ]
  },
  {
   "cell_type": "code",
   "execution_count": 47,
   "id": "dd75d9fa-3680-4dc8-9928-040bc0b48cbe",
   "metadata": {},
   "outputs": [
    {
     "name": "stdout",
     "output_type": "stream",
     "text": [
      "<class 'float'>\n"
     ]
    }
   ],
   "source": [
    "num1 = 6.5\n",
    "print (type(num1))"
   ]
  },
  {
   "cell_type": "code",
   "execution_count": 48,
   "id": "619f7409-d3b2-4ace-a2c5-f2cd4acff7f3",
   "metadata": {},
   "outputs": [
    {
     "name": "stdout",
     "output_type": "stream",
     "text": [
      "<class 'int'>\n"
     ]
    }
   ],
   "source": [
    "name = 7\n",
    "print(type(name))"
   ]
  },
  {
   "cell_type": "code",
   "execution_count": 49,
   "id": "ee521000-32f7-4c82-bcb3-ae50d8d35d4f",
   "metadata": {},
   "outputs": [
    {
     "name": "stdout",
     "output_type": "stream",
     "text": [
      "<class 'bool'>\n",
      "<class 'bool'>\n"
     ]
    }
   ],
   "source": [
    "print(type(True))\n",
    "print(type(False))"
   ]
  },
  {
   "cell_type": "code",
   "execution_count": 51,
   "id": "ab73588f-584c-4bb5-b768-07f034f0ee5f",
   "metadata": {},
   "outputs": [
    {
     "name": "stdout",
     "output_type": "stream",
     "text": [
      "<class 'tuple'>\n"
     ]
    }
   ],
   "source": [
    "numbers = (3, 4, 5, 6)\n",
    "print(type(numbers))"
   ]
  },
  {
   "cell_type": "code",
   "execution_count": 52,
   "id": "45768b2f-3ebd-436a-b002-b1b561a9e4c9",
   "metadata": {},
   "outputs": [
    {
     "name": "stdout",
     "output_type": "stream",
     "text": [
      "<class 'list'>\n"
     ]
    }
   ],
   "source": [
    "numbers = [3, 4, 5, 6]\n",
    "print(type(numbers))"
   ]
  },
  {
   "cell_type": "code",
   "execution_count": 53,
   "id": "84f963fd-3587-488c-a0ff-3bca7ffeeee2",
   "metadata": {},
   "outputs": [
    {
     "name": "stdout",
     "output_type": "stream",
     "text": [
      "<class 'set'>\n"
     ]
    }
   ],
   "source": [
    "numbers = {3, 4, 5, 6}\n",
    "print(type(numbers))"
   ]
  },
  {
   "cell_type": "code",
   "execution_count": 54,
   "id": "cdc8c837-ccaa-4430-9aad-d0a109803ae8",
   "metadata": {},
   "outputs": [
    {
     "name": "stdout",
     "output_type": "stream",
     "text": [
      "<class 'dict'>\n"
     ]
    }
   ],
   "source": [
    "numbers = {3: \"Three\", 4: \"Four\", 5: \"Five\", 6: \"Six\"}\n",
    "print(type(numbers))"
   ]
  },
  {
   "cell_type": "code",
   "execution_count": 56,
   "id": "afbe4560-01c7-40d5-a494-08ba2b6bfd3c",
   "metadata": {},
   "outputs": [
    {
     "data": {
      "text/plain": [
       "'Skill Training Nepal'"
      ]
     },
     "execution_count": 56,
     "metadata": {},
     "output_type": "execute_result"
    }
   ],
   "source": [
    "stn = \"Skill Training Nepal\"\n",
    "stn"
   ]
  },
  {
   "cell_type": "code",
   "execution_count": 62,
   "id": "e71ef78c-91fb-43d5-bef6-4c3ad8e0968b",
   "metadata": {},
   "outputs": [
    {
     "name": "stdout",
     "output_type": "stream",
     "text": [
      "S\n",
      "20\n",
      "l\n",
      "l\n"
     ]
    }
   ],
   "source": [
    "# string slicing\n",
    "print (stn [0])\n",
    "print(len (stn))\n",
    "print (stn [19])\n",
    "print (stn [-1])"
   ]
  },
  {
   "cell_type": "code",
   "execution_count": 65,
   "id": "f393bb77-1cf7-4330-abc8-682b137014c0",
   "metadata": {},
   "outputs": [
    {
     "data": {
      "text/plain": [
       "'Training'"
      ]
     },
     "execution_count": 65,
     "metadata": {},
     "output_type": "execute_result"
    }
   ],
   "source": [
    "stn[6:14]\n"
   ]
  },
  {
   "cell_type": "code",
   "execution_count": 67,
   "id": "ddc1c555-6824-416b-b2ed-cba87c05bdff",
   "metadata": {},
   "outputs": [
    {
     "data": {
      "text/plain": [
       "'Skill'"
      ]
     },
     "execution_count": 67,
     "metadata": {},
     "output_type": "execute_result"
    }
   ],
   "source": [
    "stn[0:5]"
   ]
  },
  {
   "cell_type": "code",
   "execution_count": 69,
   "id": "7b649422-443f-4a5d-8332-f1db16a7933f",
   "metadata": {},
   "outputs": [
    {
     "data": {
      "text/plain": [
       "'Skill'"
      ]
     },
     "execution_count": 69,
     "metadata": {},
     "output_type": "execute_result"
    }
   ],
   "source": [
    "stn[:5]"
   ]
  },
  {
   "cell_type": "code",
   "execution_count": 73,
   "id": "e93e9e45-d33b-4917-907b-797c2b527b9d",
   "metadata": {},
   "outputs": [
    {
     "data": {
      "text/plain": [
       "'Nepal'"
      ]
     },
     "execution_count": 73,
     "metadata": {},
     "output_type": "execute_result"
    }
   ],
   "source": [
    "nep = stn [15:]\n",
    "nep"
   ]
  },
  {
   "cell_type": "code",
   "execution_count": 75,
   "id": "fac81a2c-7236-4aee-9096-cbfb24981564",
   "metadata": {},
   "outputs": [
    {
     "data": {
      "text/plain": [
       "dict_keys([3, 4, 5, 6])"
      ]
     },
     "execution_count": 75,
     "metadata": {},
     "output_type": "execute_result"
    }
   ],
   "source": [
    "numbers.keys()"
   ]
  },
  {
   "cell_type": "code",
   "execution_count": 76,
   "id": "2c8e2795-8b54-4158-895c-b55b58aa5984",
   "metadata": {},
   "outputs": [
    {
     "data": {
      "text/plain": [
       "dict_values(['Three', 'Four', 'Five', 'Six'])"
      ]
     },
     "execution_count": 76,
     "metadata": {},
     "output_type": "execute_result"
    }
   ],
   "source": [
    "numbers.values()"
   ]
  },
  {
   "cell_type": "code",
   "execution_count": 77,
   "id": "b4a1623c-5cd9-4fe1-bcab-ad1911d34885",
   "metadata": {},
   "outputs": [
    {
     "data": {
      "text/plain": [
       "'Three'"
      ]
     },
     "execution_count": 77,
     "metadata": {},
     "output_type": "execute_result"
    }
   ],
   "source": [
    "numbers[3]"
   ]
  },
  {
   "cell_type": "code",
   "execution_count": 1,
   "id": "384ac51c-5a6e-4d15-9237-d9391e28bc81",
   "metadata": {},
   "outputs": [
    {
     "name": "stdout",
     "output_type": "stream",
     "text": [
      "<class 'int'>\n"
     ]
    }
   ],
   "source": [
    "x=10\n",
    "print(type(x))"
   ]
  },
  {
   "cell_type": "code",
   "execution_count": 2,
   "id": "57844026-b09c-45ea-8285-05a8ab1e1d57",
   "metadata": {},
   "outputs": [
    {
     "name": "stdout",
     "output_type": "stream",
     "text": [
      "<class 'float'>\n"
     ]
    }
   ],
   "source": [
    "y=10.5\n",
    "print(type(y))"
   ]
  },
  {
   "cell_type": "code",
   "execution_count": 3,
   "id": "bc4f8833-8acb-4ba0-8085-e2e50c101d1a",
   "metadata": {},
   "outputs": [
    {
     "name": "stdout",
     "output_type": "stream",
     "text": [
      "<class 'complex'>\n"
     ]
    }
   ],
   "source": [
    "z=3+4j\n",
    "print(type(z))"
   ]
  },
  {
   "cell_type": "code",
   "execution_count": 4,
   "id": "afafc42e-6854-4288-927a-284e421f87b1",
   "metadata": {},
   "outputs": [
    {
     "name": "stdout",
     "output_type": "stream",
     "text": [
      "<class 'str'>\n"
     ]
    }
   ],
   "source": [
    "name = \"Alice\"\n",
    "print(type(name))"
   ]
  },
  {
   "cell_type": "code",
   "execution_count": 5,
   "id": "2b710432-3237-475d-8d8f-e8b4ec21e02e",
   "metadata": {},
   "outputs": [
    {
     "name": "stdout",
     "output_type": "stream",
     "text": [
      "<class 'bool'>\n"
     ]
    }
   ],
   "source": [
    " is_python_fun = True\n",
    "print(type(is_python_fun))"
   ]
  },
  {
   "cell_type": "code",
   "execution_count": 6,
   "id": "44dbe7e7-aa37-4bdb-8b54-7639e93c03cd",
   "metadata": {},
   "outputs": [
    {
     "name": "stdout",
     "output_type": "stream",
     "text": [
      "<class 'list'>\n"
     ]
    }
   ],
   "source": [
    "fruits = [\"apple\", \"banana\", \"cherry\"]\n",
    "print (type(fruits))"
   ]
  },
  {
   "cell_type": "code",
   "execution_count": 12,
   "id": "83dc307e-ba09-4cec-a87b-6368464a1ce4",
   "metadata": {},
   "outputs": [
    {
     "name": "stdout",
     "output_type": "stream",
     "text": [
      "apple\n"
     ]
    }
   ],
   "source": [
    "fruits = [\"apple\", \"banana\", \"cherry\"]\n",
    "print ( fruits[0])"
   ]
  },
  {
   "cell_type": "code",
   "execution_count": 24,
   "id": "5eca436f-da7a-48e2-bb28-f1150d2ceecf",
   "metadata": {},
   "outputs": [
    {
     "name": "stdout",
     "output_type": "stream",
     "text": [
      "banana\n",
      "cherry\n"
     ]
    }
   ],
   "source": [
    "print (fruits[1])\n",
    "print (fruits[2])"
   ]
  },
  {
   "cell_type": "code",
   "execution_count": 7,
   "id": "ffe0c2a8-9ea7-444d-bf66-210f12682a12",
   "metadata": {},
   "outputs": [
    {
     "name": "stdout",
     "output_type": "stream",
     "text": [
      "<class 'tuple'>\n"
     ]
    }
   ],
   "source": [
    "coordinates = (10, 20)\n",
    "print (type(coordinates))"
   ]
  },
  {
   "cell_type": "code",
   "execution_count": 8,
   "id": "e1b7ca79-7035-4aea-ac8a-0bd2cf8a9907",
   "metadata": {},
   "outputs": [
    {
     "name": "stdout",
     "output_type": "stream",
     "text": [
      "<class 'range'>\n"
     ]
    }
   ],
   "source": [
    "numbers = range(5)\n",
    "print (type(numbers))"
   ]
  },
  {
   "cell_type": "code",
   "execution_count": 10,
   "id": "b1b61bc1-355b-47e3-9f95-aba6a003f85b",
   "metadata": {},
   "outputs": [
    {
     "name": "stdout",
     "output_type": "stream",
     "text": [
      "<class 'set'>\n"
     ]
    }
   ],
   "source": [
    "colors = {\"red\", \"blue\", \"green\"}\n",
    "print (type(colors))"
   ]
  },
  {
   "cell_type": "code",
   "execution_count": 7,
   "id": "9a517827-af8b-4a64-b8bc-2dc3fdafff5b",
   "metadata": {},
   "outputs": [
    {
     "name": "stdout",
     "output_type": "stream",
     "text": [
      "<class 'dict'>\n"
     ]
    }
   ],
   "source": [
    "person = {\"name\": \"Alice\", \"age\": 25}\n",
    "print (type(person))"
   ]
  },
  {
   "cell_type": "code",
   "execution_count": 14,
   "id": "13a1b079-e155-4841-ad39-07e84052191a",
   "metadata": {},
   "outputs": [
    {
     "name": "stdout",
     "output_type": "stream",
     "text": [
      "<class 'NoneType'>\n"
     ]
    }
   ],
   "source": [
    "x = None\n",
    "print(type(x))"
   ]
  },
  {
   "cell_type": "code",
   "execution_count": 25,
   "id": "4c256b9e-f824-47f5-be6c-7b6be03118ff",
   "metadata": {},
   "outputs": [
    {
     "name": "stdout",
     "output_type": "stream",
     "text": [
      "Alice\n",
      "25\n"
     ]
    }
   ],
   "source": [
    "person = {\"name\": \"Alice\",  \"age\": 25}\n",
    "print(person [\"name\"]) \n",
    "print(person[\"age\"])"
   ]
  },
  {
   "cell_type": "code",
   "execution_count": 27,
   "id": "546fd97f-c325-4865-a474-7b6a0bf6cc50",
   "metadata": {},
   "outputs": [
    {
     "name": "stdout",
     "output_type": "stream",
     "text": [
      "<class 'dict'>\n"
     ]
    }
   ],
   "source": [
    "person = {\"name\": \"Alice\",  \"age\": 25}\n",
    "print(type(person)) "
   ]
  },
  {
   "cell_type": "code",
   "execution_count": 28,
   "id": "626a7524-5fd5-440e-a0c8-320971c22254",
   "metadata": {},
   "outputs": [
    {
     "data": {
      "text/plain": [
       "dict_keys(['name', 'age'])"
      ]
     },
     "execution_count": 28,
     "metadata": {},
     "output_type": "execute_result"
    }
   ],
   "source": [
    "person = {\"name\": \"Alice\",  \"age\": 25}\n",
    "person.keys()"
   ]
  },
  {
   "cell_type": "code",
   "execution_count": 29,
   "id": "26f0c451-6b6b-4091-b1fc-68f7166becd5",
   "metadata": {},
   "outputs": [
    {
     "data": {
      "text/plain": [
       "dict_values(['Alice', 25])"
      ]
     },
     "execution_count": 29,
     "metadata": {},
     "output_type": "execute_result"
    }
   ],
   "source": [
    "person.values()"
   ]
  },
  {
   "cell_type": "code",
   "execution_count": 5,
   "id": "9369d64d-8ac0-4516-8d10-f130cb1d2b23",
   "metadata": {},
   "outputs": [
    {
     "name": "stdout",
     "output_type": "stream",
     "text": [
      "HELLO,PYTHON!\n"
     ]
    }
   ],
   "source": [
    "message=\"Hello,Python!\"\n",
    "print(message.upper())"
   ]
  },
  {
   "cell_type": "code",
   "execution_count": 6,
   "id": "78c558d5-dccc-4d36-bad5-7baab3f77338",
   "metadata": {},
   "outputs": [
    {
     "name": "stdout",
     "output_type": "stream",
     "text": [
      "hello,python!\n"
     ]
    }
   ],
   "source": [
    "message=\"Hello,Python!\"\n",
    "print(message.lower())"
   ]
  },
  {
   "cell_type": "code",
   "execution_count": 10,
   "id": "73aebe13-16a7-4d30-bf10-478b481414cc",
   "metadata": {},
   "outputs": [
    {
     "name": "stdout",
     "output_type": "stream",
     "text": [
      "<class 'int'>\n",
      "<class 'float'>\n",
      "<class 'complex'>\n"
     ]
    }
   ],
   "source": [
    "x=-5\n",
    "y=3.14\n",
    "z=1+2j\n",
    "print(type(x))\n",
    "print(type(y))\n",
    "print(type(z))"
   ]
  },
  {
   "cell_type": "code",
   "execution_count": 11,
   "id": "4198d86c-0d8f-48ce-96e9-3d6cc767552e",
   "metadata": {},
   "outputs": [
    {
     "name": "stdout",
     "output_type": "stream",
     "text": [
      "<class 'int'> <class 'float'> <class 'complex'>\n"
     ]
    }
   ],
   "source": [
    "x=-5\n",
    "y=3.14\n",
    "z=1+2j\n",
    "print(type(x),type(y),type(z))"
   ]
  },
  {
   "cell_type": "code",
   "execution_count": 13,
   "id": "c4cbfaf4-4a4e-4a24-b40c-fac2e74ce708",
   "metadata": {},
   "outputs": [
    {
     "data": {
      "text/plain": [
       "'Skill Training Nepal'"
      ]
     },
     "execution_count": 13,
     "metadata": {},
     "output_type": "execute_result"
    }
   ],
   "source": [
    "stn = \"Skill Training Nepal\"\n",
    "stn"
   ]
  },
  {
   "cell_type": "code",
   "execution_count": 16,
   "id": "fe93a6be-a430-4137-aee0-b24200ba7686",
   "metadata": {},
   "outputs": [
    {
     "name": "stdout",
     "output_type": "stream",
     "text": [
      "S\n",
      "l\n"
     ]
    }
   ],
   "source": [
    "print(stn[0])\n",
    "print(stn[-1])"
   ]
  },
  {
   "cell_type": "code",
   "execution_count": 22,
   "id": "003b8bdf-9a50-4363-bcc1-118077087f52",
   "metadata": {},
   "outputs": [
    {
     "name": "stdout",
     "output_type": "stream",
     "text": [
      "Skill\n",
      "Nepal\n",
      "Training\n",
      "20\n"
     ]
    }
   ],
   "source": [
    "print(stn[:5])\n",
    "print(stn[-5:])\n",
    "print(stn[6:14])\n",
    "print(len(stn))"
   ]
  },
  {
   "cell_type": "code",
   "execution_count": 3,
   "id": "a0eae0e5-955b-481a-82ff-30010aad17f2",
   "metadata": {},
   "outputs": [],
   "source": [
    "def add_numbers(a, b): \n",
    "    return a + b"
   ]
  },
  {
   "cell_type": "code",
   "execution_count": 4,
   "id": "f12f1865-a70c-426f-859a-1fce7fbcd83e",
   "metadata": {},
   "outputs": [
    {
     "name": "stdout",
     "output_type": "stream",
     "text": [
      "8\n"
     ]
    }
   ],
   "source": [
    "print (add_numbers(3, 5))"
   ]
  },
  {
   "cell_type": "code",
   "execution_count": 25,
   "id": "22ca083d-9bc0-4517-b9b9-9116e3fc82b3",
   "metadata": {},
   "outputs": [
    {
     "name": "stdout",
     "output_type": "stream",
     "text": [
      "You are eligible to vote.\n"
     ]
    }
   ],
   "source": [
    "\n",
    "age = 18\n",
    "if age >= 18:\n",
    "    print(\"You are eligible to vote.\")"
   ]
  },
  {
   "cell_type": "code",
   "execution_count": null,
   "id": "f722fb93-6154-4c0b-885b-803f1a0599ef",
   "metadata": {},
   "outputs": [],
   "source": [
    "if age >"
   ]
  }
 ],
 "metadata": {
  "kernelspec": {
   "display_name": "Python 3 (ipykernel)",
   "language": "python",
   "name": "python3"
  },
  "language_info": {
   "codemirror_mode": {
    "name": "ipython",
    "version": 3
   },
   "file_extension": ".py",
   "mimetype": "text/x-python",
   "name": "python",
   "nbconvert_exporter": "python",
   "pygments_lexer": "ipython3",
   "version": "3.10.11"
  }
 },
 "nbformat": 4,
 "nbformat_minor": 5
}
